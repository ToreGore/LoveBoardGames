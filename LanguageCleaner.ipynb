{
 "cells": [
  {
   "cell_type": "code",
   "execution_count": 420,
   "metadata": {},
   "outputs": [],
   "source": [
    "import nltk\n",
    "import string\n",
    "import import_ipynb\n",
    "import pandas as pnd\n",
    "import BggHelper as BH\n",
    "import BggDbGetter as BDG\n",
    "import BggDbScraper as BDS\n",
    "from textblob import TextBlob\n",
    "from langdetect import detect\n",
    "from tqdm.notebook import tqdm\n",
    "from iso_language_codes import *\n",
    "from nltk.corpus import stopwords\n",
    "from nltk.tokenize import word_tokenize\n",
    "from boardgamegeek import BoardGameGeek"
   ]
  },
  {
   "cell_type": "code",
   "execution_count": 515,
   "metadata": {},
   "outputs": [],
   "source": [
    "class LanguageOperator:\n",
    "    def __init__(self, dataframe, lang):\n",
    "        self._dataframe = dataframe\n",
    "        self._lang = lang\n",
    "        self._stopwords = set([word.replace(\"'\", \"\") for word in stopwords.words(language(lang)[\"Name\"].lower())])\n",
    "        self._punctuation = set(string.punctuation)\n",
    "    def useless_langs_remover(self, field):\n",
    "        ## This function removes every row in the dataframe not of the specified language\n",
    "        \"\"\"for row in tqdm(list(self._dataframe.iterrows())):\n",
    "            text = row[1][field]\n",
    "            if text == \"\" or text == \" \" or (not(detect(text) == self._lang)):\n",
    "                self._dataframe = df[df[field][:] != text]\n",
    "        return self\"\"\"\n",
    "        for i, row in tqdm((self._dataframe.iterrows())):\n",
    "            text = row[field]\n",
    "            if text == \"\" or text == \" \" or (not(detect(text) == self._lang)):\n",
    "                self._dataframe = self._dataframe.drop(index=i)\n",
    "        self._dataframe.reset_index(drop=True, inplace=True)\n",
    "        return self\n",
    "    def stopwords_removal(self, field): \n",
    "        for index, row in list(self._dataframe.iterrows()):\n",
    "            tokenized = word_tokenize(row[field].replace(\"'\", \"\"))\n",
    "            self._dataframe[field][index] = ([str(w).lower().replace(\"'\", \"\") for w in tokenized if not (w in self._stopwords or w in self._punctuation)])\n",
    "        return self\n",
    "    \n",
    "    def get_df(self):\n",
    "        return self._dataframe\n",
    "        "
   ]
  },
  {
   "cell_type": "code",
   "execution_count": 516,
   "metadata": {},
   "outputs": [],
   "source": [
    "d = {'col1': [\"The sky opened up as me and myself shat. it's folly!\", \"Mi chiamo Mario?\", \"I don't know where to start!\"], 'col2': [0, 1, 2]}\n",
    "df = pnd.DataFrame(data=d)"
   ]
  },
  {
   "cell_type": "code",
   "execution_count": 517,
   "metadata": {},
   "outputs": [],
   "source": [
    "a = LanguageOperator(df, \"en\")"
   ]
  },
  {
   "cell_type": "code",
   "execution_count": 518,
   "metadata": {},
   "outputs": [
    {
     "data": {
      "application/vnd.jupyter.widget-view+json": {
       "model_id": "8d876079515e41d897c1898b7fcdc36d",
       "version_major": 2,
       "version_minor": 0
      },
      "text/plain": [
       "HBox(children=(FloatProgress(value=1.0, bar_style='info', max=1.0), HTML(value='')))"
      ]
     },
     "metadata": {},
     "output_type": "display_data"
    },
    {
     "name": "stdout",
     "output_type": "stream",
     "text": [
      "\n"
     ]
    },
    {
     "data": {
      "text/html": [
       "<div>\n",
       "<style scoped>\n",
       "    .dataframe tbody tr th:only-of-type {\n",
       "        vertical-align: middle;\n",
       "    }\n",
       "\n",
       "    .dataframe tbody tr th {\n",
       "        vertical-align: top;\n",
       "    }\n",
       "\n",
       "    .dataframe thead th {\n",
       "        text-align: right;\n",
       "    }\n",
       "</style>\n",
       "<table border=\"1\" class=\"dataframe\">\n",
       "  <thead>\n",
       "    <tr style=\"text-align: right;\">\n",
       "      <th></th>\n",
       "      <th>col1</th>\n",
       "      <th>col2</th>\n",
       "    </tr>\n",
       "  </thead>\n",
       "  <tbody>\n",
       "    <tr>\n",
       "      <th>0</th>\n",
       "      <td>The sky opened up as me and myself shat. it's ...</td>\n",
       "      <td>0</td>\n",
       "    </tr>\n",
       "    <tr>\n",
       "      <th>1</th>\n",
       "      <td>I don't know where to start!</td>\n",
       "      <td>2</td>\n",
       "    </tr>\n",
       "  </tbody>\n",
       "</table>\n",
       "</div>"
      ],
      "text/plain": [
       "                                                col1  col2\n",
       "0  The sky opened up as me and myself shat. it's ...     0\n",
       "1                       I don't know where to start!     2"
      ]
     },
     "execution_count": 518,
     "metadata": {},
     "output_type": "execute_result"
    }
   ],
   "source": [
    "a = (a.useless_langs_remover(\"col1\"))#.stopwords_removal(\"col1\")\n",
    "a.get_df()"
   ]
  },
  {
   "cell_type": "markdown",
   "metadata": {},
   "source": [
    "### Time to preprocess"
   ]
  },
  {
   "cell_type": "code",
   "execution_count": 519,
   "metadata": {},
   "outputs": [],
   "source": [
    "sw = set(stopwords.words(\"english\"))"
   ]
  },
  {
   "cell_type": "code",
   "execution_count": 520,
   "metadata": {},
   "outputs": [
    {
     "data": {
      "text/plain": [
       "'english'"
      ]
     },
     "execution_count": 520,
     "metadata": {},
     "output_type": "execute_result"
    }
   ],
   "source": [
    "language(\"en\")[\"Name\"].lower()"
   ]
  },
  {
   "cell_type": "code",
   "execution_count": 521,
   "metadata": {},
   "outputs": [
    {
     "data": {
      "text/plain": [
       "0    The sky opened up as me and myself shat. it's ...\n",
       "1                         I don't know where to start!\n",
       "Name: col1, dtype: object"
      ]
     },
     "execution_count": 521,
     "metadata": {},
     "output_type": "execute_result"
    }
   ],
   "source": [
    "a.get_df()[\"col1\"]"
   ]
  },
  {
   "cell_type": "code",
   "execution_count": 522,
   "metadata": {},
   "outputs": [
    {
     "name": "stderr",
     "output_type": "stream",
     "text": [
      "/home/tore/venv/lib/python3.7/site-packages/ipykernel_launcher.py:23: SettingWithCopyWarning: \n",
      "A value is trying to be set on a copy of a slice from a DataFrame\n",
      "\n",
      "See the caveats in the documentation: https://pandas.pydata.org/pandas-docs/stable/user_guide/indexing.html#returning-a-view-versus-a-copy\n"
     ]
    }
   ],
   "source": [
    "a = a.stopwords_removal(\"col1\")\n"
   ]
  },
  {
   "cell_type": "code",
   "execution_count": 523,
   "metadata": {},
   "outputs": [
    {
     "data": {
      "text/html": [
       "<div>\n",
       "<style scoped>\n",
       "    .dataframe tbody tr th:only-of-type {\n",
       "        vertical-align: middle;\n",
       "    }\n",
       "\n",
       "    .dataframe tbody tr th {\n",
       "        vertical-align: top;\n",
       "    }\n",
       "\n",
       "    .dataframe thead th {\n",
       "        text-align: right;\n",
       "    }\n",
       "</style>\n",
       "<table border=\"1\" class=\"dataframe\">\n",
       "  <thead>\n",
       "    <tr style=\"text-align: right;\">\n",
       "      <th></th>\n",
       "      <th>col1</th>\n",
       "      <th>col2</th>\n",
       "    </tr>\n",
       "  </thead>\n",
       "  <tbody>\n",
       "    <tr>\n",
       "      <th>0</th>\n",
       "      <td>[the, sky, opened, shat, folly]</td>\n",
       "      <td>0</td>\n",
       "    </tr>\n",
       "    <tr>\n",
       "      <th>1</th>\n",
       "      <td>[i, know, start]</td>\n",
       "      <td>2</td>\n",
       "    </tr>\n",
       "  </tbody>\n",
       "</table>\n",
       "</div>"
      ],
      "text/plain": [
       "                              col1  col2\n",
       "0  [the, sky, opened, shat, folly]     0\n",
       "1                 [i, know, start]     2"
      ]
     },
     "execution_count": 523,
     "metadata": {},
     "output_type": "execute_result"
    }
   ],
   "source": [
    "a.get_df()"
   ]
  },
  {
   "cell_type": "code",
   "execution_count": null,
   "metadata": {},
   "outputs": [],
   "source": []
  }
 ],
 "metadata": {
  "kernelspec": {
   "display_name": "Python 3",
   "language": "python",
   "name": "python3"
  },
  "language_info": {
   "codemirror_mode": {
    "name": "ipython",
    "version": 3
   },
   "file_extension": ".py",
   "mimetype": "text/x-python",
   "name": "python",
   "nbconvert_exporter": "python",
   "pygments_lexer": "ipython3",
   "version": "3.7.5"
  }
 },
 "nbformat": 4,
 "nbformat_minor": 4
}
