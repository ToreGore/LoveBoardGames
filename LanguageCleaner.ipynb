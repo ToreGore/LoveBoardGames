{
 "cells": [
  {
   "cell_type": "code",
   "execution_count": 15,
   "metadata": {},
   "outputs": [],
   "source": [
    "import os\n",
    "import time\n",
    "import random\n",
    "import requests\n",
    "import pandas as pnd\n",
    "import BggHelper as BH\n",
    "import BggDbGetter as BDG\n",
    "import BggDbScraper as BDS\n",
    "from langdetect import detect\n",
    "from tqdm.notebook import tqdm\n",
    "from boardgamegeek import BoardGameGeek"
   ]
  },
  {
   "cell_type": "code",
   "execution_count": 16,
   "metadata": {},
   "outputs": [],
   "source": [
    "class LanguageCleaner:\n",
    "    def __init__(self, dataframe):\n",
    "        self._dataframe = dataframe\n",
    "    def useless_langs_remover(self, lang, field):\n",
    "        ## This function removes every row in the dataframe not of the specified language\n",
    "        for row in tqdm(list(self._dataframe.iterrows())):\n",
    "            text = row[1][field]\n",
    "            if text == \"\" or text == \" \" or (not(detect(text) == lang)):\n",
    "                self._dataframe = df[df.description != text]\n",
    "        return self._dataframe        \n",
    "    def text_preprocessing(self):\n",
    "        return False"
   ]
  },
  {
   "cell_type": "markdown",
   "metadata": {},
   "source": [
    "# Use TextBlob to preprocess!!!"
   ]
  },
  {
   "cell_type": "code",
   "execution_count": null,
   "metadata": {},
   "outputs": [],
   "source": []
  }
 ],
 "metadata": {
  "kernelspec": {
   "display_name": "Python 3",
   "language": "python",
   "name": "python3"
  },
  "language_info": {
   "codemirror_mode": {
    "name": "ipython",
    "version": 3
   },
   "file_extension": ".py",
   "mimetype": "text/x-python",
   "name": "python",
   "nbconvert_exporter": "python",
   "pygments_lexer": "ipython3",
   "version": "3.7.5"
  }
 },
 "nbformat": 4,
 "nbformat_minor": 4
}
