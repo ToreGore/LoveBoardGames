{
 "cells": [
  {
   "cell_type": "code",
   "execution_count": 14,
   "metadata": {},
   "outputs": [],
   "source": [
    "import numpy as np\n",
    "import nltk\n",
    "from sklearn.feature_extraction.text import TfidfVectorizer\n",
    "from tqdm.notebook import tqdm\n",
    "from nltk.corpus import words"
   ]
  },
  {
   "cell_type": "code",
   "execution_count": 12,
   "metadata": {},
   "outputs": [],
   "source": [
    "class Pitagora:\n",
    "    def __init__(self, corpus, model):\n",
    "        self._corpus = corpus\n",
    "        self._model = model\n",
    "        self._corpus_topwords = []\n",
    "        self._words = set(words.words())\n",
    "    def topwords_extraction(self, quantity = 20):\n",
    "        vectorizer = TfidfVectorizer(stop_words=\"english\", max_features=quantity)\n",
    "        cps = []\n",
    "        for row in self._corpus:\n",
    "            cps.append([\" \".join(word for word in row if word.isalnum() or word in self._words)])\n",
    "        #cps = \" \".join([word for word in self._corpus[0]])\n",
    "        for row in tqdm(cps):\n",
    "            X = vectorizer.fit_transform(row)\n",
    "            self._corpus_topwords.append(vectorizer.get_feature_names())\n",
    "            #print(vectorizer.get_feature_names(), \" shape: \", X.shape)\n",
    "        return self._corpus_topwords"
   ]
  },
  {
   "cell_type": "markdown",
   "metadata": {},
   "source": [
    "corpus = [\n",
    "    [\n",
    "        'gloomhaven', 'game', 'euro-inspired', 'tactical', 'combat',\n",
    "        'persistent', 'world', 'shifting', 'motif', 'player', 'take', 'role',\n",
    "        'wandering', 'adventurer', 'special', 'set', 'skill', 'reason',\n",
    "        'traveling', 'dark', 'corner', 'world', 'player', 'must', 'work',\n",
    "        'together', 'necessity', 'clear', 'menacing', 'dungeon', 'forgotten',\n",
    "        'ruin', 'process', 'enhance', 'ability', 'experience', 'loot',\n",
    "        'discover', 'new', 'location', 'explore', 'plunder', 'expand',\n",
    "        'ever-branching', 'story', 'fueled', 'decision', 'make', 'game',\n",
    "        'persistent', 'changing', 'world', 'ideally', 'played', 'many', 'game',\n",
    "        'session', 'scenario', 'player', 'make', 'decision', 'determine',\n",
    "        'story', 'continues', 'kind', 'like', '“', 'choose', 'adventure', '”',\n",
    "        'book', 'playing', 'scenario', 'cooperative', 'affair', 'player',\n",
    "        'fight', 'automated', 'monster', 'using', 'innovative', 'card',\n",
    "        'system', 'determine', 'order', 'play', 'player', 'turn', 'turn',\n",
    "        'player', 'chooses', 'two', 'card', 'play', 'hand', 'number', 'top',\n",
    "        'card', 'determines', 'initiative', 'round', 'card', 'also', 'top',\n",
    "        'bottom', 'power', 'player', '’', 'turn', 'initiative', 'order',\n",
    "        'determine', 'whether', 'use', 'top', 'power', 'one', 'card', 'bottom',\n",
    "        'power', 'vice-versa', 'player', 'must', 'careful', 'though', 'time',\n",
    "        'permanently', 'lose', 'card', 'hand', 'take', 'long', 'clear',\n",
    "        'dungeon', 'may', 'end', 'exhausted', 'forced', 'retreat', \"['Action\",\n",
    "        \"Retrieval',\", \"'Campaign\", '/', 'Battle', 'Card', \"Driven',\",\n",
    "        \"'Communication\", \"Limits',\", \"'Cooperative\", \"Game',\", \"'Deck,\",\n",
    "        'Bag,', 'and', 'Pool', \"Building',\", \"'Grid\", \"Movement',\", \"'Hand\",\n",
    "        \"Management',\", \"'Legacy\", \"Game',\", \"'Modular\", \"Board',\",\n",
    "        \"'Once-Per-Game\", \"Abilities',\", \"'Role\", \"Playing',\", \"'Scenario\",\n",
    "        '/', 'Mission', '/', 'Campaign', \"Game',\", \"'Simultaneous\", 'Action',\n",
    "        \"Selection',\", \"'Solo\", '/', 'Solitaire', \"Game',\", \"'Storytelling',\",\n",
    "        \"'Variable\", 'Player', \"Powers']\", 'adventure', 'exploration',\n",
    "        'fantasy', 'fighting', 'miniature', 'campaign', 'game', 'component',\n",
    "        'miniature', 'crowdfunding', 'kickstarter', 'dungeon', 'crawler',\n",
    "        'gloomhaven', 'universe', 'legacy', 'player', 'count', 'game',\n",
    "        'solitaire', 'rule', 'cephalofair', 'game', 'albi', 'asmodee',\n",
    "        'feuerland', 'spiele', 'galápagos', 'jogos', 'game', 'warehouse',\n",
    "        'gém', 'klub', 'kft.', 'hobby', 'world', 'korea', 'boardgames', 'co.',\n",
    "        'ltd.', 'mybg', 'co.', 'ltd', 'Gloomhaven'\n",
    "    ],\n",
    "    [\n",
    "        '2400s', 'mankind', 'begin', 'terraform', 'planet', 'mar', 'giant',\n",
    "        'corporation', 'sponsored', 'world', 'government', 'earth', 'initiate',\n",
    "        'huge', 'project', 'raise', 'temperature', 'oxygen', 'level', 'ocean',\n",
    "        'coverage', 'environment', 'habitable', 'terraforming', 'mar', 'play',\n",
    "        'one', 'corporation', 'work', 'together', 'terraforming', 'process',\n",
    "        'compete', 'getting', 'victory', 'point', 'awarded', 'contribution',\n",
    "        'terraforming', 'also', 'advancing', 'human', 'infrastructure',\n",
    "        'throughout', 'solar', 'system', 'commendable', 'thing', 'player',\n",
    "        'acquire', 'unique', 'project', 'card', 'two', 'hundred', 'different',\n",
    "        'one', 'buying', 'hand', 'project', 'card', 'represent', 'anything',\n",
    "        'introducing', 'plant', 'life', 'animal', 'hurling', 'asteroid',\n",
    "        'surface', 'building', 'city', 'mining', 'moon', 'jupiter',\n",
    "        'establishing', 'greenhouse', 'gas', 'industry', 'heat', 'atmosphere',\n",
    "        'card', 'give', 'immediate', 'bonus', 'well', 'increasing',\n",
    "        'production', 'different', 'resource', 'many', 'card', 'also',\n",
    "        'requirement', 'become', 'playable', 'temperature', 'oxygen', 'ocean',\n",
    "        'coverage', 'increase', 'enough', 'buying', 'card', 'costly',\n",
    "        'balance', 'buying', 'card', '3', 'megacredits', 'per', 'card',\n",
    "        'actually', 'playing', 'cost', 'anything', '0', '41', 'megacredits',\n",
    "        'depending', 'project', 'standard', 'project', 'always', 'available',\n",
    "        'complement', 'card', 'basic', 'income', 'well', 'basic', 'score',\n",
    "        'based', 'terraform', 'rating', 'starting', '20', 'increase', 'every',\n",
    "        'time', 'raise', 'one', 'three', 'global', 'parameter', 'however',\n",
    "        'income', 'complemented', 'production', 'also', 'get', 'vps', 'many',\n",
    "        'source', 'player', 'keep', 'track', 'production', 'resource',\n",
    "        'player', 'board', 'game', 'us', 'six', 'type', 'resource',\n",
    "        'megacredits', 'steel', 'titanium', 'plant', 'energy', 'heat', 'game',\n",
    "        'board', 'compete', 'best', 'place', 'city', 'tile', 'ocean', 'tile',\n",
    "        'greenery', 'tile', 'also', 'compete', 'different', 'milestone',\n",
    "        'award', 'worth', 'many', 'vps', 'round', 'called', 'generation',\n",
    "        'guess', 'consists', 'following', 'phase', '1', 'player', 'order',\n",
    "        'shift', 'clockwise', '2', 'research', 'phase', 'player', 'buy',\n",
    "        'card', 'four', 'privately', 'drawn', '3', 'action', 'phase', 'player',\n",
    "        'take', 'turn', '1-2', 'action', 'option', 'playing', 'card',\n",
    "        'claiming', 'milestone', 'funding', 'award', 'using', 'standard',\n",
    "        'project', 'converting', 'plant', 'greenery', 'tile', 'raising',\n",
    "        'oxygen', 'converting', 'heat', 'temperature', 'raise', 'using',\n",
    "        'action', 'card', 'play', 'turn', 'continues', 'around', 'table',\n",
    "        'sometimes', 'several', 'lap', 'player', 'passed', '4', 'production',\n",
    "        'phase', 'player', 'get', 'resource', 'according', 'terraform',\n",
    "        'rating', 'production', 'parameter', 'three', 'global', 'parameter',\n",
    "        'temperature', 'oxygen', 'ocean', 'reached', 'goal', 'terraforming',\n",
    "        'complete', 'game', 'end', 'generation', 'count', 'terraform',\n",
    "        'rating', 'vps', 'determine', 'winning', 'corporation', \"['Card\",\n",
    "        \"Drafting',\", \"'End\", 'Game', \"Bonuses',\", \"'Hand\", \"Management',\",\n",
    "        \"'Hexagon\", \"Grid',\", \"'Income',\", \"'Set\", \"Collection',\", \"'Solo\",\n",
    "        '/', 'Solitaire', \"Game',\", \"'Take\", \"That',\", \"'Tile\", \"Placement',\",\n",
    "        \"'Turn\", 'Order:', \"Progressive',\", \"'Variable\", 'Player', \"Powers']\",\n",
    "        'economic', 'environmental', 'industry', 'manufacturing', 'science',\n",
    "        'fiction', 'space', 'exploration', 'territory', 'building', '``',\n",
    "        'fryxgames', 'future', 'timeline', '', 'player', 'count', 'game',\n",
    "        'solitaire', 'rule', '``', 'space', 'earth', 'solar', 'system', '',\n",
    "        'space', 'mar', 'tableau', 'building', 'terraforming', 'mar',\n",
    "        'fryxgames', 'arclight', 'fantasmagoria', 'ghenos', 'game', 'intrafin',\n",
    "        'game', 'kilogames', 'korea', 'boardgames', 'co.', 'ltd.',\n",
    "        'lautapelit.fi', 'lavka', 'game', 'lex', 'game', 'maldito', 'game',\n",
    "        'meeple', 'br', 'jogos', 'mindok', 'mybg', 'co.', 'ltd.', 'neotroy',\n",
    "        'game', 'rebel', 'sp', 'z', 'o.o.', 'reflexshop', 'schwerkraft-verlag',\n",
    "        'siam', 'board', 'game', 'stronghold', 'game', 'Terraforming Mars'\n",
    "    ]\n",
    "]\n"
   ]
  },
  {
   "cell_type": "markdown",
   "metadata": {},
   "source": [
    "a = Pitagora(corpus, \"stub\")"
   ]
  },
  {
   "cell_type": "markdown",
   "metadata": {},
   "source": [
    "a = a.topwords_extraction(1)"
   ]
  },
  {
   "cell_type": "markdown",
   "metadata": {},
   "source": [
    "np.shape(corpus[0]), np.shape(corpus[1])"
   ]
  },
  {
   "cell_type": "markdown",
   "metadata": {},
   "source": [
    "a"
   ]
  },
  {
   "cell_type": "code",
   "execution_count": null,
   "metadata": {},
   "outputs": [],
   "source": []
  }
 ],
 "metadata": {
  "kernelspec": {
   "display_name": "Python 3",
   "language": "python",
   "name": "python3"
  },
  "language_info": {
   "codemirror_mode": {
    "name": "ipython",
    "version": 3
   },
   "file_extension": ".py",
   "mimetype": "text/x-python",
   "name": "python",
   "nbconvert_exporter": "python",
   "pygments_lexer": "ipython3",
   "version": "3.7.5"
  }
 },
 "nbformat": 4,
 "nbformat_minor": 4
}
