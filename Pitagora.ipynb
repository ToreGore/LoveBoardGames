{
 "cells": [
  {
   "cell_type": "code",
   "execution_count": 14,
   "metadata": {},
   "outputs": [],
   "source": [
    "import numpy as np\n",
    "import nltk\n",
    "from sklearn.feature_extraction.text import TfidfVectorizer\n",
    "from tqdm.notebook import tqdm\n",
    "from nltk.corpus import words"
   ]
  },
  {
   "cell_type": "code",
   "execution_count": 12,
   "metadata": {},
   "outputs": [],
   "source": [
    "class Pitagora:\n",
    "    def __init__(self, corpus, model):\n",
    "        self._corpus = corpus\n",
    "        self._model = model\n",
    "        self._corpus_topwords = []\n",
    "        self._words = set(words.words())\n",
    "    def topwords_extraction(self, quantity = 20):\n",
    "        vectorizer = TfidfVectorizer(stop_words=\"english\", max_features=quantity)\n",
    "        cps = []\n",
    "        for row in self._corpus:\n",
    "            cps.append([\" \".join(word for word in row if word.isalnum() or word in self._words)])\n",
    "        #cps = \" \".join([word for word in self._corpus[0]])\n",
    "        for row in tqdm(cps):\n",
    "            X = vectorizer.fit_transform(row)\n",
    "            self._corpus_topwords.append(vectorizer.get_feature_names())\n",
    "        return self._corpus_topwords"
   ]
  },
  {
   "cell_type": "markdown",
   "metadata": {},
   "source": [
    "a = Pitagora(corpus, \"stub\")"
   ]
  },
  {
   "cell_type": "markdown",
   "metadata": {},
   "source": [
    "a = a.topwords_extraction(1)"
   ]
  },
  {
   "cell_type": "markdown",
   "metadata": {},
   "source": [
    "np.shape(corpus[0]), np.shape(corpus[1])"
   ]
  },
  {
   "cell_type": "markdown",
   "metadata": {},
   "source": [
    "a"
   ]
  },
  {
   "cell_type": "code",
   "execution_count": null,
   "metadata": {},
   "outputs": [],
   "source": []
  }
 ],
 "metadata": {
  "kernelspec": {
   "display_name": "Python 3",
   "language": "python",
   "name": "python3"
  },
  "language_info": {
   "codemirror_mode": {
    "name": "ipython",
    "version": 3
   },
   "file_extension": ".py",
   "mimetype": "text/x-python",
   "name": "python",
   "nbconvert_exporter": "python",
   "pygments_lexer": "ipython3",
   "version": "3.7.5"
  }
 },
 "nbformat": 4,
 "nbformat_minor": 4
}
