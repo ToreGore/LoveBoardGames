{
 "cells": [
  {
   "cell_type": "code",
   "execution_count": 55,
   "metadata": {},
   "outputs": [],
   "source": [
    "import extra_keras_metrics\n",
    "import keras.utils\n",
    "import numpy as np\n",
    "import tensorflow as tf\n",
    "from keras import backend as B\n",
    "from keras.layers import BatchNormalization, Dense\n",
    "from keras.models import Sequential\n",
    "from keras_tqdm import TQDMNotebookCallback as ktqdm\n",
    "from matplotlib import pyplot as plt\n",
    "from plot_keras_history import plot_history\n",
    "from sklearn.model_selection import train_test_split\n",
    "from sklearn.utils import shuffle\n",
    "from tensorflow import keras\n",
    "from tensorflow.keras import layers\n",
    "from keras.utils.vis_utils import plot_model\n",
    "#from tensorflow.python.keras.metrics import Metric\n",
    "from tqdm import tqdm_notebook as tqdm"
   ]
  },
  {
   "cell_type": "code",
   "execution_count": 53,
   "metadata": {},
   "outputs": [],
   "source": [
    "from tensorflow.python.keras.metrics import AUC\n",
    "from tensorflow.python.keras.metrics import Accuracy\n",
    "from tensorflow.python.keras.metrics import BinaryAccuracy\n",
    "from tensorflow.python.keras.metrics import BinaryCrossentropy\n",
    "from tensorflow.python.keras.metrics import CategoricalAccuracy\n",
    "from tensorflow.python.keras.metrics import CategoricalCrossentropy\n",
    "from tensorflow.python.keras.metrics import CategoricalHinge\n",
    "from tensorflow.python.keras.metrics import CosineSimilarity\n",
    "from tensorflow.python.keras.metrics import FalseNegatives\n",
    "from tensorflow.python.keras.metrics import FalsePositives\n",
    "from tensorflow.python.keras.metrics import Hinge\n",
    "from tensorflow.python.keras.metrics import KLDivergence\n",
    "from tensorflow.python.keras.metrics import LogCoshError\n",
    "from tensorflow.python.keras.metrics import Mean\n",
    "from tensorflow.python.keras.metrics import MeanAbsoluteError\n",
    "from tensorflow.python.keras.metrics import MeanAbsolutePercentageError\n",
    "from tensorflow.python.keras.metrics import MeanIoU\n",
    "from tensorflow.python.keras.metrics import MeanRelativeError\n",
    "from tensorflow.python.keras.metrics import MeanSquaredError\n",
    "from tensorflow.python.keras.metrics import MeanSquaredLogarithmicError\n",
    "from tensorflow.python.keras.metrics import MeanTensor\n",
    "from tensorflow.python.keras.metrics import Metric\n",
    "from tensorflow.python.keras.metrics import Poisson\n",
    "from tensorflow.python.keras.metrics import Precision\n",
    "from tensorflow.python.keras.metrics import PrecisionAtRecall\n",
    "from tensorflow.python.keras.metrics import Recall\n",
    "from tensorflow.python.keras.metrics import RecallAtPrecision\n",
    "from tensorflow.python.keras.metrics import RootMeanSquaredError\n",
    "from tensorflow.python.keras.metrics import SensitivityAtSpecificity\n",
    "from tensorflow.python.keras.metrics import SparseCategoricalAccuracy\n",
    "from tensorflow.python.keras.metrics import SparseCategoricalCrossentropy\n",
    "from tensorflow.python.keras.metrics import SparseTopKCategoricalAccuracy\n",
    "from tensorflow.python.keras.metrics import SpecificityAtSensitivity\n",
    "from tensorflow.python.keras.metrics import SquaredHinge\n",
    "from tensorflow.python.keras.metrics import Sum\n",
    "from tensorflow.python.keras.metrics import TopKCategoricalAccuracy\n",
    "from tensorflow.python.keras.metrics import TrueNegatives\n",
    "from tensorflow.python.keras.metrics import TruePositives\n",
    "from tensorflow.python.keras.metrics import binary_accuracy\n",
    "from tensorflow.python.keras.metrics import categorical_accuracy\n",
    "from tensorflow.python.keras.metrics import deserialize\n",
    "from tensorflow.python.keras.metrics import get\n",
    "from tensorflow.python.keras.metrics import serialize\n",
    "from tensorflow.python.keras.metrics import sparse_categorical_accuracy\n",
    "from tensorflow.python.keras.metrics import sparse_top_k_categorical_accuracy\n",
    "from tensorflow.python.keras.metrics import top_k_categorical_accuracy"
   ]
  },
  {
   "cell_type": "code",
   "execution_count": 56,
   "metadata": {},
   "outputs": [],
   "source": [
    "class Athena:\n",
    "    def __init__(self, trainset):\n",
    "        self._trainset = trainset\n",
    "    def make_model(self):\n",
    "        print(\"MAKE!\")\n",
    "        input_neurons = len(self._trainset[0][0]) * len(self._trainset[0][0][0])\n",
    "        print(\"Input layer: \", input_neurons)\n",
    "        #model = Owl().build_model(input_neurons)\n",
    "        model = Sequential()\n",
    "        model.add(Dense(int(input_neurons/10), input_dim=int(input_neurons), name=\"Input_layer\", activation=\"sigmoid\"))\n",
    "        model.add(BatchNormalization())\n",
    "        model.add(Dense(50, name=\"Encoder_output_layer\", activation=\"sigmoid\"))\n",
    "        model.add(BatchNormalization())\n",
    "        model.add(Dense(3, name=\"Output_layer\", activation=\"sigmoid\"))\n",
    "        model.compile(\n",
    "            loss=\"binary_crossentropy\",\n",
    "            optimizer=\"adam\",\n",
    "            metrics=['accuracy'])\n",
    "        return model\n",
    "        \n",
    "        #return model"
   ]
  },
  {
   "cell_type": "code",
   "execution_count": 57,
   "metadata": {},
   "outputs": [
    {
     "data": {
      "text/plain": [
       "'class Owl:\\n    def build_model(self, input_neurons):\\n        model = Sequential()\\n        model.add(Dense(32, input_dim=input_neurons, name=\"Input_dense_layer\", activation=\"sigmoid\"))\\n        model.add(BatchNormalization())\\n        model.add(Dense(16, name=\"Encoder_output_layer\", activation=\"sigmoid\"))\\n        model.add(BatchNormalization())\\n        model.add(Dense(1, name=\"Output_layer\", activation=\"sigmoid\"))\\n        model.compile(\\n            loss=\"binary_crossentropy\",\\n            optimizer=\"adam\",\\n            metrics=[\\'accuracy\\',\\'auroc\\',\\'aurpc\\'])\\n        return model'"
      ]
     },
     "execution_count": 57,
     "metadata": {},
     "output_type": "execute_result"
    }
   ],
   "source": [
    "\"\"\"class Owl:\n",
    "    def build_model(self, input_neurons):\n",
    "        model = Sequential()\n",
    "        model.add(Dense(32, input_dim=input_neurons, name=\"Input_dense_layer\", activation=\"sigmoid\"))\n",
    "        model.add(BatchNormalization())\n",
    "        model.add(Dense(16, name=\"Encoder_output_layer\", activation=\"sigmoid\"))\n",
    "        model.add(BatchNormalization())\n",
    "        model.add(Dense(1, name=\"Output_layer\", activation=\"sigmoid\"))\n",
    "        model.compile(\n",
    "            loss=\"binary_crossentropy\",\n",
    "            optimizer=\"adam\",\n",
    "            metrics=['accuracy','auroc','aurpc'])\n",
    "        return model\"\"\""
   ]
  },
  {
   "cell_type": "code",
   "execution_count": null,
   "metadata": {},
   "outputs": [],
   "source": []
  }
 ],
 "metadata": {
  "kernelspec": {
   "display_name": "Python 3",
   "language": "python",
   "name": "python3"
  },
  "language_info": {
   "codemirror_mode": {
    "name": "ipython",
    "version": 3
   },
   "file_extension": ".py",
   "mimetype": "text/x-python",
   "name": "python",
   "nbconvert_exporter": "python",
   "pygments_lexer": "ipython3",
   "version": "3.7.5"
  }
 },
 "nbformat": 4,
 "nbformat_minor": 4
}
