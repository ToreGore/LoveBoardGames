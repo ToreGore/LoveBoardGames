{
 "cells": [
  {
   "cell_type": "code",
   "execution_count": 1,
   "metadata": {},
   "outputs": [
    {
     "name": "stdout",
     "output_type": "stream",
     "text": [
      "importing Jupyter notebook from BggDbGetter.ipynb\n",
      "importing Jupyter notebook from BggDbScraper.ipynb\n",
      "importing Jupyter notebook from BggHelper.ipynb\n",
      "importing Jupyter notebook from Cicero.ipynb\n",
      "importing Jupyter notebook from Glossa.ipynb\n"
     ]
    }
   ],
   "source": [
    "import importlib\n",
    "import os\n",
    "import random\n",
    "import time\n",
    "\n",
    "import import_ipynb\n",
    "import numpy as np\n",
    "import pandas as pnd\n",
    "import requests\n",
    "import seaborn as sns\n",
    "from boardgamegeek import BoardGameGeek\n",
    "from langdetect import detect\n",
    "from tqdm.notebook import tqdm\n",
    "\n",
    "import BggDbGetter as BDG\n",
    "import BggDbScraper as BDS\n",
    "import BggHelper as BH\n",
    "import Cicero as Cic\n",
    "import Glossa as glos"
   ]
  },
  {
   "cell_type": "markdown",
   "metadata": {},
   "source": [
    "# Step 1\n",
    "\n",
    "Access BBG API's to download game and user preferences data.\n",
    "Define criterion used for setting the parameters that drive the download in termis of the variables defining the dataset, such collecting games only for a specified period or a specified set of categories. The wider the game collection, the better."
   ]
  },
  {
   "cell_type": "code",
   "execution_count": 2,
   "metadata": {},
   "outputs": [],
   "source": [
    "helper = BH.BggHelper()\n",
    "new_df = helper.bgg_start(get=False, scrape=False)"
   ]
  },
  {
   "cell_type": "markdown",
   "metadata": {},
   "source": [
    "#### Dataframe reading"
   ]
  },
  {
   "cell_type": "code",
   "execution_count": 3,
   "metadata": {},
   "outputs": [],
   "source": [
    "df = pnd.read_csv(\"BGG_sampled.csv\")\n",
    "df.shape\n",
    "dfh = df"
   ]
  },
  {
   "cell_type": "code",
   "execution_count": 4,
   "metadata": {},
   "outputs": [],
   "source": [
    "gls = glos.Glossa(dfh, \"en\")\n",
    "cicero = Cic.Cicero(gls)"
   ]
  },
  {
   "cell_type": "code",
   "execution_count": 5,
   "metadata": {},
   "outputs": [
    {
     "data": {
      "application/vnd.jupyter.widget-view+json": {
       "model_id": "1e6920ef2b1a424999f8715b409b03ca",
       "version_major": 2,
       "version_minor": 0
      },
      "text/plain": [
       "HBox(children=(FloatProgress(value=1.0, bar_style='info', description='Removing useless languages', max=1.0, s…"
      ]
     },
     "metadata": {},
     "output_type": "display_data"
    },
    {
     "name": "stdout",
     "output_type": "stream",
     "text": [
      "\n"
     ]
    },
    {
     "data": {
      "application/vnd.jupyter.widget-view+json": {
       "model_id": "ac184d545a9f4c81be0f300b9a249881",
       "version_major": 2,
       "version_minor": 0
      },
      "text/plain": [
       "HBox(children=(FloatProgress(value=0.0, description='Stopwords removal', max=14021.0, style=ProgressStyle(desc…"
      ]
     },
     "metadata": {},
     "output_type": "display_data"
    },
    {
     "name": "stderr",
     "output_type": "stream",
     "text": [
      "Glossa.ipynb:31: SettingWithCopyWarning: \n",
      "A value is trying to be set on a copy of a slice from a DataFrame\n",
      "\n",
      "See the caveats in the documentation: https://pandas.pydata.org/pandas-docs/stable/user_guide/indexing.html#returning-a-view-versus-a-copy\n",
      "  \"from tqdm.notebook import tqdm\\n\",\n"
     ]
    },
    {
     "name": "stdout",
     "output_type": "stream",
     "text": [
      "\n"
     ]
    },
    {
     "data": {
      "application/vnd.jupyter.widget-view+json": {
       "model_id": "68e645c000424375a8e6b6bb0056a1ac",
       "version_major": 2,
       "version_minor": 0
      },
      "text/plain": [
       "HBox(children=(FloatProgress(value=0.0, description='Word lemming', max=14021.0, style=ProgressStyle(descripti…"
      ]
     },
     "metadata": {},
     "output_type": "display_data"
    },
    {
     "name": "stderr",
     "output_type": "stream",
     "text": [
      "Glossa.ipynb:44: SettingWithCopyWarning: \n",
      "A value is trying to be set on a copy of a slice from a DataFrame\n",
      "\n",
      "See the caveats in the documentation: https://pandas.pydata.org/pandas-docs/stable/user_guide/indexing.html#returning-a-view-versus-a-copy\n",
      "  \"class Glossa:\\n\",\n",
      "Glossa.ipynb:49: SettingWithCopyWarning: \n",
      "A value is trying to be set on a copy of a slice from a DataFrame\n",
      "\n",
      "See the caveats in the documentation: https://pandas.pydata.org/pandas-docs/stable/user_guide/indexing.html#returning-a-view-versus-a-copy\n",
      "  \"            word.replace(\\\"'\\\", \\\"\\\")\\n\",\n"
     ]
    },
    {
     "name": "stdout",
     "output_type": "stream",
     "text": [
      "\n"
     ]
    }
   ],
   "source": [
    "cicero = cicero.clean_lemming(\"description\")"
   ]
  },
  {
   "cell_type": "code",
   "execution_count": 6,
   "metadata": {},
   "outputs": [
    {
     "data": {
      "application/vnd.jupyter.widget-view+json": {
       "model_id": "c594a7223e9b4d079231c96a01f973ca",
       "version_major": 2,
       "version_minor": 0
      },
      "text/plain": [
       "HBox(children=(FloatProgress(value=1.0, bar_style='info', description='Removing useless languages', max=1.0, s…"
      ]
     },
     "metadata": {},
     "output_type": "display_data"
    },
    {
     "name": "stdout",
     "output_type": "stream",
     "text": [
      "\n"
     ]
    },
    {
     "data": {
      "application/vnd.jupyter.widget-view+json": {
       "model_id": "a6087dd4fae847beb47c2b79c3740d6b",
       "version_major": 2,
       "version_minor": 0
      },
      "text/plain": [
       "HBox(children=(FloatProgress(value=0.0, description='Stopwords removal', max=11831.0, style=ProgressStyle(desc…"
      ]
     },
     "metadata": {},
     "output_type": "display_data"
    },
    {
     "name": "stdout",
     "output_type": "stream",
     "text": [
      "\n"
     ]
    },
    {
     "data": {
      "application/vnd.jupyter.widget-view+json": {
       "model_id": "c862afeaf8bf448ba706fbb5932e4272",
       "version_major": 2,
       "version_minor": 0
      },
      "text/plain": [
       "HBox(children=(FloatProgress(value=0.0, description='Word lemming', max=11831.0, style=ProgressStyle(descripti…"
      ]
     },
     "metadata": {},
     "output_type": "display_data"
    },
    {
     "name": "stdout",
     "output_type": "stream",
     "text": [
      "\n"
     ]
    }
   ],
   "source": [
    "cicero = cicero.clean_lemming(\"categories\")"
   ]
  },
  {
   "cell_type": "code",
   "execution_count": 7,
   "metadata": {},
   "outputs": [
    {
     "data": {
      "application/vnd.jupyter.widget-view+json": {
       "model_id": "9fe8d74cb5214986825d3aa838088aca",
       "version_major": 2,
       "version_minor": 0
      },
      "text/plain": [
       "HBox(children=(FloatProgress(value=0.0, description='Stopwords removal', max=11831.0, style=ProgressStyle(desc…"
      ]
     },
     "metadata": {},
     "output_type": "display_data"
    },
    {
     "name": "stdout",
     "output_type": "stream",
     "text": [
      "\n"
     ]
    },
    {
     "data": {
      "application/vnd.jupyter.widget-view+json": {
       "model_id": "5c3337a18b5448e7bc1bae059d52941a",
       "version_major": 2,
       "version_minor": 0
      },
      "text/plain": [
       "HBox(children=(FloatProgress(value=0.0, description='Word lemming', max=11831.0, style=ProgressStyle(descripti…"
      ]
     },
     "metadata": {},
     "output_type": "display_data"
    },
    {
     "name": "stdout",
     "output_type": "stream",
     "text": [
      "\n"
     ]
    }
   ],
   "source": [
    "#cicero = cicero.eng_lemming(\"name\")\n",
    "cicero = cicero.eng_lemming(\"publishers\")"
   ]
  },
  {
   "cell_type": "code",
   "execution_count": 8,
   "metadata": {},
   "outputs": [
    {
     "data": {
      "application/vnd.jupyter.widget-view+json": {
       "model_id": "ce6a5242fcbb4ec1a3ae35c98ceb7c0f",
       "version_major": 2,
       "version_minor": 0
      },
      "text/plain": [
       "HBox(children=(FloatProgress(value=0.0, description='Stopwords removal', max=11831.0, style=ProgressStyle(desc…"
      ]
     },
     "metadata": {},
     "output_type": "display_data"
    },
    {
     "name": "stdout",
     "output_type": "stream",
     "text": [
      "\n"
     ]
    },
    {
     "data": {
      "application/vnd.jupyter.widget-view+json": {
       "model_id": "03e2acd42eb14c729d846b00907eecc6",
       "version_major": 2,
       "version_minor": 0
      },
      "text/plain": [
       "HBox(children=(FloatProgress(value=0.0, description='Word lemming', max=11831.0, style=ProgressStyle(descripti…"
      ]
     },
     "metadata": {},
     "output_type": "display_data"
    },
    {
     "name": "stdout",
     "output_type": "stream",
     "text": [
      "\n"
     ]
    }
   ],
   "source": [
    "cicero = cicero.eng_lemming(\"families\")"
   ]
  },
  {
   "cell_type": "code",
   "execution_count": 9,
   "metadata": {},
   "outputs": [
    {
     "data": {
      "text/html": [
       "<div>\n",
       "<style scoped>\n",
       "    .dataframe tbody tr th:only-of-type {\n",
       "        vertical-align: middle;\n",
       "    }\n",
       "\n",
       "    .dataframe tbody tr th {\n",
       "        vertical-align: top;\n",
       "    }\n",
       "\n",
       "    .dataframe thead th {\n",
       "        text-align: right;\n",
       "    }\n",
       "</style>\n",
       "<table border=\"1\" class=\"dataframe\">\n",
       "  <thead>\n",
       "    <tr style=\"text-align: right;\">\n",
       "      <th></th>\n",
       "      <th>Unnamed: 0</th>\n",
       "      <th>boardgame_rank</th>\n",
       "      <th>id</th>\n",
       "      <th>families</th>\n",
       "      <th>categories</th>\n",
       "      <th>mechanics</th>\n",
       "      <th>designers</th>\n",
       "      <th>artists</th>\n",
       "      <th>publishers</th>\n",
       "      <th>description</th>\n",
       "      <th>...</th>\n",
       "      <th>minage</th>\n",
       "      <th>name</th>\n",
       "      <th>usersrated</th>\n",
       "      <th>average</th>\n",
       "      <th>bayesaverage</th>\n",
       "      <th>stddev</th>\n",
       "      <th>owned</th>\n",
       "      <th>numweights</th>\n",
       "      <th>averageweight</th>\n",
       "      <th>ranks</th>\n",
       "    </tr>\n",
       "  </thead>\n",
       "  <tbody>\n",
       "    <tr>\n",
       "      <th>0</th>\n",
       "      <td>0</td>\n",
       "      <td>1</td>\n",
       "      <td>174430</td>\n",
       "      <td>campaign game component miniature crowdfunding...</td>\n",
       "      <td>adventure exploration fantasy fighting miniature</td>\n",
       "      <td>['Action Retrieval', 'Campaign / Battle Card D...</td>\n",
       "      <td>['Isaac Childres']</td>\n",
       "      <td>['Alexandr Elichev', 'Josh T. McDowell', 'Alva...</td>\n",
       "      <td>cephalofair game albi asmodee feuerland spiele...</td>\n",
       "      <td>gloomhaven game euro-inspired tactical combat ...</td>\n",
       "      <td>...</td>\n",
       "      <td>12</td>\n",
       "      <td>Gloomhaven</td>\n",
       "      <td>35214</td>\n",
       "      <td>8.82880</td>\n",
       "      <td>8.57349</td>\n",
       "      <td>1.60782</td>\n",
       "      <td>56587</td>\n",
       "      <td>1517</td>\n",
       "      <td>3.8266</td>\n",
       "      <td>[{'name': 'boardgame', 'friendlyname': 'Board ...</td>\n",
       "    </tr>\n",
       "    <tr>\n",
       "      <th>1</th>\n",
       "      <td>2</td>\n",
       "      <td>3</td>\n",
       "      <td>167791</td>\n",
       "      <td>`` fryxgames future timeline  player count gam...</td>\n",
       "      <td>economic environmental industry manufacturing ...</td>\n",
       "      <td>['Card Drafting', 'End Game Bonuses', 'Hand Ma...</td>\n",
       "      <td>['Jacob Fryxelius']</td>\n",
       "      <td>['Isaac Fryxelius']</td>\n",
       "      <td>fryxgames arclight fantasmagoria ghenos game i...</td>\n",
       "      <td>2400s mankind begin terraform planet mar giant...</td>\n",
       "      <td>...</td>\n",
       "      <td>12</td>\n",
       "      <td>Terraforming Mars</td>\n",
       "      <td>54325</td>\n",
       "      <td>8.42658</td>\n",
       "      <td>8.27621</td>\n",
       "      <td>1.37770</td>\n",
       "      <td>71449</td>\n",
       "      <td>2168</td>\n",
       "      <td>3.2366</td>\n",
       "      <td>[{'name': 'boardgame', 'friendlyname': 'Board ...</td>\n",
       "    </tr>\n",
       "    <tr>\n",
       "      <th>2</th>\n",
       "      <td>3</td>\n",
       "      <td>4</td>\n",
       "      <td>224517</td>\n",
       "      <td>brass city birmingham england country england ...</td>\n",
       "      <td>economic industry manufacturing transportation</td>\n",
       "      <td>['Connections', 'Hand Management', 'Income', '...</td>\n",
       "      <td>['Gavan Brown', 'Matt Tolman', 'Martin Wallace']</td>\n",
       "      <td>['Lina Cossette', 'David Forest', 'Damien Mamm...</td>\n",
       "      <td>roxley boardm factory conclave editora crowd g...</td>\n",
       "      <td>brass birmingham economic strategy game sequel...</td>\n",
       "      <td>...</td>\n",
       "      <td>14</td>\n",
       "      <td>Brass: Birmingham</td>\n",
       "      <td>12955</td>\n",
       "      <td>8.63598</td>\n",
       "      <td>8.27537</td>\n",
       "      <td>1.25023</td>\n",
       "      <td>19468</td>\n",
       "      <td>599</td>\n",
       "      <td>3.9299</td>\n",
       "      <td>[{'name': 'boardgame', 'friendlyname': 'Board ...</td>\n",
       "    </tr>\n",
       "    <tr>\n",
       "      <th>3</th>\n",
       "      <td>5</td>\n",
       "      <td>6</td>\n",
       "      <td>233078</td>\n",
       "      <td>4x game component miniature twilight imperium</td>\n",
       "      <td>civilization economic negotiation political sc...</td>\n",
       "      <td>['Action Drafting', 'Area Majority / Influence...</td>\n",
       "      <td>['Dane Beltrami', 'Corey Konieczka', 'Christia...</td>\n",
       "      <td>['Scott Schomburg']</td>\n",
       "      <td>fantasy flight game adc blackfire entertainmen...</td>\n",
       "      <td>twilight imperium fourth edition game galactic...</td>\n",
       "      <td>...</td>\n",
       "      <td>14</td>\n",
       "      <td>Twilight Imperium (Fourth Edition)</td>\n",
       "      <td>10718</td>\n",
       "      <td>8.68625</td>\n",
       "      <td>8.20355</td>\n",
       "      <td>1.59923</td>\n",
       "      <td>13439</td>\n",
       "      <td>473</td>\n",
       "      <td>4.2199</td>\n",
       "      <td>[{'name': 'boardgame', 'friendlyname': 'Board ...</td>\n",
       "    </tr>\n",
       "    <tr>\n",
       "      <th>4</th>\n",
       "      <td>6</td>\n",
       "      <td>7</td>\n",
       "      <td>187645</td>\n",
       "      <td>component miniature movie star war</td>\n",
       "      <td>civil war fighting miniature movie tv radio th...</td>\n",
       "      <td>['Area Majority / Influence', 'Area Movement',...</td>\n",
       "      <td>['Corey Konieczka']</td>\n",
       "      <td>['Matt Allsopp', 'David Ardila', 'Balaskas', '...</td>\n",
       "      <td>fantasy flight game adc blackfire entertainmen...</td>\n",
       "      <td>star war rebellion board game epic conflict ga...</td>\n",
       "      <td>...</td>\n",
       "      <td>14</td>\n",
       "      <td>Star Wars: Rebellion</td>\n",
       "      <td>20328</td>\n",
       "      <td>8.42316</td>\n",
       "      <td>8.15695</td>\n",
       "      <td>1.37843</td>\n",
       "      <td>30600</td>\n",
       "      <td>685</td>\n",
       "      <td>3.6934</td>\n",
       "      <td>[{'name': 'boardgame', 'friendlyname': 'Board ...</td>\n",
       "    </tr>\n",
       "    <tr>\n",
       "      <th>...</th>\n",
       "      <td>...</td>\n",
       "      <td>...</td>\n",
       "      <td>...</td>\n",
       "      <td>...</td>\n",
       "      <td>...</td>\n",
       "      <td>...</td>\n",
       "      <td>...</td>\n",
       "      <td>...</td>\n",
       "      <td>...</td>\n",
       "      <td>...</td>\n",
       "      <td>...</td>\n",
       "      <td>...</td>\n",
       "      <td>...</td>\n",
       "      <td>...</td>\n",
       "      <td>...</td>\n",
       "      <td>...</td>\n",
       "      <td>...</td>\n",
       "      <td>...</td>\n",
       "      <td>...</td>\n",
       "      <td>...</td>\n",
       "      <td>...</td>\n",
       "    </tr>\n",
       "    <tr>\n",
       "      <th>11826</th>\n",
       "      <td>14109</td>\n",
       "      <td>18909</td>\n",
       "      <td>4724</td>\n",
       "      <td>admin better description needed author j.r.r t...</td>\n",
       "      <td>adventure fantasy movie tv radio theme novel-b...</td>\n",
       "      <td>['Modular Board', 'Roll / Spin and Move']</td>\n",
       "      <td>['Terry Miller Associates']</td>\n",
       "      <td>[]</td>\n",
       "      <td>roseart</td>\n",
       "      <td>relive adventure fellowship ring board game fa...</td>\n",
       "      <td>...</td>\n",
       "      <td>8</td>\n",
       "      <td>The Lord of the Rings: The Fellowship of the Ring</td>\n",
       "      <td>224</td>\n",
       "      <td>3.23018</td>\n",
       "      <td>5.18513</td>\n",
       "      <td>1.99998</td>\n",
       "      <td>470</td>\n",
       "      <td>28</td>\n",
       "      <td>1.4286</td>\n",
       "      <td>[{'name': 'boardgame', 'friendlyname': 'Board ...</td>\n",
       "    </tr>\n",
       "    <tr>\n",
       "      <th>11827</th>\n",
       "      <td>14110</td>\n",
       "      <td>18913</td>\n",
       "      <td>4077</td>\n",
       "      <td>tv series tv game show tv series want millionaire</td>\n",
       "      <td>movie tv radio theme party game trivia</td>\n",
       "      <td>['Push Your Luck']</td>\n",
       "      <td>['(Uncredited)']</td>\n",
       "      <td>[]</td>\n",
       "      <td>unknown alga celador danspil diset s. a. hasbr...</td>\n",
       "      <td>player answer multiple-choice trivia question ...</td>\n",
       "      <td>...</td>\n",
       "      <td>10</td>\n",
       "      <td>Who Wants to Be a Millionaire</td>\n",
       "      <td>827</td>\n",
       "      <td>4.62736</td>\n",
       "      <td>5.17503</td>\n",
       "      <td>1.67047</td>\n",
       "      <td>1456</td>\n",
       "      <td>67</td>\n",
       "      <td>1.4478</td>\n",
       "      <td>[{'name': 'boardgame', 'friendlyname': 'Board ...</td>\n",
       "    </tr>\n",
       "    <tr>\n",
       "      <th>11828</th>\n",
       "      <td>14111</td>\n",
       "      <td>18924</td>\n",
       "      <td>12205</td>\n",
       "      <td>gamewright port-a-party series</td>\n",
       "      <td>party game word game</td>\n",
       "      <td>['Hand Management', 'Storytelling']</td>\n",
       "      <td>['Joyce Johnson', 'Colleen McCarthy-Evans']</td>\n",
       "      <td>['David Semple']</td>\n",
       "      <td>gamewright paul lamond game ltd</td>\n",
       "      <td>sofa fit shopping cart depends size game creat...</td>\n",
       "      <td>...</td>\n",
       "      <td>10</td>\n",
       "      <td>In a Pickle</td>\n",
       "      <td>1302</td>\n",
       "      <td>4.69489</td>\n",
       "      <td>5.09240</td>\n",
       "      <td>1.67115</td>\n",
       "      <td>3197</td>\n",
       "      <td>86</td>\n",
       "      <td>1.2093</td>\n",
       "      <td>[{'name': 'boardgame', 'friendlyname': 'Board ...</td>\n",
       "    </tr>\n",
       "    <tr>\n",
       "      <th>11829</th>\n",
       "      <td>14112</td>\n",
       "      <td>18935</td>\n",
       "      <td>3990</td>\n",
       "      <td></td>\n",
       "      <td>card game party game trivia</td>\n",
       "      <td>['Card Drafting', 'Memory']</td>\n",
       "      <td>['(Uncredited)']</td>\n",
       "      <td>[]</td>\n",
       "      <td>imagination game megableu spin master ltd. uni...</td>\n",
       "      <td>basic trivia game player try figure statement ...</td>\n",
       "      <td>...</td>\n",
       "      <td>12</td>\n",
       "      <td>Fact or Crap</td>\n",
       "      <td>621</td>\n",
       "      <td>3.83101</td>\n",
       "      <td>5.00412</td>\n",
       "      <td>1.63167</td>\n",
       "      <td>1474</td>\n",
       "      <td>34</td>\n",
       "      <td>1.2059</td>\n",
       "      <td>[{'name': 'boardgame', 'friendlyname': 'Board ...</td>\n",
       "    </tr>\n",
       "    <tr>\n",
       "      <th>11830</th>\n",
       "      <td>14114</td>\n",
       "      <td>18951</td>\n",
       "      <td>205322</td>\n",
       "      <td>admin better description needed history oregon...</td>\n",
       "      <td>american west card game educational video game...</td>\n",
       "      <td>['Communication Limits', 'Connections', 'Coope...</td>\n",
       "      <td>[]</td>\n",
       "      <td>[]</td>\n",
       "      <td>pressman toy corp</td>\n",
       "      <td>description publisher  based classic computer ...</td>\n",
       "      <td>...</td>\n",
       "      <td>12</td>\n",
       "      <td>The Oregon Trail Card Game</td>\n",
       "      <td>2347</td>\n",
       "      <td>4.33166</td>\n",
       "      <td>4.74082</td>\n",
       "      <td>1.89550</td>\n",
       "      <td>6391</td>\n",
       "      <td>33</td>\n",
       "      <td>1.2121</td>\n",
       "      <td>[{'name': 'boardgame', 'friendlyname': 'Board ...</td>\n",
       "    </tr>\n",
       "  </tbody>\n",
       "</table>\n",
       "<p>11831 rows × 24 columns</p>\n",
       "</div>"
      ],
      "text/plain": [
       "       Unnamed: 0  boardgame_rank      id  \\\n",
       "0               0               1  174430   \n",
       "1               2               3  167791   \n",
       "2               3               4  224517   \n",
       "3               5               6  233078   \n",
       "4               6               7  187645   \n",
       "...           ...             ...     ...   \n",
       "11826       14109           18909    4724   \n",
       "11827       14110           18913    4077   \n",
       "11828       14111           18924   12205   \n",
       "11829       14112           18935    3990   \n",
       "11830       14114           18951  205322   \n",
       "\n",
       "                                                families  \\\n",
       "0      campaign game component miniature crowdfunding...   \n",
       "1      `` fryxgames future timeline  player count gam...   \n",
       "2      brass city birmingham england country england ...   \n",
       "3          4x game component miniature twilight imperium   \n",
       "4                     component miniature movie star war   \n",
       "...                                                  ...   \n",
       "11826  admin better description needed author j.r.r t...   \n",
       "11827  tv series tv game show tv series want millionaire   \n",
       "11828                     gamewright port-a-party series   \n",
       "11829                                                      \n",
       "11830  admin better description needed history oregon...   \n",
       "\n",
       "                                              categories  \\\n",
       "0       adventure exploration fantasy fighting miniature   \n",
       "1      economic environmental industry manufacturing ...   \n",
       "2         economic industry manufacturing transportation   \n",
       "3      civilization economic negotiation political sc...   \n",
       "4      civil war fighting miniature movie tv radio th...   \n",
       "...                                                  ...   \n",
       "11826  adventure fantasy movie tv radio theme novel-b...   \n",
       "11827             movie tv radio theme party game trivia   \n",
       "11828                               party game word game   \n",
       "11829                        card game party game trivia   \n",
       "11830  american west card game educational video game...   \n",
       "\n",
       "                                               mechanics  \\\n",
       "0      ['Action Retrieval', 'Campaign / Battle Card D...   \n",
       "1      ['Card Drafting', 'End Game Bonuses', 'Hand Ma...   \n",
       "2      ['Connections', 'Hand Management', 'Income', '...   \n",
       "3      ['Action Drafting', 'Area Majority / Influence...   \n",
       "4      ['Area Majority / Influence', 'Area Movement',...   \n",
       "...                                                  ...   \n",
       "11826          ['Modular Board', 'Roll / Spin and Move']   \n",
       "11827                                 ['Push Your Luck']   \n",
       "11828                ['Hand Management', 'Storytelling']   \n",
       "11829                        ['Card Drafting', 'Memory']   \n",
       "11830  ['Communication Limits', 'Connections', 'Coope...   \n",
       "\n",
       "                                               designers  \\\n",
       "0                                     ['Isaac Childres']   \n",
       "1                                    ['Jacob Fryxelius']   \n",
       "2       ['Gavan Brown', 'Matt Tolman', 'Martin Wallace']   \n",
       "3      ['Dane Beltrami', 'Corey Konieczka', 'Christia...   \n",
       "4                                    ['Corey Konieczka']   \n",
       "...                                                  ...   \n",
       "11826                        ['Terry Miller Associates']   \n",
       "11827                                   ['(Uncredited)']   \n",
       "11828        ['Joyce Johnson', 'Colleen McCarthy-Evans']   \n",
       "11829                                   ['(Uncredited)']   \n",
       "11830                                                 []   \n",
       "\n",
       "                                                 artists  \\\n",
       "0      ['Alexandr Elichev', 'Josh T. McDowell', 'Alva...   \n",
       "1                                    ['Isaac Fryxelius']   \n",
       "2      ['Lina Cossette', 'David Forest', 'Damien Mamm...   \n",
       "3                                    ['Scott Schomburg']   \n",
       "4      ['Matt Allsopp', 'David Ardila', 'Balaskas', '...   \n",
       "...                                                  ...   \n",
       "11826                                                 []   \n",
       "11827                                                 []   \n",
       "11828                                   ['David Semple']   \n",
       "11829                                                 []   \n",
       "11830                                                 []   \n",
       "\n",
       "                                              publishers  \\\n",
       "0      cephalofair game albi asmodee feuerland spiele...   \n",
       "1      fryxgames arclight fantasmagoria ghenos game i...   \n",
       "2      roxley boardm factory conclave editora crowd g...   \n",
       "3      fantasy flight game adc blackfire entertainmen...   \n",
       "4      fantasy flight game adc blackfire entertainmen...   \n",
       "...                                                  ...   \n",
       "11826                                            roseart   \n",
       "11827  unknown alga celador danspil diset s. a. hasbr...   \n",
       "11828                    gamewright paul lamond game ltd   \n",
       "11829  imagination game megableu spin master ltd. uni...   \n",
       "11830                                  pressman toy corp   \n",
       "\n",
       "                                             description  ...  minage  \\\n",
       "0      gloomhaven game euro-inspired tactical combat ...  ...      12   \n",
       "1      2400s mankind begin terraform planet mar giant...  ...      12   \n",
       "2      brass birmingham economic strategy game sequel...  ...      14   \n",
       "3      twilight imperium fourth edition game galactic...  ...      14   \n",
       "4      star war rebellion board game epic conflict ga...  ...      14   \n",
       "...                                                  ...  ...     ...   \n",
       "11826  relive adventure fellowship ring board game fa...  ...       8   \n",
       "11827  player answer multiple-choice trivia question ...  ...      10   \n",
       "11828  sofa fit shopping cart depends size game creat...  ...      10   \n",
       "11829  basic trivia game player try figure statement ...  ...      12   \n",
       "11830  description publisher  based classic computer ...  ...      12   \n",
       "\n",
       "                                                    name  usersrated  average  \\\n",
       "0                                             Gloomhaven       35214  8.82880   \n",
       "1                                      Terraforming Mars       54325  8.42658   \n",
       "2                                      Brass: Birmingham       12955  8.63598   \n",
       "3                     Twilight Imperium (Fourth Edition)       10718  8.68625   \n",
       "4                                   Star Wars: Rebellion       20328  8.42316   \n",
       "...                                                  ...         ...      ...   \n",
       "11826  The Lord of the Rings: The Fellowship of the Ring         224  3.23018   \n",
       "11827                      Who Wants to Be a Millionaire         827  4.62736   \n",
       "11828                                        In a Pickle        1302  4.69489   \n",
       "11829                                       Fact or Crap         621  3.83101   \n",
       "11830                         The Oregon Trail Card Game        2347  4.33166   \n",
       "\n",
       "       bayesaverage   stddev  owned  numweights  averageweight  \\\n",
       "0           8.57349  1.60782  56587        1517         3.8266   \n",
       "1           8.27621  1.37770  71449        2168         3.2366   \n",
       "2           8.27537  1.25023  19468         599         3.9299   \n",
       "3           8.20355  1.59923  13439         473         4.2199   \n",
       "4           8.15695  1.37843  30600         685         3.6934   \n",
       "...             ...      ...    ...         ...            ...   \n",
       "11826       5.18513  1.99998    470          28         1.4286   \n",
       "11827       5.17503  1.67047   1456          67         1.4478   \n",
       "11828       5.09240  1.67115   3197          86         1.2093   \n",
       "11829       5.00412  1.63167   1474          34         1.2059   \n",
       "11830       4.74082  1.89550   6391          33         1.2121   \n",
       "\n",
       "                                                   ranks  \n",
       "0      [{'name': 'boardgame', 'friendlyname': 'Board ...  \n",
       "1      [{'name': 'boardgame', 'friendlyname': 'Board ...  \n",
       "2      [{'name': 'boardgame', 'friendlyname': 'Board ...  \n",
       "3      [{'name': 'boardgame', 'friendlyname': 'Board ...  \n",
       "4      [{'name': 'boardgame', 'friendlyname': 'Board ...  \n",
       "...                                                  ...  \n",
       "11826  [{'name': 'boardgame', 'friendlyname': 'Board ...  \n",
       "11827  [{'name': 'boardgame', 'friendlyname': 'Board ...  \n",
       "11828  [{'name': 'boardgame', 'friendlyname': 'Board ...  \n",
       "11829  [{'name': 'boardgame', 'friendlyname': 'Board ...  \n",
       "11830  [{'name': 'boardgame', 'friendlyname': 'Board ...  \n",
       "\n",
       "[11831 rows x 24 columns]"
      ]
     },
     "execution_count": 9,
     "metadata": {},
     "output_type": "execute_result"
    }
   ],
   "source": [
    "cicero.get_df()#[\"families\"][0]"
   ]
  },
  {
   "cell_type": "markdown",
   "metadata": {},
   "source": [
    "# Step 2\n",
    "\n",
    "Pre-process game text (title and description) in order to define the terms to include in the variables to be observed, eventually using a word embedding model to normalize and/or expand the terminology extracted from the game description."
   ]
  },
  {
   "cell_type": "markdown",
   "metadata": {},
   "source": [
    "## Followed  this url:\n",
    "### https://towardsdatascience.com/a-beginners-guide-to-word-embedding-with-gensim-word2vec-model-5970fa56cc92\n"
   ]
  },
  {
   "cell_type": "markdown",
   "metadata": {},
   "source": [
    "<div class=\"mark\">\n",
    "    TODO: Everything done until now is fine, yet there are some issues and here lies the solution\n",
    "</div><i class=\"fa fa-lightbulb-o \"></i>\n",
    "<ul>\n",
    "    <li>The corpus is made of N rows</li>\n",
    "    <li>Each rows has a variable number of words M\n",
    "        <ul>\n",
    "            <li>Train W2V with overall corpus</li>\n",
    "            <li>Extract from each row the top relevant words via Sklearn's TF-IDF</li>\n",
    "            <li>Embed via W2V the top relevant words into a matrix of dimension XxD</li>\n",
    "            <li>Use python's transfromer to compress them into a vector of dimension D'</li>\n",
    "        </ul>\n",
    "    </li>\n",
    "    <li>Create a Neural network with input size XxD' and train it</li>\n",
    "    <li>Find the correlation during testing time (remember to cross-validate)</li>\n",
    "    <li>????</li>\n",
    "    <li>Profit</li>\n",
    "</ul>"
   ]
  },
  {
   "cell_type": "markdown",
   "metadata": {},
   "source": [
    "#### Need to create a column in the dataframe containing all the important words in the row. <br> This takes into account Name, description, mechanics, families and publishers"
   ]
  },
  {
   "cell_type": "code",
   "execution_count": 10,
   "metadata": {},
   "outputs": [
    {
     "data": {
      "text/plain": [
       "Index(['Unnamed: 0', 'boardgame_rank', 'id', 'families', 'categories',\n",
       "       'mechanics', 'designers', 'artists', 'publishers', 'description',\n",
       "       'yearpublished', 'minplayers', 'maxplayers', 'playingtime', 'minage',\n",
       "       'name', 'usersrated', 'average', 'bayesaverage', 'stddev', 'owned',\n",
       "       'numweights', 'averageweight', 'ranks'],\n",
       "      dtype='object')"
      ]
     },
     "execution_count": 10,
     "metadata": {},
     "output_type": "execute_result"
    }
   ],
   "source": [
    "df.columns"
   ]
  },
  {
   "cell_type": "code",
   "execution_count": 11,
   "metadata": {},
   "outputs": [
    {
     "data": {
      "application/vnd.jupyter.widget-view+json": {
       "model_id": "ab3e5e4ab15f4eb2aaeeb2f87af8c5a1",
       "version_major": 2,
       "version_minor": 0
      },
      "text/plain": [
       "HBox(children=(FloatProgress(value=0.0, description='Getting interesting fields', max=11831.0, style=ProgressS…"
      ]
     },
     "metadata": {},
     "output_type": "display_data"
    },
    {
     "name": "stdout",
     "output_type": "stream",
     "text": [
      "\n"
     ]
    }
   ],
   "source": [
    "model, corpus = cicero.word2vec_train([\"description\", \"mechanics\", \"categories\", \"families\", \"publishers\"])"
   ]
  },
  {
   "cell_type": "markdown",
   "metadata": {},
   "source": [
    "corpus"
   ]
  },
  {
   "cell_type": "code",
   "execution_count": 55,
   "metadata": {},
   "outputs": [
    {
     "name": "stdout",
     "output_type": "stream",
     "text": [
      "The autoreload extension is already loaded. To reload it, use:\n",
      "  %reload_ext autoreload\n",
      "importing Jupyter notebook from Pitagora.ipynb\n"
     ]
    }
   ],
   "source": [
    "## Pass to Pitagora class text corpus and model\n",
    "## Pitagora will return a vector of dimension D'\n",
    "%load_ext autoreload\n",
    "%autoreload 2\n",
    "\n",
    "import Pitagora as ptg\n",
    "import importlib\n",
    "\n",
    "importlib.reload(ptg)\n",
    "pitagora = ptg.Pitagora(corpus, model)"
   ]
  },
  {
   "cell_type": "code",
   "execution_count": 56,
   "metadata": {},
   "outputs": [
    {
     "data": {
      "application/vnd.jupyter.widget-view+json": {
       "model_id": "714c6e0b7e6147ab90c755d526ca27e8",
       "version_major": 2,
       "version_minor": 0
      },
      "text/plain": [
       "HBox(children=(FloatProgress(value=0.0, max=11831.0), HTML(value='')))"
      ]
     },
     "metadata": {},
     "output_type": "display_data"
    },
    {
     "name": "stdout",
     "output_type": "stream",
     "text": [
      "\n"
     ]
    }
   ],
   "source": [
    "cps = pitagora.topwords_extraction(quantity=10)"
   ]
  },
  {
   "cell_type": "markdown",
   "metadata": {},
   "source": [
    "models = []\n",
    "for index, row in tqdm(cicero.get_df().iterrows()):\n",
    "    models.append(\n",
    "        (row[\"name\"], model[row[\"name\"]]))"
   ]
  },
  {
   "cell_type": "code",
   "execution_count": 57,
   "metadata": {},
   "outputs": [],
   "source": [
    "#cps, len(cps)"
   ]
  },
  {
   "cell_type": "code",
   "execution_count": 58,
   "metadata": {},
   "outputs": [
    {
     "data": {
      "application/vnd.jupyter.widget-view+json": {
       "model_id": "f8ff9e49c9244d6186dcbfdd37c195d3",
       "version_major": 2,
       "version_minor": 0
      },
      "text/plain": [
       "HBox(children=(FloatProgress(value=0.0, max=11831.0), HTML(value='')))"
      ]
     },
     "metadata": {},
     "output_type": "display_data"
    },
    {
     "name": "stdout",
     "output_type": "stream",
     "text": [
      "\n"
     ]
    }
   ],
   "source": [
    "j = 0\n",
    "variables = cicero.get_df()\n",
    "trainset = []\n",
    "for element in tqdm(cps):\n",
    "    trainset.append((element, variables.loc[j, [\"name\", \"boardgame_rank\", \"usersrated\", \"averageweight\", \"average\", \"owned\"]]))\n",
    "    j += 1\n",
    "#variables.loc[j, [\"name\", \"id\"]][1]#[[\"name\", \"id\"]]"
   ]
  },
  {
   "cell_type": "code",
   "execution_count": 59,
   "metadata": {},
   "outputs": [
    {
     "data": {
      "text/plain": [
       "name              Gloomhaven\n",
       "boardgame_rank             1\n",
       "usersrated             35214\n",
       "averageweight         3.8266\n",
       "average               8.8288\n",
       "owned                  56587\n",
       "Name: 0, dtype: object"
      ]
     },
     "execution_count": 59,
     "metadata": {},
     "output_type": "execute_result"
    }
   ],
   "source": [
    "trainset[0][1]"
   ]
  },
  {
   "cell_type": "code",
   "execution_count": 60,
   "metadata": {},
   "outputs": [],
   "source": [
    "embeddings = []\n",
    "i = 0\n",
    "quantity = 10"
   ]
  },
  {
   "cell_type": "code",
   "execution_count": 61,
   "metadata": {},
   "outputs": [
    {
     "data": {
      "application/vnd.jupyter.widget-view+json": {
       "model_id": "168b197b63754f288ebf50346ef48d70",
       "version_major": 2,
       "version_minor": 0
      },
      "text/plain": [
       "HBox(children=(FloatProgress(value=0.0, max=11831.0), HTML(value='')))"
      ]
     },
     "metadata": {},
     "output_type": "display_data"
    },
    {
     "name": "stderr",
     "output_type": "stream",
     "text": [
      "/home/tore/venv/lib/python3.7/site-packages/ipykernel_launcher.py:5: DeprecationWarning: Call to deprecated `__getitem__` (Method will be removed in 4.0.0, use self.wv.__getitem__() instead).\n",
      "  \"\"\"\n"
     ]
    },
    {
     "name": "stdout",
     "output_type": "stream",
     "text": [
      "Absent word:  points  - From game:  name              1846: The Race for the Midwest\n",
      "boardgame_rank                               445\n",
      "usersrated                                  1903\n",
      "averageweight                             4.0265\n",
      "average                                  7.98339\n",
      "owned                                       3097\n",
      "Name: 320, dtype: object\n",
      "Absent word:  results  - From game:  name              Armageddon War: Platoon Level Combat in the En...\n",
      "boardgame_rank                                                 5887\n",
      "usersrated                                                      101\n",
      "averageweight                                                3.1429\n",
      "average                                                     8.27455\n",
      "owned                                                           362\n",
      "Name: 4077, dtype: object\n",
      "\n"
     ]
    }
   ],
   "source": [
    "for element in tqdm(trainset):\n",
    "    foster_element = []\n",
    "    try:\n",
    "        for word in element[0]:\n",
    "            foster_element.append(model[word].tolist())\n",
    "        if len(foster_element) < quantity:\n",
    "            foster_element = []\n",
    "        else:\n",
    "            embeddings.append((foster_element, element[1]))\n",
    "    except:\n",
    "        print(\"Absent word: \", word, \" - From game: \", element[1])\n",
    "        i += 1\n",
    "        pass"
   ]
  },
  {
   "cell_type": "code",
   "execution_count": 79,
   "metadata": {},
   "outputs": [],
   "source": [
    "#len(embeddings), len(embeddings[0]), len(embeddings[0][0]), len(embeddings[0][0][0]), quantity ** 2"
   ]
  },
  {
   "cell_type": "markdown",
   "metadata": {},
   "source": [
    "### Once \"embeddings\" has been obtained, it must be compressed via a transformer\n",
    "##### Each list contains 10 words, post embedding each word becomes a list of 100 values. \n",
    "100 values * 10 words = 1000 values <br>\n",
    "\n",
    "Two possible paths: <br>\n",
    "1] Neural network with 1000 neurons as input layers [OUT OF QUESTION]<br>\n",
    "2] Compression of each 10 terms of 100 values each into one single vector of length D', in order to make an input layer of D' neurons [FEASIBLE WITH SKLEARN.DECOMPOSITION'S PCA IMPLEMENTATION]<br>\n",
    "\n"
   ]
  },
  {
   "cell_type": "markdown",
   "metadata": {},
   "source": [
    "import Athena as ath\n",
    "athena = ath.Athena()"
   ]
  },
  {
   "cell_type": "code",
   "execution_count": null,
   "metadata": {},
   "outputs": [],
   "source": []
  },
  {
   "cell_type": "code",
   "execution_count": null,
   "metadata": {},
   "outputs": [],
   "source": []
  },
  {
   "cell_type": "markdown",
   "metadata": {},
   "source": [
    "## Step 3\n",
    "Perform a correlation analysis of the variables. On top of this, try to design and implement a model for predicting the \"subjective\" variable values starting from the \"objective\" variables. Optionally, define a recommendation system for games."
   ]
  },
  {
   "cell_type": "markdown",
   "metadata": {},
   "source": [
    "## Variables to be observed:\n",
    "\n",
    "<table style=\"width:100%\">\n",
    "  <tr>\n",
    "    <th>Objective</th>\n",
    "    <th>Subjective</th>\n",
    "  </tr>\n",
    "  <tr>\n",
    "    <td>Name</td>\n",
    "    <td>User rating</td>\n",
    "  </tr>\n",
    "  <tr>\n",
    "    <td>Description</td>\n",
    "    <td>Average</td>\n",
    "  </tr>\n",
    "  <tr>\n",
    "    <td>Categories</td>\n",
    "    <td>Average Weight</td>\n",
    "  </tr>\n",
    "  <tr>\n",
    "    <td>Families</td>\n",
    "    <td>Owned</td>\n",
    "  </tr>\n",
    "  <tr>\n",
    "    <td>Publishers</td>\n",
    "    <td>Rank</td>\n",
    "  </tr>\n",
    "  <tr>\n",
    "    <td>Mechanics</td>\n",
    "    <td></td>\n",
    "  </tr>\n",
    "  <tr>\n",
    "    <td></td>\n",
    "    <td></td>\n",
    "  </tr>\n",
    "</table>"
   ]
  },
  {
   "cell_type": "markdown",
   "metadata": {},
   "source": [
    " ##### Embeddings is shaped as a list of lists, each containing both the overall embeddings and the corresponding subjective informations about the game.\n",
    "Each list contains a 100-dimensional list "
   ]
  },
  {
   "cell_type": "code",
   "execution_count": null,
   "metadata": {},
   "outputs": [],
   "source": []
  },
  {
   "cell_type": "code",
   "execution_count": null,
   "metadata": {},
   "outputs": [],
   "source": []
  },
  {
   "cell_type": "code",
   "execution_count": null,
   "metadata": {},
   "outputs": [],
   "source": []
  },
  {
   "cell_type": "markdown",
   "metadata": {},
   "source": [
    "## Step 4\n",
    "Include in the paper a report describing the output of Step 3"
   ]
  },
  {
   "cell_type": "code",
   "execution_count": null,
   "metadata": {},
   "outputs": [],
   "source": []
  }
 ],
 "metadata": {
  "kernelspec": {
   "display_name": "Python 3",
   "language": "python",
   "name": "python3"
  },
  "language_info": {
   "codemirror_mode": {
    "name": "ipython",
    "version": 3
   },
   "file_extension": ".py",
   "mimetype": "text/x-python",
   "name": "python",
   "nbconvert_exporter": "python",
   "pygments_lexer": "ipython3",
   "version": "3.7.5"
  }
 },
 "nbformat": 4,
 "nbformat_minor": 4
}
