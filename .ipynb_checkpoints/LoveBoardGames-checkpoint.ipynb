{
 "cells": [
  {
   "cell_type": "code",
   "execution_count": 4,
   "metadata": {},
   "outputs": [],
   "source": [
    "import importlib\n",
    "import os\n",
    "import random\n",
    "import time\n",
    "\n",
    "import import_ipynb\n",
    "import numpy as np\n",
    "import pandas as pnd\n",
    "import requests\n",
    "import seaborn as sns\n",
    "from boardgamegeek import BoardGameGeek\n",
    "from langdetect import detect\n",
    "from tqdm.notebook import tqdm\n",
    "\n",
    "import BggDbGetter as BDG\n",
    "import BggDbScraper as BDS\n",
    "import BggHelper as BH\n",
    "import Cicero as Cic\n",
    "import Glossa as glos"
   ]
  },
  {
   "cell_type": "markdown",
   "metadata": {},
   "source": [
    "# Step 1\n",
    "\n",
    "Access BBG API's to download game and user preferences data.\n",
    "Define criterion used for setting the parameters that drive the download in termis of the variables defining the dataset, such collecting games only for a specified period or a specified set of categories. The wider the game collection, the better."
   ]
  },
  {
   "cell_type": "code",
   "execution_count": 5,
   "metadata": {},
   "outputs": [],
   "source": [
    "helper = BH.BggHelper()\n",
    "new_df = helper.bgg_start(get=False, scrape=False)"
   ]
  },
  {
   "cell_type": "markdown",
   "metadata": {},
   "source": [
    "#### Dataframe reading"
   ]
  },
  {
   "cell_type": "code",
   "execution_count": 6,
   "metadata": {},
   "outputs": [],
   "source": [
    "df = pnd.read_csv(\"BGG_sampled.csv\")\n",
    "df.shape\n",
    "dfh = df"
   ]
  },
  {
   "cell_type": "code",
   "execution_count": 7,
   "metadata": {},
   "outputs": [],
   "source": [
    "gls = glos.Glossa(dfh, \"en\")\n",
    "cicero = Cic.Cicero(gls)"
   ]
  },
  {
   "cell_type": "code",
   "execution_count": null,
   "metadata": {},
   "outputs": [],
   "source": [
    "cicero = cicero.clean_lemming(\"description\")"
   ]
  },
  {
   "cell_type": "code",
   "execution_count": null,
   "metadata": {},
   "outputs": [],
   "source": [
    "cicero = cicero.clean_lemming(\"categories\")"
   ]
  },
  {
   "cell_type": "code",
   "execution_count": null,
   "metadata": {},
   "outputs": [],
   "source": [
    "#cicero = cicero.eng_lemming(\"name\")\n",
    "cicero = cicero.eng_lemming(\"publishers\")"
   ]
  },
  {
   "cell_type": "code",
   "execution_count": null,
   "metadata": {},
   "outputs": [],
   "source": [
    "cicero = cicero.eng_lemming(\"families\")"
   ]
  },
  {
   "cell_type": "code",
   "execution_count": null,
   "metadata": {},
   "outputs": [],
   "source": [
    "#cicero = cicero.eng_lemming(\"mechanics\")\n",
    "df[\"families\"][0]"
   ]
  },
  {
   "cell_type": "code",
   "execution_count": 8,
   "metadata": {},
   "outputs": [
    {
     "data": {
      "text/html": [
       "<div>\n",
       "<style scoped>\n",
       "    .dataframe tbody tr th:only-of-type {\n",
       "        vertical-align: middle;\n",
       "    }\n",
       "\n",
       "    .dataframe tbody tr th {\n",
       "        vertical-align: top;\n",
       "    }\n",
       "\n",
       "    .dataframe thead th {\n",
       "        text-align: right;\n",
       "    }\n",
       "</style>\n",
       "<table border=\"1\" class=\"dataframe\">\n",
       "  <thead>\n",
       "    <tr style=\"text-align: right;\">\n",
       "      <th></th>\n",
       "      <th>name</th>\n",
       "      <th>mechanics</th>\n",
       "      <th>families</th>\n",
       "      <th>yearpublished</th>\n",
       "    </tr>\n",
       "  </thead>\n",
       "  <tbody>\n",
       "    <tr>\n",
       "      <th>0</th>\n",
       "      <td>Gloomhaven</td>\n",
       "      <td>['Action Retrieval', 'Campaign / Battle Card D...</td>\n",
       "      <td>['Campaign Games', 'Components: Miniatures', '...</td>\n",
       "      <td>2017</td>\n",
       "    </tr>\n",
       "    <tr>\n",
       "      <th>1</th>\n",
       "      <td>Pandemic Legacy: Season 1</td>\n",
       "      <td>['Action Points', 'Cooperative Game', 'Hand Ma...</td>\n",
       "      <td>['Campaign Games', 'Legacy', 'Pandemic', 'Them...</td>\n",
       "      <td>2015</td>\n",
       "    </tr>\n",
       "    <tr>\n",
       "      <th>2</th>\n",
       "      <td>Terraforming Mars</td>\n",
       "      <td>['Card Drafting', 'End Game Bonuses', 'Hand Ma...</td>\n",
       "      <td>[\"Fryxgames' Future Timeline\", 'Player Count: ...</td>\n",
       "      <td>2016</td>\n",
       "    </tr>\n",
       "    <tr>\n",
       "      <th>3</th>\n",
       "      <td>Brass: Birmingham</td>\n",
       "      <td>['Connections', 'Hand Management', 'Income', '...</td>\n",
       "      <td>['Brass', 'Cities: Birmingham (England)', 'Cou...</td>\n",
       "      <td>2018</td>\n",
       "    </tr>\n",
       "    <tr>\n",
       "      <th>4</th>\n",
       "      <td>Through the Ages: A New Story of Civilization</td>\n",
       "      <td>['Action Points', 'Auction/Bidding', 'Auction:...</td>\n",
       "      <td>['Tableau Building', 'Through the Ages']</td>\n",
       "      <td>2015</td>\n",
       "    </tr>\n",
       "    <tr>\n",
       "      <th>...</th>\n",
       "      <td>...</td>\n",
       "      <td>...</td>\n",
       "      <td>...</td>\n",
       "      <td>...</td>\n",
       "    </tr>\n",
       "    <tr>\n",
       "      <th>14110</th>\n",
       "      <td>Who Wants to Be a Millionaire</td>\n",
       "      <td>['Push Your Luck']</td>\n",
       "      <td>['TV Series: TV Game Shows', 'TV Series: Who W...</td>\n",
       "      <td>2000</td>\n",
       "    </tr>\n",
       "    <tr>\n",
       "      <th>14111</th>\n",
       "      <td>In a Pickle</td>\n",
       "      <td>['Hand Management', 'Storytelling']</td>\n",
       "      <td>['Gamewright Port-A-Party Series']</td>\n",
       "      <td>2004</td>\n",
       "    </tr>\n",
       "    <tr>\n",
       "      <th>14112</th>\n",
       "      <td>Fact or Crap</td>\n",
       "      <td>['Card Drafting', 'Memory']</td>\n",
       "      <td>[]</td>\n",
       "      <td>2001</td>\n",
       "    </tr>\n",
       "    <tr>\n",
       "      <th>14113</th>\n",
       "      <td>The Worst-Case Scenario Survival Game</td>\n",
       "      <td>['Dice Rolling']</td>\n",
       "      <td>['The Worst-Case Scenario Survival Family']</td>\n",
       "      <td>2002</td>\n",
       "    </tr>\n",
       "    <tr>\n",
       "      <th>14114</th>\n",
       "      <td>The Oregon Trail Card Game</td>\n",
       "      <td>['Communication Limits', 'Connections', 'Coope...</td>\n",
       "      <td>['Admin: Better Description Needed!', 'History...</td>\n",
       "      <td>2016</td>\n",
       "    </tr>\n",
       "  </tbody>\n",
       "</table>\n",
       "<p>14115 rows × 4 columns</p>\n",
       "</div>"
      ],
      "text/plain": [
       "                                                name  \\\n",
       "0                                         Gloomhaven   \n",
       "1                          Pandemic Legacy: Season 1   \n",
       "2                                  Terraforming Mars   \n",
       "3                                  Brass: Birmingham   \n",
       "4      Through the Ages: A New Story of Civilization   \n",
       "...                                              ...   \n",
       "14110                  Who Wants to Be a Millionaire   \n",
       "14111                                    In a Pickle   \n",
       "14112                                   Fact or Crap   \n",
       "14113          The Worst-Case Scenario Survival Game   \n",
       "14114                     The Oregon Trail Card Game   \n",
       "\n",
       "                                               mechanics  \\\n",
       "0      ['Action Retrieval', 'Campaign / Battle Card D...   \n",
       "1      ['Action Points', 'Cooperative Game', 'Hand Ma...   \n",
       "2      ['Card Drafting', 'End Game Bonuses', 'Hand Ma...   \n",
       "3      ['Connections', 'Hand Management', 'Income', '...   \n",
       "4      ['Action Points', 'Auction/Bidding', 'Auction:...   \n",
       "...                                                  ...   \n",
       "14110                                 ['Push Your Luck']   \n",
       "14111                ['Hand Management', 'Storytelling']   \n",
       "14112                        ['Card Drafting', 'Memory']   \n",
       "14113                                   ['Dice Rolling']   \n",
       "14114  ['Communication Limits', 'Connections', 'Coope...   \n",
       "\n",
       "                                                families  yearpublished  \n",
       "0      ['Campaign Games', 'Components: Miniatures', '...           2017  \n",
       "1      ['Campaign Games', 'Legacy', 'Pandemic', 'Them...           2015  \n",
       "2      [\"Fryxgames' Future Timeline\", 'Player Count: ...           2016  \n",
       "3      ['Brass', 'Cities: Birmingham (England)', 'Cou...           2018  \n",
       "4               ['Tableau Building', 'Through the Ages']           2015  \n",
       "...                                                  ...            ...  \n",
       "14110  ['TV Series: TV Game Shows', 'TV Series: Who W...           2000  \n",
       "14111                 ['Gamewright Port-A-Party Series']           2004  \n",
       "14112                                                 []           2001  \n",
       "14113        ['The Worst-Case Scenario Survival Family']           2002  \n",
       "14114  ['Admin: Better Description Needed!', 'History...           2016  \n",
       "\n",
       "[14115 rows x 4 columns]"
      ]
     },
     "execution_count": 8,
     "metadata": {},
     "output_type": "execute_result"
    }
   ],
   "source": [
    "year_tag_analysis = df[[\"name\", \"mechanics\", \"families\", \"yearpublished\"]]#[0]\n",
    "year_tag_analysis"
   ]
  },
  {
   "cell_type": "code",
   "execution_count": null,
   "metadata": {},
   "outputs": [],
   "source": [
    "\"\"\"for row in year_tag_analysis:\n",
    "    row[]\"\"\""
   ]
  },
  {
   "cell_type": "code",
   "execution_count": null,
   "metadata": {},
   "outputs": [],
   "source": [
    "#year_tag_df = cicero.get_df()[]\n",
    "#cicero.get_df()[cicero.get_df()[\"families\"] == \"[]\"]"
   ]
  },
  {
   "cell_type": "markdown",
   "metadata": {},
   "source": [
    "# Step 2\n",
    "\n",
    "Pre-process game text (title and description) in order to define the terms to include in the variables to be observed, eventually using a word embedding model to normalize and/or expand the terminology extracted from the game description."
   ]
  },
  {
   "cell_type": "markdown",
   "metadata": {},
   "source": [
    "## Followed  this url:\n",
    "### https://towardsdatascience.com/a-beginners-guide-to-word-embedding-with-gensim-word2vec-model-5970fa56cc92\n"
   ]
  },
  {
   "cell_type": "markdown",
   "metadata": {},
   "source": [
    "<div class=\"mark\">\n",
    "    TODO: Everything done until now is fine, yet there are some issues and here lies the solution\n",
    "</div><i class=\"fa fa-lightbulb-o \"></i>\n",
    "<ul>\n",
    "    <li>The corpus is made of N rows</li>\n",
    "    <li>Each rows has a variable number of words M\n",
    "        <ul>\n",
    "            <li>Train W2V with overall corpus</li>\n",
    "            <li>Extract from each row the top relevant words via Sklearn's TF-IDF</li>\n",
    "            <li>Embed via W2V the top relevant words into a matrix of dimension XxD</li>\n",
    "            <li>Use python's transfromer to compress them into a vector of dimension D'</li>\n",
    "        </ul>\n",
    "    </li>\n",
    "    <li>Create a Neural network with input size XxD' and train it</li>\n",
    "    <li>Find the correlation during testing time (remember to cross-validate)</li>\n",
    "    <li>????</li>\n",
    "    <li>Profit</li>\n",
    "</ul>"
   ]
  },
  {
   "cell_type": "markdown",
   "metadata": {},
   "source": [
    "#### Need to create a column in the dataframe containing all the important words in the row. <br> This takes into account Name, description, mechanics, families and publishers"
   ]
  },
  {
   "cell_type": "code",
   "execution_count": null,
   "metadata": {},
   "outputs": [],
   "source": [
    "df.columns"
   ]
  },
  {
   "cell_type": "code",
   "execution_count": null,
   "metadata": {},
   "outputs": [],
   "source": [
    "model, corpus = cicero.word2vec_train([\"description\", \"mechanics\", \"categories\", \"families\", \"publishers\"])"
   ]
  },
  {
   "cell_type": "markdown",
   "metadata": {},
   "source": [
    "corpus"
   ]
  },
  {
   "cell_type": "code",
   "execution_count": null,
   "metadata": {},
   "outputs": [],
   "source": [
    "## Pass to Pitagora class text corpus and model\n",
    "## Pitagora will return a vector of dimension D'\n",
    "\n",
    "import Pitagora as ptg\n",
    "import importlib\n",
    "\n",
    "importlib.reload(ptg)\n",
    "pitagora = ptg.Pitagora(corpus, model)"
   ]
  },
  {
   "cell_type": "code",
   "execution_count": null,
   "metadata": {},
   "outputs": [],
   "source": [
    "cps = pitagora.topwords_extraction(quantity=20)"
   ]
  },
  {
   "cell_type": "code",
   "execution_count": null,
   "metadata": {},
   "outputs": [],
   "source": [
    "j = 0\n",
    "variables = cicero.get_df()\n",
    "trainset = []\n",
    "for element in tqdm(cps):\n",
    "    trainset.append((element, variables.loc[j, [\n",
    "        \"name\", \"boardgame_rank\", \"averageweight\", \"average\", \"yearpublished\",\n",
    "        \"playingtime\", \"minplayers\", \"maxplayers\"\n",
    "    ]]))\n",
    "    j += 1\n",
    "#variables.loc[j, [\"name\", \"id\"]][1]#[[\"name\", \"id\"]]"
   ]
  },
  {
   "cell_type": "code",
   "execution_count": null,
   "metadata": {},
   "outputs": [],
   "source": [
    "trainset[0]"
   ]
  },
  {
   "cell_type": "code",
   "execution_count": null,
   "metadata": {},
   "outputs": [],
   "source": [
    "embeddings = []\n",
    "i = 0\n",
    "quantity = 20"
   ]
  },
  {
   "cell_type": "code",
   "execution_count": null,
   "metadata": {},
   "outputs": [],
   "source": [
    "for element in tqdm(trainset):\n",
    "    foster_element = []\n",
    "    try:\n",
    "        for word in element[0]:\n",
    "            foster_element.append(model[word].tolist())\n",
    "        if len(foster_element) < quantity:\n",
    "            foster_element = []\n",
    "        else:\n",
    "            embeddings.append((foster_element, element[1]))\n",
    "    except:\n",
    "        print(\"Absent word: \", word, \" - From game: \", element[1])\n",
    "        i += 1\n",
    "        pass"
   ]
  },
  {
   "cell_type": "code",
   "execution_count": null,
   "metadata": {},
   "outputs": [],
   "source": [
    "len(embeddings), len(embeddings[0]), len(embeddings[0][0]), len(embeddings[0][0][0]), quantity ** 2"
   ]
  },
  {
   "cell_type": "markdown",
   "metadata": {},
   "source": [
    "### Once \"embeddings\" has been obtained, it must be compressed via a transformer\n",
    "##### Each list contains 10 words, post embedding each word becomes a list of 100 values. \n",
    "100 values * 10 words = 1000 values <br>\n",
    "\n",
    "Two possible paths: <br>\n",
    "1] Neural network with 1000 neurons as input layers [OUT OF QUESTION]<br>\n",
    "2] Compression of each 10 terms of 100 values each into one single vector of length D', in order to make an input layer of D' neurons [FEASIBLE WITH SKLEARN.DECOMPOSITION'S PCA IMPLEMENTATION]-> No! Use Autoencoder with NN! <br>\n",
    "\n"
   ]
  },
  {
   "cell_type": "code",
   "execution_count": null,
   "metadata": {},
   "outputs": [],
   "source": [
    "#%reload_ext autoreload\n",
    "#%autoreload 2\n",
    "\n",
    "import Athena\n",
    "import importlib\n"
   ]
  },
  {
   "cell_type": "code",
   "execution_count": null,
   "metadata": {},
   "outputs": [],
   "source": [
    "importlib.reload(Athena)"
   ]
  },
  {
   "cell_type": "code",
   "execution_count": null,
   "metadata": {},
   "outputs": [],
   "source": [
    "model_rank = Athena.Athena(embeddings).make_model_rank().get_model_rank()"
   ]
  },
  {
   "cell_type": "code",
   "execution_count": null,
   "metadata": {},
   "outputs": [],
   "source": [
    "model_classic_vote = Athena.Athena(embeddings).make_model_classic().get_model_classic()"
   ]
  },
  {
   "cell_type": "code",
   "execution_count": null,
   "metadata": {},
   "outputs": [],
   "source": [
    "model_classic_weigth = Athena.Athena(embeddings).make_model_classic().get_model_classic()"
   ]
  },
  {
   "cell_type": "code",
   "execution_count": null,
   "metadata": {},
   "outputs": [],
   "source": [
    "j = 0\n",
    "x, x_elem = [], []#np.array([]), []\n",
    "#y = np.array([])\n",
    "y_rank, y_weigth, y_vote = [], [], []\n",
    "for i in tqdm(embeddings):\n",
    "    #y = np.concatenate(y, np.array([i[1]]))\n",
    "    #y.append(i[1][1:])\n",
    "    y_rank.append(i[1][1])\n",
    "    y_weigth.append(i[1][2])\n",
    "    y_vote.append(i[1][3])\n",
    "    #change here from 20 to 10\n",
    "    while j < 20:\n",
    "        x_elem += i[0][j]\n",
    "        j += 1\n",
    "    #x = np.concatenate(x, np.array(x_elem))\n",
    "    x_elem.append(i[1][4])\n",
    "    x_elem.append(i[1][5])\n",
    "    x_elem.append(i[1][6])\n",
    "    x_elem.append(i[1][7])\n",
    "    x.append(np.array(x_elem))\n",
    "    x_elem = []\n",
    "    j = 0\n",
    "#i = embeddings[0][0]\n",
    "#i"
   ]
  },
  {
   "cell_type": "code",
   "execution_count": null,
   "metadata": {},
   "outputs": [],
   "source": [
    "rankmax = max(y_rank)\n",
    "#y_rank = list(map(lambda y: y/rankmax, y_rank))\n",
    "y_weigth = list(map(lambda y: y*(1/5), y_weigth))\n",
    "y_vote = list(map(lambda y: y/10, y_vote))"
   ]
  },
  {
   "cell_type": "code",
   "execution_count": null,
   "metadata": {},
   "outputs": [],
   "source": [
    "len(x), len(y_rank), len(embeddings)"
   ]
  },
  {
   "cell_type": "code",
   "execution_count": null,
   "metadata": {},
   "outputs": [],
   "source": [
    "from sklearn.model_selection import train_test_split  "
   ]
  },
  {
   "cell_type": "code",
   "execution_count": null,
   "metadata": {},
   "outputs": [],
   "source": [
    "x_rank_train, x_rank_test, y_rank_train, y_rank_test = train_test_split(np.array(x),\n",
    "                                                    np.array(y_rank), \n",
    "                                                    train_size=0.70, \n",
    "                                                    test_size=0.30)"
   ]
  },
  {
   "cell_type": "code",
   "execution_count": null,
   "metadata": {},
   "outputs": [],
   "source": [
    "x_w_train, x_w_test, y_w_train, y_w_test = train_test_split(np.array(x),\n",
    "                                                    np.array(y_weigth), \n",
    "                                                    train_size=0.70, \n",
    "                                                    test_size=0.30)"
   ]
  },
  {
   "cell_type": "code",
   "execution_count": null,
   "metadata": {},
   "outputs": [],
   "source": [
    "x_v_train, x_v_test, y_v_train, y_v_test = train_test_split(np.array(x),\n",
    "                                                    np.array(y_vote), \n",
    "                                                    train_size=0.70, \n",
    "                                                    test_size=0.30)"
   ]
  },
  {
   "cell_type": "code",
   "execution_count": null,
   "metadata": {},
   "outputs": [],
   "source": [
    "#np.shape(y_train)\n",
    "#(x_train[0])\n",
    "#(y_test)\n",
    "#x_test, y_test"
   ]
  },
  {
   "cell_type": "code",
   "execution_count": null,
   "metadata": {},
   "outputs": [],
   "source": [
    "#model_2, model_3 = model.get_model(), model.get_model()"
   ]
  },
  {
   "cell_type": "code",
   "execution_count": null,
   "metadata": {},
   "outputs": [],
   "source": [
    "import extra_keras_metrics\n",
    "import keras.utils\n",
    "import numpy as np\n",
    "import tensorflow as tf\n",
    "from keras import backend as B\n",
    "from keras.layers import BatchNormalization, Dense\n",
    "from keras.models import Sequential\n",
    "from keras_tqdm import TQDMNotebookCallback as ktqdm\n",
    "from matplotlib import pyplot as plt\n",
    "from plot_keras_history import plot_history\n",
    "from sklearn.model_selection import train_test_split\n",
    "from sklearn.utils import shuffle\n",
    "from tensorflow import keras\n",
    "from tensorflow.keras import layers\n",
    "from keras.utils.vis_utils import plot_model\n",
    "#from tensorflow.python.keras.metrics import Metric\n",
    "from tqdm import tqdm_notebook as tqdm"
   ]
  },
  {
   "cell_type": "code",
   "execution_count": null,
   "metadata": {},
   "outputs": [],
   "source": [
    "\"\"\"history = model_2.fit(x_train,\n",
    "                      y_train,\n",
    "                      epochs=100,\n",
    "                      shuffle=True,\n",
    "                      batch_size=32,\n",
    "                      verbose=0,\n",
    "                      callbacks=[ktqdm(metric_format=\"{name}: {value:e}\")],\n",
    "                      validation_data=(x_test, y_test)\n",
    "                     )\"\"\""
   ]
  },
  {
   "cell_type": "code",
   "execution_count": null,
   "metadata": {},
   "outputs": [],
   "source": [
    "np.shape(x_rank_train)"
   ]
  },
  {
   "cell_type": "code",
   "execution_count": null,
   "metadata": {},
   "outputs": [],
   "source": [
    "history_rank = model_rank.fit(x_rank_train,\n",
    "                      y_rank_train,\n",
    "                      epochs=100,\n",
    "                      shuffle=True,\n",
    "                      batch_size=32,\n",
    "                      verbose=0,\n",
    "                      callbacks=[ktqdm(metric_format=\"{name}: {value:e}\")],\n",
    "                      validation_data=(x_rank_test, y_rank_test)\n",
    "                     )"
   ]
  },
  {
   "cell_type": "code",
   "execution_count": null,
   "metadata": {},
   "outputs": [],
   "source": [
    "history_weigth = model_classic_weigth.fit(x_w_train,\n",
    "                      y_w_train,\n",
    "                      epochs=100,\n",
    "                      shuffle=True,\n",
    "                      batch_size=32,\n",
    "                      verbose=0,\n",
    "                      callbacks=[ktqdm(metric_format=\"{name}: {value:e}\")],\n",
    "                      validation_data=(x_w_test, y_w_test)\n",
    "                     )"
   ]
  },
  {
   "cell_type": "code",
   "execution_count": null,
   "metadata": {},
   "outputs": [],
   "source": [
    "history_vote = model_classic_vote.fit(x_v_train,\n",
    "                      y_v_train,\n",
    "                      epochs=100,\n",
    "                      shuffle=True,\n",
    "                      batch_size=32,\n",
    "                      verbose=0,\n",
    "                      callbacks=[ktqdm(metric_format=\"{name}: {value:e}\")],\n",
    "                      validation_data=(x_v_test, y_v_test)\n",
    "                     )"
   ]
  },
  {
   "cell_type": "code",
   "execution_count": null,
   "metadata": {},
   "outputs": [],
   "source": [
    "from plot_keras_history import plot_history\n",
    "\n",
    "def plot_history_graph(history, index, label):\n",
    "    \"\"\"Plot the graph for the given history metrics.\"\"\"\n",
    "    plt.plot(history.history[index], label='Training %s = %0.6f' % (label, history.history[index][-1]))\n",
    "    plt.plot(history.history['val_%s'%index] , label='Testing %s = %0.6f' % (label, history.history['val_%s'%index][-1]))\n",
    "    plt.title('Model %s'%label, fontsize=15)\n",
    "    plt.ylabel(label)\n",
    "    plt.xlabel('epoch')\n",
    "    plt.legend(loc='upper right')\n",
    "\n",
    "plot_history(history_rank.history)"
   ]
  },
  {
   "cell_type": "code",
   "execution_count": null,
   "metadata": {},
   "outputs": [],
   "source": [
    "plot_history(history_weigth.history)"
   ]
  },
  {
   "cell_type": "code",
   "execution_count": null,
   "metadata": {},
   "outputs": [],
   "source": [
    "plot_history(history_vote.history)"
   ]
  },
  {
   "cell_type": "code",
   "execution_count": null,
   "metadata": {},
   "outputs": [],
   "source": [
    "#history = model.train_model(x_train[0], y_train[0], x_test[0], y_test[0])"
   ]
  },
  {
   "cell_type": "markdown",
   "metadata": {},
   "source": [
    "## Step 3\n",
    "Perform a correlation analysis of the variables. On top of this, try to design and implement a model for predicting the \"subjective\" variable values starting from the \"objective\" variables. Optionally, define a recommendation system for games."
   ]
  },
  {
   "cell_type": "markdown",
   "metadata": {},
   "source": [
    "## Variables to be observed:\n",
    "\n",
    "<table style=\"width:100%\">\n",
    "  <tr>\n",
    "    <th>Objective</th>\n",
    "    <th>Subjective</th>\n",
    "  </tr>\n",
    "  <tr>\n",
    "    <td>Name</td>\n",
    "    <td>User rating</td>\n",
    "  </tr>\n",
    "  <tr>\n",
    "    <td>Description</td>\n",
    "    <td>Average</td>\n",
    "  </tr>\n",
    "  <tr>\n",
    "    <td>Categories</td>\n",
    "    <td>Average Weight</td>\n",
    "  </tr>\n",
    "  <tr>\n",
    "    <td>Families</td>\n",
    "    <td>Owned</td>\n",
    "  </tr>\n",
    "  <tr>\n",
    "    <td>Publishers</td>\n",
    "    <td>Rank</td>\n",
    "  </tr>\n",
    "  <tr>\n",
    "    <td>Mechanics</td>\n",
    "    <td></td>\n",
    "  </tr>\n",
    "  <tr>\n",
    "    <td></td>\n",
    "    <td></td>\n",
    "  </tr>\n",
    "</table>"
   ]
  },
  {
   "cell_type": "markdown",
   "metadata": {},
   "source": [
    " ##### Embeddings is shaped as a list of lists, each containing both the overall embeddings and the corresponding subjective informations about the game.\n",
    "Each list contains a 100-dimensional list "
   ]
  },
  {
   "cell_type": "code",
   "execution_count": null,
   "metadata": {},
   "outputs": [],
   "source": [
    "a = (cicero.get_df()[\"mechanics\"][0]).strip(\"[\").strip(\"]\").split(\",\")\n",
    "#.replace(\"'\", \"\")\n",
    "[x.replace(\"'\", \"\").strip() for x in a]"
   ]
  },
  {
   "cell_type": "code",
   "execution_count": 9,
   "metadata": {},
   "outputs": [],
   "source": [
    "year_tag_analysis = year_tag_analysis[year_tag_analysis[\"mechanics\"] != \"[]\"]\n",
    "year_tag_analysis = year_tag_analysis[year_tag_analysis[\"families\"] != \"[]\"]"
   ]
  },
  {
   "cell_type": "code",
   "execution_count": 10,
   "metadata": {},
   "outputs": [
    {
     "data": {
      "application/vnd.jupyter.widget-view+json": {
       "model_id": "939285926c36460e8993efa98252ea78",
       "version_major": 2,
       "version_minor": 0
      },
      "text/plain": [
       "HBox(children=(FloatProgress(value=1.0, bar_style='info', max=1.0), HTML(value='')))"
      ]
     },
     "metadata": {},
     "output_type": "display_data"
    },
    {
     "name": "stdout",
     "output_type": "stream",
     "text": [
      "\n"
     ]
    }
   ],
   "source": [
    "mechanics_year_list = []\n",
    "for index, row in tqdm(year_tag_analysis.iterrows()):\n",
    "    mechanics_year_list += [(x.replace(\"'\", \"\").replace(\"\\\"\", \"\").strip().lower(), row[\"yearpublished\"]) for x in ((row[\"mechanics\"].strip(\"[\").strip(\"]\")).split(\",\"))]\n",
    "    "
   ]
  },
  {
   "cell_type": "code",
   "execution_count": 11,
   "metadata": {},
   "outputs": [],
   "source": [
    "#mech_freqs = mechanics_year_list.count(mechanics_year_list[0])\n",
    "set_mechs = set(mechanics_year_list)\n",
    "sorted_mechs = sorted(mechanics_year_list)\n",
    "#freqs = [(\"{:.5%}\".format(sorted_mechs.count(x)/len(sorted_mechs)), x) for x in tqdm(sorted(set_mechs))]"
   ]
  },
  {
   "cell_type": "code",
   "execution_count": 12,
   "metadata": {
    "scrolled": false
   },
   "outputs": [],
   "source": [
    "#newfreqs = [(x[0], x[1][0], x[1][1]) for x in tqdm(freqs)]"
   ]
  },
  {
   "cell_type": "code",
   "execution_count": 15,
   "metadata": {},
   "outputs": [],
   "source": [
    "#newfreqs = sorted(newfreqs, key=lambda x: x[2])\n",
    "#newfreqs\n",
    "years = []\n",
    "for i in range(2000, 2021):\n",
    "    years.append(sorted([x for x in sorted_mechs if x[1] == i], key=lambda x: x[0], reverse=True))"
   ]
  },
  {
   "cell_type": "code",
   "execution_count": 68,
   "metadata": {},
   "outputs": [],
   "source": [
    "freq_years = []\n",
    "for year in years:\n",
    "    set_year = set(year)\n",
    "    freq_year = []\n",
    "    for tag in set_year:\n",
    "        #\"{:.5%}\".format\n",
    "        freq_year += [(year.count(tag)/len(year), tag[0], tag[1])]\n",
    "    freq_years.append(sorted(freq_year, key=lambda x: x[0], reverse=True))"
   ]
  },
  {
   "cell_type": "code",
   "execution_count": 66,
   "metadata": {},
   "outputs": [
    {
     "name": "stdout",
     "output_type": "stream",
     "text": [
      "0.9999999999999998\n"
     ]
    }
   ],
   "source": [
    "freq_years[0][0][0]\n",
    "sm = 0\n",
    "for year in freq_years[0]:\n",
    "    sm += year[0]\n",
    "print(sm)"
   ]
  },
  {
   "cell_type": "code",
   "execution_count": null,
   "metadata": {},
   "outputs": [],
   "source": []
  },
  {
   "cell_type": "code",
   "execution_count": null,
   "metadata": {},
   "outputs": [],
   "source": [
    "#years = []\n",
    "#for i in range(2000, 2021):\n",
    "    #years.append(sorted([x for x in newfreqs if x[2] == i], key=lambda x: x[0], reverse=True))"
   ]
  },
  {
   "cell_type": "code",
   "execution_count": 70,
   "metadata": {},
   "outputs": [],
   "source": [
    "topmost_by_year = []\n",
    "for year in freq_years:\n",
    "    topmost_by_year.append(year[:5])\n",
    "    "
   ]
  },
  {
   "cell_type": "code",
   "execution_count": 71,
   "metadata": {},
   "outputs": [
    {
     "data": {
      "text/plain": [
       "[[(0.09336099585062241, 'dice rolling', 2000),\n",
       "  (0.08298755186721991, 'set collection', 2000),\n",
       "  (0.07468879668049792, 'roll / spin and move', 2000),\n",
       "  (0.06846473029045644, 'hand management', 2000),\n",
       "  (0.06639004149377593, 'hexagon grid', 2000)],\n",
       " [(0.09327548806941431, 'dice rolling', 2001),\n",
       "  (0.06724511930585683, 'set collection', 2001),\n",
       "  (0.06724511930585683, 'hand management', 2001),\n",
       "  (0.05856832971800434, 'hexagon grid', 2001),\n",
       "  (0.05422993492407809, 'tile placement', 2001)],\n",
       " [(0.09943714821763602, 'dice rolling', 2002),\n",
       "  (0.06191369606003752, 'hand management', 2002),\n",
       "  (0.0600375234521576, 'roll / spin and move', 2002),\n",
       "  (0.054409005628517824, 'variable player powers', 2002),\n",
       "  (0.05065666041275797, 'hexagon grid', 2002)],\n",
       " [(0.11353711790393013, 'dice rolling', 2003),\n",
       "  (0.08733624454148471, 'hand management', 2003),\n",
       "  (0.05967976710334789, 'set collection', 2003),\n",
       "  (0.049490538573508006, 'tile placement', 2003),\n",
       "  (0.046579330422125184, 'hexagon grid', 2003)],\n",
       " [(0.11528822055137844, 'dice rolling', 2004),\n",
       "  (0.08270676691729323, 'hand management', 2004),\n",
       "  (0.05388471177944862, 'hexagon grid', 2004),\n",
       "  (0.047619047619047616, 'variable player powers', 2004),\n",
       "  (0.041353383458646614, 'simulation', 2004)],\n",
       " [(0.10465116279069768, 'dice rolling', 2005),\n",
       "  (0.06976744186046512, 'hand management', 2005),\n",
       "  (0.05496828752642706, 'hexagon grid', 2005),\n",
       "  (0.05391120507399577, 'set collection', 2005),\n",
       "  (0.04756871035940803, 'roll / spin and move', 2005)],\n",
       " [(0.10552147239263804, 'dice rolling', 2006),\n",
       "  (0.08588957055214724, 'hand management', 2006),\n",
       "  (0.049079754601226995, 'hexagon grid', 2006),\n",
       "  (0.04785276073619632, 'variable player powers', 2006),\n",
       "  (0.046625766871165646, 'set collection', 2006)],\n",
       " [(0.1216361679224973, 'dice rolling', 2007),\n",
       "  (0.07534983853606028, 'hand management', 2007),\n",
       "  (0.05705059203444564, 'set collection', 2007),\n",
       "  (0.04090419806243272, 'hexagon grid', 2007),\n",
       "  (0.038751345532831, 'variable player powers', 2007)],\n",
       " [(0.12488083889418494, 'dice rolling', 2008),\n",
       "  (0.07626310772163966, 'hand management', 2008),\n",
       "  (0.06005719733079123, 'set collection', 2008),\n",
       "  (0.0438512869399428, 'hexagon grid', 2008),\n",
       "  (0.03622497616777884, 'simulation', 2008)],\n",
       " [(0.11421725239616613, 'dice rolling', 2009),\n",
       "  (0.08226837060702875, 'hand management', 2009),\n",
       "  (0.05511182108626198, 'set collection', 2009),\n",
       "  (0.03913738019169329, 'variable player powers', 2009),\n",
       "  (0.036741214057507986, 'tile placement', 2009)],\n",
       " [(0.11103302881236823, 'dice rolling', 2010),\n",
       "  (0.07940969782150387, 'hand management', 2010),\n",
       "  (0.04778636683063949, 'set collection', 2010),\n",
       "  (0.04708362614195362, 'hexagon grid', 2010),\n",
       "  (0.04427266338721012, 'simulation', 2010)],\n",
       " [(0.11379986919555266, 'dice rolling', 2011),\n",
       "  (0.08960104643557881, 'hand management', 2011),\n",
       "  (0.051667756703727925, 'set collection', 2011),\n",
       "  (0.04578155657292348, 'variable player powers', 2011),\n",
       "  (0.04316546762589928, 'card drafting', 2011)],\n",
       " [(0.11154273029966703, 'dice rolling', 2012),\n",
       "  (0.10266370699223086, 'hand management', 2012),\n",
       "  (0.04661487236403995, 'variable player powers', 2012),\n",
       "  (0.04495005549389567, 'set collection', 2012),\n",
       "  (0.03773584905660377, 'card drafting', 2012)],\n",
       " [(0.08966565349544073, 'dice rolling', 2013),\n",
       "  (0.08966565349544073, 'hand management', 2013),\n",
       "  (0.060790273556231005, 'variable player powers', 2013),\n",
       "  (0.04305977710233029, 'set collection', 2013),\n",
       "  (0.0364741641337386, 'area majority / influence', 2013)],\n",
       " [(0.1086082059533387, 'hand management', 2014),\n",
       "  (0.09010458567980692, 'dice rolling', 2014),\n",
       "  (0.0502815768302494, 'variable player powers', 2014),\n",
       "  (0.048672566371681415, 'set collection', 2014),\n",
       "  (0.04304102976669348, 'card drafting', 2014)],\n",
       " [(0.0889905029897995, 'dice rolling', 2015),\n",
       "  (0.08863876187126275, 'hand management', 2015),\n",
       "  (0.0654238480478368, 'variable player powers', 2015),\n",
       "  (0.0531129088990503, 'set collection', 2015),\n",
       "  (0.04256067534294759, 'card drafting', 2015)],\n",
       " [(0.09512362637362637, 'hand management', 2016),\n",
       "  (0.07932692307692307, 'dice rolling', 2016),\n",
       "  (0.05837912087912088, 'variable player powers', 2016),\n",
       "  (0.050824175824175824, 'set collection', 2016),\n",
       "  (0.03811813186813187, 'card drafting', 2016)],\n",
       " [(0.08425145819831498, 'hand management', 2017),\n",
       "  (0.08133506156837329, 'dice rolling', 2017),\n",
       "  (0.0644847699287103, 'variable player powers', 2017),\n",
       "  (0.0524951393389501, 'set collection', 2017),\n",
       "  (0.04893065456902139, 'cooperative game', 2017)],\n",
       " [(0.08271832718327184, 'dice rolling', 2018),\n",
       "  (0.07718327183271832, 'hand management', 2018),\n",
       "  (0.06703567035670356, 'variable player powers', 2018),\n",
       "  (0.05289052890528905, 'set collection', 2018),\n",
       "  (0.043972939729397295, 'cooperative game', 2018)],\n",
       " [(0.08396946564885496, 'dice rolling', 2019),\n",
       "  (0.07451835696110505, 'hand management', 2019),\n",
       "  (0.06397673573246092, 'variable player powers', 2019),\n",
       "  (0.05379861868411487, 'cooperative game', 2019),\n",
       "  (0.04798255179934569, 'set collection', 2019)],\n",
       " [(0.16666666666666666, 'auction/bidding', 2020),\n",
       "  (0.16666666666666666, 'modular board', 2020),\n",
       "  (0.16666666666666666, 'stock holding', 2020),\n",
       "  (0.16666666666666666, 'commodity speculation', 2020),\n",
       "  (0.16666666666666666, 'simulation', 2020)]]"
      ]
     },
     "execution_count": 71,
     "metadata": {},
     "output_type": "execute_result"
    }
   ],
   "source": [
    "topmost_by_year"
   ]
  },
  {
   "cell_type": "markdown",
   "metadata": {},
   "source": [
    "## Step 4\n",
    "Include in the paper a report describing the output of Step 3"
   ]
  }
 ],
 "metadata": {
  "kernelspec": {
   "display_name": "Python 3",
   "language": "python",
   "name": "python3"
  },
  "language_info": {
   "codemirror_mode": {
    "name": "ipython",
    "version": 3
   },
   "file_extension": ".py",
   "mimetype": "text/x-python",
   "name": "python",
   "nbconvert_exporter": "python",
   "pygments_lexer": "ipython3",
   "version": "3.7.5"
  }
 },
 "nbformat": 4,
 "nbformat_minor": 4
}
