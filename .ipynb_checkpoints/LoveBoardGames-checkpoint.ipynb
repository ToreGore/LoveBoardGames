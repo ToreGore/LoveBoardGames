{
 "cells": [
  {
   "cell_type": "code",
   "execution_count": 1,
   "metadata": {},
   "outputs": [
    {
     "name": "stdout",
     "output_type": "stream",
     "text": [
      "importing Jupyter notebook from BggDbGetter.ipynb\n",
      "importing Jupyter notebook from BggDbScraper.ipynb\n",
      "importing Jupyter notebook from BggHelper.ipynb\n",
      "importing Jupyter notebook from Cicero.ipynb\n",
      "importing Jupyter notebook from Glossa.ipynb\n"
     ]
    }
   ],
   "source": [
    "import importlib\n",
    "import os\n",
    "import random\n",
    "import time\n",
    "\n",
    "import import_ipynb\n",
    "import numpy as np\n",
    "import pandas as pnd\n",
    "import requests\n",
    "import seaborn as sns\n",
    "from boardgamegeek import BoardGameGeek\n",
    "from langdetect import detect\n",
    "from tqdm.notebook import tqdm\n",
    "\n",
    "import BggDbGetter as BDG\n",
    "import BggDbScraper as BDS\n",
    "import BggHelper as BH\n",
    "import Cicero as Cic\n",
    "import Glossa as glos"
   ]
  },
  {
   "cell_type": "markdown",
   "metadata": {},
   "source": [
    "# Step 1\n",
    "\n",
    "Access BBG API's to download game and user preferences data.\n",
    "Define criterion used for setting the parameters that drive the download in termis of the variables defining the dataset, such collecting games only for a specified period or a specified set of categories. The wider the game collection, the better."
   ]
  },
  {
   "cell_type": "code",
   "execution_count": 2,
   "metadata": {},
   "outputs": [],
   "source": [
    "helper = BH.BggHelper()\n",
    "new_df = helper.bgg_start(get=False, scrape=False)"
   ]
  },
  {
   "cell_type": "markdown",
   "metadata": {},
   "source": [
    "#### Dataframe reading"
   ]
  },
  {
   "cell_type": "code",
   "execution_count": 3,
   "metadata": {},
   "outputs": [],
   "source": [
    "df = pnd.read_csv(\"BGG_sampled.csv\")\n",
    "df.shape\n",
    "dfh = df"
   ]
  },
  {
   "cell_type": "code",
   "execution_count": 4,
   "metadata": {},
   "outputs": [],
   "source": [
    "gls = glos.Glossa(dfh, \"en\")\n",
    "cicero = Cic.Cicero(gls)"
   ]
  },
  {
   "cell_type": "code",
   "execution_count": 5,
   "metadata": {},
   "outputs": [
    {
     "data": {
      "application/vnd.jupyter.widget-view+json": {
       "model_id": "131efb75ea64412da49ee1e65b9fefaa",
       "version_major": 2,
       "version_minor": 0
      },
      "text/plain": [
       "HBox(children=(FloatProgress(value=1.0, bar_style='info', description='Removing useless languages', max=1.0, s…"
      ]
     },
     "metadata": {},
     "output_type": "display_data"
    },
    {
     "name": "stdout",
     "output_type": "stream",
     "text": [
      "\n"
     ]
    },
    {
     "data": {
      "application/vnd.jupyter.widget-view+json": {
       "model_id": "8794481f469e4debb3cea28ac0a894ee",
       "version_major": 2,
       "version_minor": 0
      },
      "text/plain": [
       "HBox(children=(FloatProgress(value=0.0, description='Stopwords removal', max=14028.0, style=ProgressStyle(desc…"
      ]
     },
     "metadata": {},
     "output_type": "display_data"
    },
    {
     "name": "stderr",
     "output_type": "stream",
     "text": [
      "Glossa.ipynb:31: SettingWithCopyWarning: \n",
      "A value is trying to be set on a copy of a slice from a DataFrame\n",
      "\n",
      "See the caveats in the documentation: https://pandas.pydata.org/pandas-docs/stable/user_guide/indexing.html#returning-a-view-versus-a-copy\n",
      "  \"from tqdm.notebook import tqdm\\n\",\n"
     ]
    },
    {
     "name": "stdout",
     "output_type": "stream",
     "text": [
      "\n"
     ]
    },
    {
     "data": {
      "application/vnd.jupyter.widget-view+json": {
       "model_id": "b80cf5ae74ad4d6e99da57527295eb8b",
       "version_major": 2,
       "version_minor": 0
      },
      "text/plain": [
       "HBox(children=(FloatProgress(value=0.0, description='Word lemming', max=14028.0, style=ProgressStyle(descripti…"
      ]
     },
     "metadata": {},
     "output_type": "display_data"
    },
    {
     "name": "stderr",
     "output_type": "stream",
     "text": [
      "Glossa.ipynb:44: SettingWithCopyWarning: \n",
      "A value is trying to be set on a copy of a slice from a DataFrame\n",
      "\n",
      "See the caveats in the documentation: https://pandas.pydata.org/pandas-docs/stable/user_guide/indexing.html#returning-a-view-versus-a-copy\n",
      "  \"class Glossa:\\n\",\n",
      "Glossa.ipynb:49: SettingWithCopyWarning: \n",
      "A value is trying to be set on a copy of a slice from a DataFrame\n",
      "\n",
      "See the caveats in the documentation: https://pandas.pydata.org/pandas-docs/stable/user_guide/indexing.html#returning-a-view-versus-a-copy\n",
      "  \"            word.replace(\\\"'\\\", \\\"\\\")\\n\",\n"
     ]
    },
    {
     "name": "stdout",
     "output_type": "stream",
     "text": [
      "\n"
     ]
    }
   ],
   "source": [
    "cicero = cicero.clean_lemming(\"description\")"
   ]
  },
  {
   "cell_type": "code",
   "execution_count": 6,
   "metadata": {},
   "outputs": [
    {
     "data": {
      "application/vnd.jupyter.widget-view+json": {
       "model_id": "607eb2fb615f4ab189ac0b767c0419fc",
       "version_major": 2,
       "version_minor": 0
      },
      "text/plain": [
       "HBox(children=(FloatProgress(value=1.0, bar_style='info', description='Removing useless languages', max=1.0, s…"
      ]
     },
     "metadata": {},
     "output_type": "display_data"
    },
    {
     "name": "stdout",
     "output_type": "stream",
     "text": [
      "\n"
     ]
    },
    {
     "data": {
      "application/vnd.jupyter.widget-view+json": {
       "model_id": "5ac37046306a4fce8a4df86daa104625",
       "version_major": 2,
       "version_minor": 0
      },
      "text/plain": [
       "HBox(children=(FloatProgress(value=0.0, description='Stopwords removal', max=11857.0, style=ProgressStyle(desc…"
      ]
     },
     "metadata": {},
     "output_type": "display_data"
    },
    {
     "name": "stdout",
     "output_type": "stream",
     "text": [
      "\n"
     ]
    },
    {
     "data": {
      "application/vnd.jupyter.widget-view+json": {
       "model_id": "d5b6055e75734027ba475e0952f65d23",
       "version_major": 2,
       "version_minor": 0
      },
      "text/plain": [
       "HBox(children=(FloatProgress(value=0.0, description='Word lemming', max=11857.0, style=ProgressStyle(descripti…"
      ]
     },
     "metadata": {},
     "output_type": "display_data"
    },
    {
     "name": "stdout",
     "output_type": "stream",
     "text": [
      "\n"
     ]
    }
   ],
   "source": [
    "cicero = cicero.clean_lemming(\"categories\")"
   ]
  },
  {
   "cell_type": "code",
   "execution_count": 7,
   "metadata": {},
   "outputs": [
    {
     "data": {
      "application/vnd.jupyter.widget-view+json": {
       "model_id": "4d6dbbf2fbf548c6a01934731aa2a138",
       "version_major": 2,
       "version_minor": 0
      },
      "text/plain": [
       "HBox(children=(FloatProgress(value=0.0, description='Stopwords removal', max=11857.0, style=ProgressStyle(desc…"
      ]
     },
     "metadata": {},
     "output_type": "display_data"
    },
    {
     "name": "stdout",
     "output_type": "stream",
     "text": [
      "\n"
     ]
    },
    {
     "data": {
      "application/vnd.jupyter.widget-view+json": {
       "model_id": "90d6f382d61c42d08473d60715ef507e",
       "version_major": 2,
       "version_minor": 0
      },
      "text/plain": [
       "HBox(children=(FloatProgress(value=0.0, description='Word lemming', max=11857.0, style=ProgressStyle(descripti…"
      ]
     },
     "metadata": {},
     "output_type": "display_data"
    },
    {
     "name": "stdout",
     "output_type": "stream",
     "text": [
      "\n"
     ]
    }
   ],
   "source": [
    "#cicero = cicero.eng_lemming(\"name\")\n",
    "cicero = cicero.eng_lemming(\"publishers\")"
   ]
  },
  {
   "cell_type": "code",
   "execution_count": 8,
   "metadata": {},
   "outputs": [
    {
     "data": {
      "application/vnd.jupyter.widget-view+json": {
       "model_id": "2829c2736bcb46a09d4994eeb710a127",
       "version_major": 2,
       "version_minor": 0
      },
      "text/plain": [
       "HBox(children=(FloatProgress(value=0.0, description='Stopwords removal', max=11857.0, style=ProgressStyle(desc…"
      ]
     },
     "metadata": {},
     "output_type": "display_data"
    },
    {
     "name": "stdout",
     "output_type": "stream",
     "text": [
      "\n"
     ]
    },
    {
     "data": {
      "application/vnd.jupyter.widget-view+json": {
       "model_id": "44bd1b0c881a40b68056768c486a652d",
       "version_major": 2,
       "version_minor": 0
      },
      "text/plain": [
       "HBox(children=(FloatProgress(value=0.0, description='Word lemming', max=11857.0, style=ProgressStyle(descripti…"
      ]
     },
     "metadata": {},
     "output_type": "display_data"
    },
    {
     "name": "stdout",
     "output_type": "stream",
     "text": [
      "\n"
     ]
    }
   ],
   "source": [
    "cicero = cicero.eng_lemming(\"families\")"
   ]
  },
  {
   "cell_type": "code",
   "execution_count": 14,
   "metadata": {},
   "outputs": [
    {
     "data": {
      "text/html": [
       "<div>\n",
       "<style scoped>\n",
       "    .dataframe tbody tr th:only-of-type {\n",
       "        vertical-align: middle;\n",
       "    }\n",
       "\n",
       "    .dataframe tbody tr th {\n",
       "        vertical-align: top;\n",
       "    }\n",
       "\n",
       "    .dataframe thead th {\n",
       "        text-align: right;\n",
       "    }\n",
       "</style>\n",
       "<table border=\"1\" class=\"dataframe\">\n",
       "  <thead>\n",
       "    <tr style=\"text-align: right;\">\n",
       "      <th></th>\n",
       "      <th>Unnamed: 0</th>\n",
       "      <th>boardgame_rank</th>\n",
       "      <th>id</th>\n",
       "      <th>families</th>\n",
       "      <th>categories</th>\n",
       "      <th>mechanics</th>\n",
       "      <th>designers</th>\n",
       "      <th>artists</th>\n",
       "      <th>publishers</th>\n",
       "      <th>description</th>\n",
       "      <th>...</th>\n",
       "      <th>minage</th>\n",
       "      <th>name</th>\n",
       "      <th>usersrated</th>\n",
       "      <th>average</th>\n",
       "      <th>bayesaverage</th>\n",
       "      <th>stddev</th>\n",
       "      <th>owned</th>\n",
       "      <th>numweights</th>\n",
       "      <th>averageweight</th>\n",
       "      <th>ranks</th>\n",
       "    </tr>\n",
       "  </thead>\n",
       "  <tbody>\n",
       "    <tr>\n",
       "      <th>0</th>\n",
       "      <td>0</td>\n",
       "      <td>1</td>\n",
       "      <td>174430</td>\n",
       "      <td>campaign game component miniature crowdfunding...</td>\n",
       "      <td>adventure exploration fantasy fighting miniature</td>\n",
       "      <td>['Action Retrieval', 'Campaign / Battle Card D...</td>\n",
       "      <td>['Isaac Childres']</td>\n",
       "      <td>['Alexandr Elichev', 'Josh T. McDowell', 'Alva...</td>\n",
       "      <td>cephalofair game albi asmodee feuerland spiele...</td>\n",
       "      <td>gloomhaven game euro-inspired tactical combat ...</td>\n",
       "      <td>...</td>\n",
       "      <td>12</td>\n",
       "      <td>Gloomhaven</td>\n",
       "      <td>35214</td>\n",
       "      <td>8.82880</td>\n",
       "      <td>8.57349</td>\n",
       "      <td>1.60782</td>\n",
       "      <td>56587</td>\n",
       "      <td>1517</td>\n",
       "      <td>3.8266</td>\n",
       "      <td>[{'name': 'boardgame', 'friendlyname': 'Board ...</td>\n",
       "    </tr>\n",
       "    <tr>\n",
       "      <th>1</th>\n",
       "      <td>2</td>\n",
       "      <td>3</td>\n",
       "      <td>167791</td>\n",
       "      <td>`` fryxgames future timeline  player count gam...</td>\n",
       "      <td>economic environmental industry manufacturing ...</td>\n",
       "      <td>['Card Drafting', 'End Game Bonuses', 'Hand Ma...</td>\n",
       "      <td>['Jacob Fryxelius']</td>\n",
       "      <td>['Isaac Fryxelius']</td>\n",
       "      <td>fryxgames arclight fantasmagoria ghenos game i...</td>\n",
       "      <td>2400s mankind begin terraform planet mar giant...</td>\n",
       "      <td>...</td>\n",
       "      <td>12</td>\n",
       "      <td>Terraforming Mars</td>\n",
       "      <td>54325</td>\n",
       "      <td>8.42658</td>\n",
       "      <td>8.27621</td>\n",
       "      <td>1.37770</td>\n",
       "      <td>71449</td>\n",
       "      <td>2168</td>\n",
       "      <td>3.2366</td>\n",
       "      <td>[{'name': 'boardgame', 'friendlyname': 'Board ...</td>\n",
       "    </tr>\n",
       "    <tr>\n",
       "      <th>2</th>\n",
       "      <td>3</td>\n",
       "      <td>4</td>\n",
       "      <td>224517</td>\n",
       "      <td>brass city birmingham england country england ...</td>\n",
       "      <td>economic industry manufacturing transportation</td>\n",
       "      <td>['Connections', 'Hand Management', 'Income', '...</td>\n",
       "      <td>['Gavan Brown', 'Matt Tolman', 'Martin Wallace']</td>\n",
       "      <td>['Lina Cossette', 'David Forest', 'Damien Mamm...</td>\n",
       "      <td>roxley boardm factory conclave editora crowd g...</td>\n",
       "      <td>brass birmingham economic strategy game sequel...</td>\n",
       "      <td>...</td>\n",
       "      <td>14</td>\n",
       "      <td>Brass: Birmingham</td>\n",
       "      <td>12955</td>\n",
       "      <td>8.63598</td>\n",
       "      <td>8.27537</td>\n",
       "      <td>1.25023</td>\n",
       "      <td>19468</td>\n",
       "      <td>599</td>\n",
       "      <td>3.9299</td>\n",
       "      <td>[{'name': 'boardgame', 'friendlyname': 'Board ...</td>\n",
       "    </tr>\n",
       "    <tr>\n",
       "      <th>3</th>\n",
       "      <td>5</td>\n",
       "      <td>6</td>\n",
       "      <td>233078</td>\n",
       "      <td>4x game component miniature twilight imperium</td>\n",
       "      <td>civilization economic negotiation political sc...</td>\n",
       "      <td>['Action Drafting', 'Area Majority / Influence...</td>\n",
       "      <td>['Dane Beltrami', 'Corey Konieczka', 'Christia...</td>\n",
       "      <td>['Scott Schomburg']</td>\n",
       "      <td>fantasy flight game adc blackfire entertainmen...</td>\n",
       "      <td>twilight imperium fourth edition game galactic...</td>\n",
       "      <td>...</td>\n",
       "      <td>14</td>\n",
       "      <td>Twilight Imperium (Fourth Edition)</td>\n",
       "      <td>10718</td>\n",
       "      <td>8.68625</td>\n",
       "      <td>8.20355</td>\n",
       "      <td>1.59923</td>\n",
       "      <td>13439</td>\n",
       "      <td>473</td>\n",
       "      <td>4.2199</td>\n",
       "      <td>[{'name': 'boardgame', 'friendlyname': 'Board ...</td>\n",
       "    </tr>\n",
       "    <tr>\n",
       "      <th>4</th>\n",
       "      <td>6</td>\n",
       "      <td>7</td>\n",
       "      <td>187645</td>\n",
       "      <td>component miniature movie star war</td>\n",
       "      <td>civil war fighting miniature movie tv radio th...</td>\n",
       "      <td>['Area Majority / Influence', 'Area Movement',...</td>\n",
       "      <td>['Corey Konieczka']</td>\n",
       "      <td>['Matt Allsopp', 'David Ardila', 'Balaskas', '...</td>\n",
       "      <td>fantasy flight game adc blackfire entertainmen...</td>\n",
       "      <td>star war rebellion board game epic conflict ga...</td>\n",
       "      <td>...</td>\n",
       "      <td>14</td>\n",
       "      <td>Star Wars: Rebellion</td>\n",
       "      <td>20328</td>\n",
       "      <td>8.42316</td>\n",
       "      <td>8.15695</td>\n",
       "      <td>1.37843</td>\n",
       "      <td>30600</td>\n",
       "      <td>685</td>\n",
       "      <td>3.6934</td>\n",
       "      <td>[{'name': 'boardgame', 'friendlyname': 'Board ...</td>\n",
       "    </tr>\n",
       "    <tr>\n",
       "      <th>...</th>\n",
       "      <td>...</td>\n",
       "      <td>...</td>\n",
       "      <td>...</td>\n",
       "      <td>...</td>\n",
       "      <td>...</td>\n",
       "      <td>...</td>\n",
       "      <td>...</td>\n",
       "      <td>...</td>\n",
       "      <td>...</td>\n",
       "      <td>...</td>\n",
       "      <td>...</td>\n",
       "      <td>...</td>\n",
       "      <td>...</td>\n",
       "      <td>...</td>\n",
       "      <td>...</td>\n",
       "      <td>...</td>\n",
       "      <td>...</td>\n",
       "      <td>...</td>\n",
       "      <td>...</td>\n",
       "      <td>...</td>\n",
       "      <td>...</td>\n",
       "    </tr>\n",
       "    <tr>\n",
       "      <th>11852</th>\n",
       "      <td>14109</td>\n",
       "      <td>18909</td>\n",
       "      <td>4724</td>\n",
       "      <td>admin better description needed author j.r.r t...</td>\n",
       "      <td>adventure fantasy movie tv radio theme novel-b...</td>\n",
       "      <td>['Modular Board', 'Roll / Spin and Move']</td>\n",
       "      <td>['Terry Miller Associates']</td>\n",
       "      <td>[]</td>\n",
       "      <td>roseart</td>\n",
       "      <td>relive adventure fellowship ring board game fa...</td>\n",
       "      <td>...</td>\n",
       "      <td>8</td>\n",
       "      <td>The Lord of the Rings: The Fellowship of the Ring</td>\n",
       "      <td>224</td>\n",
       "      <td>3.23018</td>\n",
       "      <td>5.18513</td>\n",
       "      <td>1.99998</td>\n",
       "      <td>470</td>\n",
       "      <td>28</td>\n",
       "      <td>1.4286</td>\n",
       "      <td>[{'name': 'boardgame', 'friendlyname': 'Board ...</td>\n",
       "    </tr>\n",
       "    <tr>\n",
       "      <th>11853</th>\n",
       "      <td>14110</td>\n",
       "      <td>18913</td>\n",
       "      <td>4077</td>\n",
       "      <td>tv series tv game show tv series want millionaire</td>\n",
       "      <td>movie tv radio theme party game trivia</td>\n",
       "      <td>['Push Your Luck']</td>\n",
       "      <td>['(Uncredited)']</td>\n",
       "      <td>[]</td>\n",
       "      <td>unknown alga celador danspil diset s. a. hasbr...</td>\n",
       "      <td>player answer multiple-choice trivia question ...</td>\n",
       "      <td>...</td>\n",
       "      <td>10</td>\n",
       "      <td>Who Wants to Be a Millionaire</td>\n",
       "      <td>827</td>\n",
       "      <td>4.62736</td>\n",
       "      <td>5.17503</td>\n",
       "      <td>1.67047</td>\n",
       "      <td>1456</td>\n",
       "      <td>67</td>\n",
       "      <td>1.4478</td>\n",
       "      <td>[{'name': 'boardgame', 'friendlyname': 'Board ...</td>\n",
       "    </tr>\n",
       "    <tr>\n",
       "      <th>11854</th>\n",
       "      <td>14111</td>\n",
       "      <td>18924</td>\n",
       "      <td>12205</td>\n",
       "      <td>gamewright port-a-party series</td>\n",
       "      <td>party game word game</td>\n",
       "      <td>['Hand Management', 'Storytelling']</td>\n",
       "      <td>['Joyce Johnson', 'Colleen McCarthy-Evans']</td>\n",
       "      <td>['David Semple']</td>\n",
       "      <td>gamewright paul lamond game ltd</td>\n",
       "      <td>sofa fit shopping cart depends size game creat...</td>\n",
       "      <td>...</td>\n",
       "      <td>10</td>\n",
       "      <td>In a Pickle</td>\n",
       "      <td>1302</td>\n",
       "      <td>4.69489</td>\n",
       "      <td>5.09240</td>\n",
       "      <td>1.67115</td>\n",
       "      <td>3197</td>\n",
       "      <td>86</td>\n",
       "      <td>1.2093</td>\n",
       "      <td>[{'name': 'boardgame', 'friendlyname': 'Board ...</td>\n",
       "    </tr>\n",
       "    <tr>\n",
       "      <th>11855</th>\n",
       "      <td>14112</td>\n",
       "      <td>18935</td>\n",
       "      <td>3990</td>\n",
       "      <td></td>\n",
       "      <td>card game party game trivia</td>\n",
       "      <td>['Card Drafting', 'Memory']</td>\n",
       "      <td>['(Uncredited)']</td>\n",
       "      <td>[]</td>\n",
       "      <td>imagination game megableu spin master ltd. uni...</td>\n",
       "      <td>basic trivia game player try figure statement ...</td>\n",
       "      <td>...</td>\n",
       "      <td>12</td>\n",
       "      <td>Fact or Crap</td>\n",
       "      <td>621</td>\n",
       "      <td>3.83101</td>\n",
       "      <td>5.00412</td>\n",
       "      <td>1.63167</td>\n",
       "      <td>1474</td>\n",
       "      <td>34</td>\n",
       "      <td>1.2059</td>\n",
       "      <td>[{'name': 'boardgame', 'friendlyname': 'Board ...</td>\n",
       "    </tr>\n",
       "    <tr>\n",
       "      <th>11856</th>\n",
       "      <td>14114</td>\n",
       "      <td>18951</td>\n",
       "      <td>205322</td>\n",
       "      <td>admin better description needed history oregon...</td>\n",
       "      <td>american west card game educational video game...</td>\n",
       "      <td>['Communication Limits', 'Connections', 'Coope...</td>\n",
       "      <td>[]</td>\n",
       "      <td>[]</td>\n",
       "      <td>pressman toy corp</td>\n",
       "      <td>description publisher  based classic computer ...</td>\n",
       "      <td>...</td>\n",
       "      <td>12</td>\n",
       "      <td>The Oregon Trail Card Game</td>\n",
       "      <td>2347</td>\n",
       "      <td>4.33166</td>\n",
       "      <td>4.74082</td>\n",
       "      <td>1.89550</td>\n",
       "      <td>6391</td>\n",
       "      <td>33</td>\n",
       "      <td>1.2121</td>\n",
       "      <td>[{'name': 'boardgame', 'friendlyname': 'Board ...</td>\n",
       "    </tr>\n",
       "  </tbody>\n",
       "</table>\n",
       "<p>11857 rows × 24 columns</p>\n",
       "</div>"
      ],
      "text/plain": [
       "       Unnamed: 0  boardgame_rank      id  \\\n",
       "0               0               1  174430   \n",
       "1               2               3  167791   \n",
       "2               3               4  224517   \n",
       "3               5               6  233078   \n",
       "4               6               7  187645   \n",
       "...           ...             ...     ...   \n",
       "11852       14109           18909    4724   \n",
       "11853       14110           18913    4077   \n",
       "11854       14111           18924   12205   \n",
       "11855       14112           18935    3990   \n",
       "11856       14114           18951  205322   \n",
       "\n",
       "                                                families  \\\n",
       "0      campaign game component miniature crowdfunding...   \n",
       "1      `` fryxgames future timeline  player count gam...   \n",
       "2      brass city birmingham england country england ...   \n",
       "3          4x game component miniature twilight imperium   \n",
       "4                     component miniature movie star war   \n",
       "...                                                  ...   \n",
       "11852  admin better description needed author j.r.r t...   \n",
       "11853  tv series tv game show tv series want millionaire   \n",
       "11854                     gamewright port-a-party series   \n",
       "11855                                                      \n",
       "11856  admin better description needed history oregon...   \n",
       "\n",
       "                                              categories  \\\n",
       "0       adventure exploration fantasy fighting miniature   \n",
       "1      economic environmental industry manufacturing ...   \n",
       "2         economic industry manufacturing transportation   \n",
       "3      civilization economic negotiation political sc...   \n",
       "4      civil war fighting miniature movie tv radio th...   \n",
       "...                                                  ...   \n",
       "11852  adventure fantasy movie tv radio theme novel-b...   \n",
       "11853             movie tv radio theme party game trivia   \n",
       "11854                               party game word game   \n",
       "11855                        card game party game trivia   \n",
       "11856  american west card game educational video game...   \n",
       "\n",
       "                                               mechanics  \\\n",
       "0      ['Action Retrieval', 'Campaign / Battle Card D...   \n",
       "1      ['Card Drafting', 'End Game Bonuses', 'Hand Ma...   \n",
       "2      ['Connections', 'Hand Management', 'Income', '...   \n",
       "3      ['Action Drafting', 'Area Majority / Influence...   \n",
       "4      ['Area Majority / Influence', 'Area Movement',...   \n",
       "...                                                  ...   \n",
       "11852          ['Modular Board', 'Roll / Spin and Move']   \n",
       "11853                                 ['Push Your Luck']   \n",
       "11854                ['Hand Management', 'Storytelling']   \n",
       "11855                        ['Card Drafting', 'Memory']   \n",
       "11856  ['Communication Limits', 'Connections', 'Coope...   \n",
       "\n",
       "                                               designers  \\\n",
       "0                                     ['Isaac Childres']   \n",
       "1                                    ['Jacob Fryxelius']   \n",
       "2       ['Gavan Brown', 'Matt Tolman', 'Martin Wallace']   \n",
       "3      ['Dane Beltrami', 'Corey Konieczka', 'Christia...   \n",
       "4                                    ['Corey Konieczka']   \n",
       "...                                                  ...   \n",
       "11852                        ['Terry Miller Associates']   \n",
       "11853                                   ['(Uncredited)']   \n",
       "11854        ['Joyce Johnson', 'Colleen McCarthy-Evans']   \n",
       "11855                                   ['(Uncredited)']   \n",
       "11856                                                 []   \n",
       "\n",
       "                                                 artists  \\\n",
       "0      ['Alexandr Elichev', 'Josh T. McDowell', 'Alva...   \n",
       "1                                    ['Isaac Fryxelius']   \n",
       "2      ['Lina Cossette', 'David Forest', 'Damien Mamm...   \n",
       "3                                    ['Scott Schomburg']   \n",
       "4      ['Matt Allsopp', 'David Ardila', 'Balaskas', '...   \n",
       "...                                                  ...   \n",
       "11852                                                 []   \n",
       "11853                                                 []   \n",
       "11854                                   ['David Semple']   \n",
       "11855                                                 []   \n",
       "11856                                                 []   \n",
       "\n",
       "                                              publishers  \\\n",
       "0      cephalofair game albi asmodee feuerland spiele...   \n",
       "1      fryxgames arclight fantasmagoria ghenos game i...   \n",
       "2      roxley boardm factory conclave editora crowd g...   \n",
       "3      fantasy flight game adc blackfire entertainmen...   \n",
       "4      fantasy flight game adc blackfire entertainmen...   \n",
       "...                                                  ...   \n",
       "11852                                            roseart   \n",
       "11853  unknown alga celador danspil diset s. a. hasbr...   \n",
       "11854                    gamewright paul lamond game ltd   \n",
       "11855  imagination game megableu spin master ltd. uni...   \n",
       "11856                                  pressman toy corp   \n",
       "\n",
       "                                             description  ...  minage  \\\n",
       "0      gloomhaven game euro-inspired tactical combat ...  ...      12   \n",
       "1      2400s mankind begin terraform planet mar giant...  ...      12   \n",
       "2      brass birmingham economic strategy game sequel...  ...      14   \n",
       "3      twilight imperium fourth edition game galactic...  ...      14   \n",
       "4      star war rebellion board game epic conflict ga...  ...      14   \n",
       "...                                                  ...  ...     ...   \n",
       "11852  relive adventure fellowship ring board game fa...  ...       8   \n",
       "11853  player answer multiple-choice trivia question ...  ...      10   \n",
       "11854  sofa fit shopping cart depends size game creat...  ...      10   \n",
       "11855  basic trivia game player try figure statement ...  ...      12   \n",
       "11856  description publisher  based classic computer ...  ...      12   \n",
       "\n",
       "                                                    name  usersrated  average  \\\n",
       "0                                             Gloomhaven       35214  8.82880   \n",
       "1                                      Terraforming Mars       54325  8.42658   \n",
       "2                                      Brass: Birmingham       12955  8.63598   \n",
       "3                     Twilight Imperium (Fourth Edition)       10718  8.68625   \n",
       "4                                   Star Wars: Rebellion       20328  8.42316   \n",
       "...                                                  ...         ...      ...   \n",
       "11852  The Lord of the Rings: The Fellowship of the Ring         224  3.23018   \n",
       "11853                      Who Wants to Be a Millionaire         827  4.62736   \n",
       "11854                                        In a Pickle        1302  4.69489   \n",
       "11855                                       Fact or Crap         621  3.83101   \n",
       "11856                         The Oregon Trail Card Game        2347  4.33166   \n",
       "\n",
       "       bayesaverage   stddev  owned  numweights  averageweight  \\\n",
       "0           8.57349  1.60782  56587        1517         3.8266   \n",
       "1           8.27621  1.37770  71449        2168         3.2366   \n",
       "2           8.27537  1.25023  19468         599         3.9299   \n",
       "3           8.20355  1.59923  13439         473         4.2199   \n",
       "4           8.15695  1.37843  30600         685         3.6934   \n",
       "...             ...      ...    ...         ...            ...   \n",
       "11852       5.18513  1.99998    470          28         1.4286   \n",
       "11853       5.17503  1.67047   1456          67         1.4478   \n",
       "11854       5.09240  1.67115   3197          86         1.2093   \n",
       "11855       5.00412  1.63167   1474          34         1.2059   \n",
       "11856       4.74082  1.89550   6391          33         1.2121   \n",
       "\n",
       "                                                   ranks  \n",
       "0      [{'name': 'boardgame', 'friendlyname': 'Board ...  \n",
       "1      [{'name': 'boardgame', 'friendlyname': 'Board ...  \n",
       "2      [{'name': 'boardgame', 'friendlyname': 'Board ...  \n",
       "3      [{'name': 'boardgame', 'friendlyname': 'Board ...  \n",
       "4      [{'name': 'boardgame', 'friendlyname': 'Board ...  \n",
       "...                                                  ...  \n",
       "11852  [{'name': 'boardgame', 'friendlyname': 'Board ...  \n",
       "11853  [{'name': 'boardgame', 'friendlyname': 'Board ...  \n",
       "11854  [{'name': 'boardgame', 'friendlyname': 'Board ...  \n",
       "11855  [{'name': 'boardgame', 'friendlyname': 'Board ...  \n",
       "11856  [{'name': 'boardgame', 'friendlyname': 'Board ...  \n",
       "\n",
       "[11857 rows x 24 columns]"
      ]
     },
     "execution_count": 14,
     "metadata": {},
     "output_type": "execute_result"
    }
   ],
   "source": [
    "cicero.get_df()#[\"families\"][0]"
   ]
  },
  {
   "cell_type": "markdown",
   "metadata": {},
   "source": [
    "# Step 2\n",
    "\n",
    "Pre-process game text (title and description) in order to define the terms to include in the variables to be observed, eventually using a word embedding model to normalize and/or expand the terminology extracted from the game description."
   ]
  },
  {
   "cell_type": "markdown",
   "metadata": {},
   "source": [
    "## Followed  this url:\n",
    "### https://towardsdatascience.com/a-beginners-guide-to-word-embedding-with-gensim-word2vec-model-5970fa56cc92\n"
   ]
  },
  {
   "cell_type": "markdown",
   "metadata": {},
   "source": [
    "<div class=\"mark\">\n",
    "    TODO: Everything done until now is fine, yet there are some issues and here lies the solution\n",
    "</div><i class=\"fa fa-lightbulb-o \"></i>\n",
    "<ul>\n",
    "    <li>The corpus is made of N rows</li>\n",
    "    <li>Each rows has a variable number of words M\n",
    "        <ul>\n",
    "            <li>Train W2V with overall corpus</li>\n",
    "            <li>Extract from each row the top relevant words via Sklearn's TF-IDF</li>\n",
    "            <li>Embed via W2V the top relevant words into a matrix of dimension XxD</li>\n",
    "            <li>Use python's transfromer to compress them into a vector of dimension D'</li>\n",
    "        </ul>\n",
    "    </li>\n",
    "    <li>Create a Neural network with input size XxD' and train it</li>\n",
    "    <li>Find the correlation during testing time (remember to cross-validate)</li>\n",
    "    <li>????</li>\n",
    "    <li>Profit</li>\n",
    "</ul>"
   ]
  },
  {
   "cell_type": "markdown",
   "metadata": {},
   "source": [
    "#### Need to create a column in the dataframe containing all the important words in the row. <br> This takes into account Name, description, mechanics, families and publishers"
   ]
  },
  {
   "cell_type": "code",
   "execution_count": 10,
   "metadata": {},
   "outputs": [
    {
     "data": {
      "text/plain": [
       "Index(['Unnamed: 0', 'boardgame_rank', 'id', 'families', 'categories',\n",
       "       'mechanics', 'designers', 'artists', 'publishers', 'description',\n",
       "       'yearpublished', 'minplayers', 'maxplayers', 'playingtime', 'minage',\n",
       "       'name', 'usersrated', 'average', 'bayesaverage', 'stddev', 'owned',\n",
       "       'numweights', 'averageweight', 'ranks'],\n",
       "      dtype='object')"
      ]
     },
     "execution_count": 10,
     "metadata": {},
     "output_type": "execute_result"
    }
   ],
   "source": [
    "df.columns"
   ]
  },
  {
   "cell_type": "code",
   "execution_count": 11,
   "metadata": {},
   "outputs": [
    {
     "data": {
      "application/vnd.jupyter.widget-view+json": {
       "model_id": "1571c8af8a3841e4b22fd28c489effda",
       "version_major": 2,
       "version_minor": 0
      },
      "text/plain": [
       "HBox(children=(FloatProgress(value=0.0, description='Getting interesting fields', max=11857.0, style=ProgressS…"
      ]
     },
     "metadata": {},
     "output_type": "display_data"
    },
    {
     "name": "stdout",
     "output_type": "stream",
     "text": [
      "\n"
     ]
    }
   ],
   "source": [
    "model = cicero.word2vec_train([\"description\", \"mechanics\", \"categories\", \"families\", \"publishers\"])"
   ]
  },
  {
   "cell_type": "code",
   "execution_count": 12,
   "metadata": {},
   "outputs": [
    {
     "name": "stderr",
     "output_type": "stream",
     "text": [
      "/home/tore/venv/lib/python3.7/site-packages/ipykernel_launcher.py:1: DeprecationWarning: Call to deprecated `__getitem__` (Method will be removed in 4.0.0, use self.wv.__getitem__() instead).\n",
      "  \"\"\"Entry point for launching an IPython kernel.\n"
     ]
    },
    {
     "data": {
      "text/plain": [
       "array([-0.05951436, -0.10908702, -0.43990093,  0.5826019 ,  0.8593087 ,\n",
       "        0.05862694, -0.05599414,  0.02710384,  0.46123   ,  0.520458  ,\n",
       "       -0.29517365,  0.71353483,  0.16188672, -0.52557814,  0.64154243,\n",
       "       -0.16038148,  0.25017047,  0.04918338, -0.07123742, -0.54340196,\n",
       "        0.05460932, -0.6705529 , -0.47618037, -0.38206872,  0.4057835 ,\n",
       "       -0.26002267,  0.26031944, -0.06450132, -0.2837759 ,  0.4391702 ,\n",
       "        0.1042732 , -0.41945535,  0.6699293 ,  0.39611983,  0.20010597,\n",
       "        0.12618677, -0.6093883 ,  0.09564228,  0.41230625,  0.32692832,\n",
       "       -0.03126516,  0.33810896, -0.73489624, -0.3518436 ,  0.13747104,\n",
       "        0.85486054, -0.16826652, -0.18203636, -0.22335082, -0.06966002,\n",
       "       -0.31128252,  0.13010634,  0.76403445, -0.7106402 ,  0.39594856,\n",
       "        0.68668056, -0.32356367,  0.45592135,  0.22269964, -0.44108245,\n",
       "        0.17719246, -0.14154004,  0.33651796,  0.1966027 , -0.21358696,\n",
       "        0.4586726 ,  0.11427501, -0.5779753 ,  0.9984055 , -0.13561781,\n",
       "        0.6307573 ,  0.4042423 , -0.4602301 , -0.01326386, -0.10493682,\n",
       "        0.08434845,  0.00832396, -0.3832293 ,  0.65373445, -0.60629314,\n",
       "        0.10255755, -0.45806774, -0.69187546, -0.19343525, -0.09770787,\n",
       "       -0.69942886,  0.20722426, -0.49133536, -0.5331642 ,  0.16322598,\n",
       "        0.01241835, -0.28884998, -0.11743861,  0.7536245 , -0.11692785,\n",
       "       -0.89957803, -0.41448832,  0.36610356, -0.3011344 , -0.38837877,\n",
       "       -0.64296633, -0.6742719 ,  0.06139505, -0.79206663,  0.5142286 ,\n",
       "       -0.44427225, -0.83135086, -0.25640202, -0.02344326,  0.19455355,\n",
       "       -0.13515636,  0.16276823, -0.45796394, -0.11288551,  0.32110697,\n",
       "       -0.004504  ,  0.35484377, -0.6031522 , -0.23438118,  0.4884722 ,\n",
       "        0.60582423,  0.19903675, -0.43273392, -0.12066987,  0.20441982,\n",
       "        0.7347168 , -0.02444907, -0.25249714,  0.14160688, -0.06046133,\n",
       "       -0.5477507 ,  0.6653941 ,  0.42642722, -0.47024733,  0.28627262,\n",
       "       -0.0975777 , -0.1884586 , -1.0145036 , -0.08981837, -0.33968517,\n",
       "       -0.14843613, -0.2900536 ,  0.23266013,  0.25250417, -0.05233065,\n",
       "        0.00987679,  0.2635117 ,  0.25493556, -0.30202538,  0.37810525],\n",
       "      dtype=float32)"
      ]
     },
     "execution_count": 12,
     "metadata": {},
     "output_type": "execute_result"
    }
   ],
   "source": [
    "model[\"city\"]"
   ]
  },
  {
   "cell_type": "code",
   "execution_count": 12,
   "metadata": {},
   "outputs": [
    {
     "data": {
      "application/vnd.jupyter.widget-view+json": {
       "model_id": "7a85dd7e1cf54e71a11747ffd0caed08",
       "version_major": 2,
       "version_minor": 0
      },
      "text/plain": [
       "HBox(children=(FloatProgress(value=1.0, bar_style='info', max=1.0), HTML(value='')))"
      ]
     },
     "metadata": {},
     "output_type": "display_data"
    },
    {
     "name": "stderr",
     "output_type": "stream",
     "text": [
      "/home/tore/venv/lib/python3.7/site-packages/ipykernel_launcher.py:4: DeprecationWarning: Call to deprecated `__getitem__` (Method will be removed in 4.0.0, use self.wv.__getitem__() instead).\n",
      "  after removing the cwd from sys.path.\n"
     ]
    },
    {
     "name": "stdout",
     "output_type": "stream",
     "text": [
      "\n"
     ]
    }
   ],
   "source": [
    "models = []\n",
    "for index, row in tqdm(cicero.get_df().iterrows()):\n",
    "    models.append(\n",
    "        (row[\"name\"], model[row[\"name\"]]))"
   ]
  },
  {
   "cell_type": "code",
   "execution_count": 20,
   "metadata": {},
   "outputs": [
    {
     "data": {
      "text/plain": [
       "11856"
      ]
     },
     "execution_count": 20,
     "metadata": {},
     "output_type": "execute_result"
    }
   ],
   "source": [
    "len(models)"
   ]
  },
  {
   "cell_type": "markdown",
   "metadata": {},
   "source": [
    "## Step 3\n",
    "Perform a correlation analysis of the variables. On top of this, try to design and implement a model for predicting the \"subjective\" variable values starting from the \"objective\" variables. Optionally, define a recommendation system for games."
   ]
  },
  {
   "cell_type": "markdown",
   "metadata": {},
   "source": [
    "## Variables to be observed:\n",
    "\n",
    "<table style=\"width:100%\">\n",
    "  <tr>\n",
    "    <th>Objective</th>\n",
    "    <th>Subjective</th>\n",
    "  </tr>\n",
    "  <tr>\n",
    "    <td>Name</td>\n",
    "    <td>User rating</td>\n",
    "  </tr>\n",
    "  <tr>\n",
    "    <td>Description</td>\n",
    "    <td>Average</td>\n",
    "  </tr>\n",
    "  <tr>\n",
    "    <td>Categories</td>\n",
    "    <td>Average Weight</td>\n",
    "  </tr>\n",
    "  <tr>\n",
    "    <td>Families</td>\n",
    "    <td>Owned</td>\n",
    "  </tr>\n",
    "  <tr>\n",
    "    <td>Publishers</td>\n",
    "    <td>Rank</td>\n",
    "  </tr>\n",
    "  <tr>\n",
    "    <td>Mechanics</td>\n",
    "    <td></td>\n",
    "  </tr>\n",
    "  <tr>\n",
    "    <td></td>\n",
    "    <td></td>\n",
    "  </tr>\n",
    "</table>"
   ]
  },
  {
   "cell_type": "markdown",
   "metadata": {},
   "source": [
    "### Use an Heatmap to correlate objective and subjective variables\n",
    "##### Calculate pearson correlation between objective / subjective variables (don't include the name) and put them onto an heatmap.\n",
    "All textual representations must be merged into one numpy array that will be correlated with each element of the subjective area <br>\n",
    "<ul>\n",
    "    <li>Create vectors of each subjective field</li>\n",
    "</ul>\n"
   ]
  },
  {
   "cell_type": "code",
   "execution_count": null,
   "metadata": {},
   "outputs": [],
   "source": [
    " "
   ]
  },
  {
   "cell_type": "markdown",
   "metadata": {},
   "source": [
    "## Step 4\n",
    "Include in the paper a report describing the output of Step 3"
   ]
  },
  {
   "cell_type": "code",
   "execution_count": null,
   "metadata": {},
   "outputs": [],
   "source": []
  }
 ],
 "metadata": {
  "kernelspec": {
   "display_name": "Python 3",
   "language": "python",
   "name": "python3"
  },
  "language_info": {
   "codemirror_mode": {
    "name": "ipython",
    "version": 3
   },
   "file_extension": ".py",
   "mimetype": "text/x-python",
   "name": "python",
   "nbconvert_exporter": "python",
   "pygments_lexer": "ipython3",
   "version": "3.7.5"
  }
 },
 "nbformat": 4,
 "nbformat_minor": 4
}
