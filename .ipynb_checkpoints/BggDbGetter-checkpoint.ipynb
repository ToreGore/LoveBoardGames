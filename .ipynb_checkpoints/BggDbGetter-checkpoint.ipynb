{
 "cells": [
  {
   "cell_type": "code",
   "execution_count": 9,
   "metadata": {},
   "outputs": [],
   "source": [
    "import matplotlib\n",
    "import boardgamegeek as bgg\n",
    "import os\n",
    "import requests\n",
    "import pandas as pnd\n",
    "\"\"\"Retrieval of BGG DB\n",
    "A specific date can be given, else gets always the csv from 2020/05/03\"\"\"\n",
    "class BggDbGetter:\n",
    "    def __init__(self):\n",
    "        self._github_link = \"https://raw.githubusercontent.com/beefsack/bgg-ranking-historicals/705e64381e3ccb16d8b725baabb9f2bd4bcb98d3/\"\n",
    "    def db_write(self, date = \"2020-05-23\"):\n",
    "        git_link = self._github_link + date + \".csv\"\n",
    "        response = requests.get(git_link)\n",
    "        with open(os.path.join(\".\", \"BGG_latest.csv\"), \"wb\") as f:\n",
    "            f.write(response.content)\n",
    "        return True"
   ]
  }
 ],
 "metadata": {
  "kernelspec": {
   "display_name": "Python 3",
   "language": "python",
   "name": "python3"
  },
  "language_info": {
   "codemirror_mode": {
    "name": "ipython",
    "version": 3
   },
   "file_extension": ".py",
   "mimetype": "text/x-python",
   "name": "python",
   "nbconvert_exporter": "python",
   "pygments_lexer": "ipython3",
   "version": "3.7.5"
  }
 },
 "nbformat": 4,
 "nbformat_minor": 4
}
