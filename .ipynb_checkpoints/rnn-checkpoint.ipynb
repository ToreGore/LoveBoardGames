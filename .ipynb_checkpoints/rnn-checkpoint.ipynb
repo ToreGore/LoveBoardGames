{
 "cells": [
  {
   "cell_type": "code",
   "execution_count": 16,
   "metadata": {
    "cellView": "form",
    "colab": {
     "base_uri": "https://localhost:8080/",
     "height": 519
    },
    "colab_type": "code",
    "executionInfo": {
     "elapsed": 958,
     "status": "ok",
     "timestamp": 1586618627517,
     "user": {
      "displayName": "Dario Malchiodi",
      "photoUrl": "https://lh3.googleusercontent.com/a-/AOh14GiELCr-zUeJWuHT3llF5XfHH7B3tmxiSDlls6hF=s64",
      "userId": "00228704477903575446"
     },
     "user_tz": -120
    },
    "id": "9CIWnsLbz2qB",
    "outputId": "57b6fbe6-35bf-4d3e-a9c8-ac6feef59883"
   },
   "outputs": [
    {
     "data": {
      "text/html": [
       "\n",
       "<div style=\"font-size: 22px;\">\n",
       "Master in Computer Science <br>\n",
       "Master in Data Science and Economics\n",
       "</div>\n",
       "\n",
       "<div style=\"font-size: 28px; margin-top: 2rem;\">Algorithms for massive datasets</div>\n",
       "\n",
       "<div style=\"font-size: 40px; margin-top: 5rem; margin-bottom: 3rem; text-align: center;\">Recurrent neural networks</div>\n",
       "\n",
       "<div style=\"font-size: 28px;\"\">Prof. Dario Malchiodi</div>\n",
       "\n",
       "<div style=\"width: 50%; margin: auto;\">\n",
       "<img src=\"http://inaugurazione.di.unimi.it/img/di_green.jpeg\" style=\"height: 6rem; margin-top: 4.6rem; float: left;\">\n",
       "<img src=\"http://www.demm.unimi.it/extfiles/unimidire/100601/image/logo-demm-60x60px.jpg\" style=\"height: 5rem; margin-top: 5rem; margin-left: 0.5rem; margin-right: 0.5rem; float: left;\">\n",
       "<img src=\"https://www.unimi.it/sites/default/files/2019-05/LogoFooter_a9f0c3692bf29c71609e5f204522c5d4_0.png\" style=\"height: 5rem; margin-top: 5rem; float: left;\">\n",
       "</div>"
      ],
      "text/plain": [
       "<IPython.core.display.HTML object>"
      ]
     },
     "metadata": {
      "tags": []
     },
     "output_type": "display_data"
    }
   ],
   "source": [
    "#@title\n",
    "%%html\n",
    "\n",
    "<div style=\"font-size: 22px;\">\n",
    "Master in Computer Science <br>\n",
    "Master in Data Science and Economics\n",
    "</div>\n",
    "\n",
    "<div style=\"font-size: 28px; margin-top: 2rem;\">Algorithms for massive datasets</div>\n",
    "\n",
    "<div style=\"font-size: 40px; margin-top: 5rem; margin-bottom: 3rem; text-align: center;\">Recurrent neural networks</div>\n",
    "\n",
    "<div style=\"font-size: 28px;\"\">Prof. Dario Malchiodi</div>\n",
    "\n",
    "<div style=\"width: 50%; margin: auto;\">\n",
    "<img src=\"http://inaugurazione.di.unimi.it/img/di_green.jpeg\" style=\"height: 6rem; margin-top: 4.6rem; float: left;\">\n",
    "<img src=\"http://www.demm.unimi.it/extfiles/unimidire/100601/image/logo-demm-60x60px.jpg\" style=\"height: 5rem; margin-top: 5rem; margin-left: 0.5rem; margin-right: 0.5rem; float: left;\">\n",
    "<img src=\"https://www.unimi.it/sites/default/files/2019-05/LogoFooter_a9f0c3692bf29c71609e5f204522c5d4_0.png\" style=\"height: 5rem; margin-top: 5rem; float: left;\">\n",
    "</div>"
   ]
  },
  {
   "cell_type": "markdown",
   "metadata": {
    "colab_type": "text",
    "id": "Kl1_43tNzd7k"
   },
   "source": [
    "### Sources <a class=\"tocSkip\" />\n",
    "\n",
    "- [Michael Nguyen, Illustrated Guide to LSTMâ€™s and GRUâ€™s: A step by step explanation](https://towardsdatascience.com/illustrated-guide-to-lstms-and-gru-s-a-step-by-step-explanation-44e9eb85bf21)\n",
    "- [Martin GÃ¶rner, TensorFlow, Keras and recurrent neural networks without a PhD](https://docs.google.com/presentation/d/18MiZndRCOxB7g-TcCl2EZOElS5udVaCuxnGznLnmOlE/pub?slide=id.g6f62024941_0_786)\n",
    "- [Tensorflow tutorials, Text generation with a RNN](https://www.tensorflow.org/tutorials/text/text_generation)"
   ]
  },
  {
   "cell_type": "markdown",
   "metadata": {
    "colab_type": "text",
    "id": "CNc7mOSdzd7l"
   },
   "source": [
    "# From a perceptron... <a class=\"tocSkip\" />\n",
    "\n",
    "![A neuron recognizing digits](https://codelabs.developers.google.com/codelabs/cloud-tensorflow-mnist/img/d5222c6e3d15770a.png)\n",
    "\n",
    "[Source: https://codelabs.developers.google.com/codelabs/cloud-tensorflow-mnist]"
   ]
  },
  {
   "cell_type": "markdown",
   "metadata": {
    "colab_type": "text",
    "id": "VVW2EduVzd7m"
   },
   "source": [
    "# ...to a recurrent neural network <a class=\"tocSkip\" />\n",
    "\n",
    "<img src=\"https://malchiodi.di.unimi.it/archive/deep-learning/img/rnn/simple-rnn.png\" style=\"width:70%;\">"
   ]
  },
  {
   "cell_type": "markdown",
   "metadata": {
    "colab_type": "text",
    "id": "6eopUE7Czd7n"
   },
   "source": [
    "# A more compact description <a class=\"tocSkip\" />\n",
    "\n",
    "<img src=\"https://malchiodi.di.unimi.it/archive/deep-learning/img/rnn/simple-rnn-2.png\" height=350>\n",
    "<img src=\"https://malchiodi.di.unimi.it/archive/deep-learning/img/rnn/simple-rnn.png\" height=350>"
   ]
  },
  {
   "cell_type": "markdown",
   "metadata": {
    "colab_type": "text",
    "id": "bjE0QHRgzd7p"
   },
   "source": [
    "## Why hyperbolic tangent? <a class=\"tocSkip\" />"
   ]
  },
  {
   "cell_type": "code",
   "execution_count": 1,
   "metadata": {
    "colab": {
     "base_uri": "https://localhost:8080/",
     "height": 265
    },
    "colab_type": "code",
    "executionInfo": {
     "elapsed": 965,
     "status": "ok",
     "timestamp": 1586781155980,
     "user": {
      "displayName": "Dario Malchiodi",
      "photoUrl": "https://lh3.googleusercontent.com/a-/AOh14GiELCr-zUeJWuHT3llF5XfHH7B3tmxiSDlls6hF=s64",
      "userId": "00228704477903575446"
     },
     "user_tz": -120
    },
    "id": "ON3y_heozd7q",
    "outputId": "b975885b-1ad6-482c-d447-6ac405144f6b"
   },
   "outputs": [
    {
     "data": {
      "image/png": "[encoded data removed]",
      "text/plain": [
       "<Figure size 432x288 with 1 Axes>"
      ]
     },
     "metadata": {
      "needs_background": "light",
      "tags": []
     },
     "output_type": "display_data"
    }
   ],
   "source": [
    "from matplotlib import pyplot as plt\n",
    "import numpy as np\n",
    "\n",
    "x = np.linspace(-3, 3, 100)\n",
    "plt.plot(x, np.tanh(x))\n",
    "plt.show()"
   ]
  },
  {
   "cell_type": "markdown",
   "metadata": {
    "colab_type": "text",
    "id": "MzO3EKu2zd7y"
   },
   "source": [
    "It's important that logits are allowed to have positive and negative values, and that they do not diverge."
   ]
  },
  {
   "cell_type": "markdown",
   "metadata": {
    "colab_type": "text",
    "id": "eWOxqkF8zd7z"
   },
   "source": [
    "# Training <a class=\"tocSkip\" />\n",
    "\n",
    "<img src=\"https://malchiodi.di.unimi.it/archive/deep-learning/img/rnn/rnn-unfold-train.png\" style=\"width: 70%;\">"
   ]
  },
  {
   "cell_type": "markdown",
   "metadata": {
    "colab_type": "text",
    "id": "-yaEhr1Uzd70"
   },
   "source": [
    "# Deep RNN <a class=\"tocSkip\" />\n",
    "\n",
    "<img src=\"https://malchiodi.di.unimi.it/archive/deep-learning/img/rnn/deep-rnn.png\" style=\"width: 70%;\">"
   ]
  },
  {
   "cell_type": "markdown",
   "metadata": {
    "colab_type": "text",
    "id": "_JNQlXOWzd71"
   },
   "source": [
    "# Why using a RNN? <a class=\"tocSkip\" />\n",
    "\n",
    "For problems requiring \"memory\"\n",
    "\n",
    "- text generation\n",
    "- automatic translation\n",
    "- captioning"
   ]
  },
  {
   "cell_type": "markdown",
   "metadata": {
    "colab_type": "text",
    "id": "OPU3eM3Xzd72"
   },
   "source": [
    "## For instance <a class=\"tocSkip\" />\n",
    "\n",
    "<img src=\"https://malchiodi.di.unimi.it/archive/deep-learning/img/rnn/text-memory.png\" style=\"width: 70%;\">\n",
    "<img src=\"https://malchiodi.di.unimi.it/archive/deep-learning/img/rnn/text-memory-rnn.png\" style=\"width: 70%;\">"
   ]
  },
  {
   "cell_type": "markdown",
   "metadata": {
    "colab_type": "text",
    "id": "ghzWWfk9zd73"
   },
   "source": [
    "## The Â«short memoryÂ» problem <a class=\"tocSkip\">\n",
    "    \n",
    "- Vanishing gradient\n",
    "- Especially when it comes to Â«learnÂ» past things"
   ]
  },
  {
   "cell_type": "markdown",
   "metadata": {
    "colab_type": "text",
    "id": "3WwjVG3xzd74"
   },
   "source": [
    "## A Â«simpleÂ» RNN cell <a class=\"tocSkip\" />\n",
    "\n",
    "<img src=\"https://malchiodi.di.unimi.it/archive/deep-learning/img/rnn/rnn-cell.png\" style=\"width: 30%;\">"
   ]
  },
  {
   "cell_type": "markdown",
   "metadata": {
    "colab_type": "text",
    "id": "EKdKvwb5zd75"
   },
   "source": [
    "# LSTM <a class=\"tocSkip\" />\n",
    "\n",
    "Long Short-Term Memory\n",
    "\n",
    "## LSTM cell <a class=\"tocSkip\" />\n",
    "\n",
    "<img src=\"https://miro.medium.com/max/1400/1*0f8r3Vd-i4ueYND1CUrhMA.png\" style=\"width: 50%;\">\n",
    "\n",
    "## Forget gate <a class=\"tocSkip\" />\n",
    "\n",
    "<img src=\"https://miro.medium.com/max/1400/1*GjehOa513_BgpDDP6Vkw2Q.gif\" style=\"width: 50%;\">\n",
    "\n",
    "## Input gate <a class=\"tocSkip\" />\n",
    "\n",
    "<img src=\"https://miro.medium.com/max/1400/1*TTmYy7Sy8uUXxUXfzmoKbA.gif\" style=\"width: 50%;\">\n",
    "\n",
    "\n",
    "## Cell state <a class=\"tocSkip\" />\n",
    "\n",
    "<img src=\"https://miro.medium.com/max/1400/1*S0rXIeO_VoUVOyrYHckUWg.gif\" style=\"width: 50%;\">\n",
    "\n",
    "## Output gate <a class=\"tocSkip\" />\n",
    "\n",
    "<img src=\"https://miro.medium.com/max/1400/1*VOXRGhOShoWWks6ouoDN3Q.gif\" style=\"width: 50%;\">\n",
    "\n",
    "### In code <a class=\"tocSkip\" />"
   ]
  },
  {
   "cell_type": "markdown",
   "metadata": {
    "colab_type": "text",
    "id": "Ctw0VoGt29oW"
   },
   "source": [
    "```\n",
    "def lstm_cell(prev_ct, prev_ht, input):\n",
    "    combine = prev_ht + input\n",
    "    ft = foget_layer(combine)\n",
    "    candidate = candidate_layer(combine)\n",
    "    it = input_layer(combine)\n",
    "    ct = prev_ct * ft + candidate * it\n",
    "    ot = output_layer(combine)\n",
    "    ht = ot * tanh(ct)\n",
    "    return ht, ct\n",
    "\n",
    "ct = [0, 0, 0]\n",
    "ht = [0, 0, 0]\n",
    "for input in inputs:\n",
    "    ct, ht = lstm_cell(ct, ht, input)\n",
    "```"
   ]
  },
  {
   "cell_type": "markdown",
   "metadata": {
    "colab_type": "text",
    "id": "K_8ezzG8zd7_"
   },
   "source": [
    "# GRU <a class=\"tocSkip\" />\n",
    "\n",
    "Gated Recurrent Unit\n",
    "\n",
    "## GRU cell <a class=\"tocSkip\" />\n",
    "\n",
    "<img src=\"https://miro.medium.com/max/1400/1*jhi5uOm9PvZfmxvfaCektw.png\" style=\"width: 50%;\">\n",
    "\n",
    "## Update Gate <a class=\"tocSkip\" />\n",
    "\n",
    "The update gate acts similar to the forget and input gate of an LSTM. It decides what information to throw away and what new information to add.\n",
    "\n",
    "## Reset Gate <a class=\"tocSkip\" />\n",
    "\n",
    "The reset gate is another gate is used to decide how much past information to forget."
   ]
  },
  {
   "cell_type": "markdown",
   "metadata": {
    "colab_type": "text",
    "id": "N8JzTFK0zd8B"
   },
   "source": [
    "# Application: text generation <a class=\"tocSkip\" />\n",
    "\n",
    "<img src=\"https://images.everyeye.it/img-articoli/game-of-thrones-stagioni-peggiore-migliore-speciale-v5-48114-1280x16.jpg\">"
   ]
  },
  {
   "cell_type": "markdown",
   "metadata": {
    "colab_type": "text",
    "id": "KR1Y-2C2zd8D"
   },
   "source": [
    "# Tensorflow implementation <a class=\"tocSkip\" />"
   ]
  },
  {
   "cell_type": "code",
   "execution_count": 0,
   "metadata": {
    "colab": {},
    "colab_type": "code",
    "id": "CMMDG_Ytzd8E"
   },
   "outputs": [],
   "source": [
    "import tensorflow as tf\n",
    "\n",
    "import numpy as np\n",
    "import os\n",
    "import time"
   ]
  },
  {
   "cell_type": "markdown",
   "metadata": {
    "colab_type": "text",
    "id": "1yfft4Nszd8N"
   },
   "source": [
    "## Read the data <a class=\"tocSkip\" />"
   ]
  },
  {
   "cell_type": "code",
   "execution_count": 3,
   "metadata": {
    "colab": {
     "base_uri": "https://localhost:8080/",
     "height": 67
    },
    "colab_type": "code",
    "executionInfo": {
     "elapsed": 1369,
     "status": "ok",
     "timestamp": 1586781178497,
     "user": {
      "displayName": "Dario Malchiodi",
      "photoUrl": "https://lh3.googleusercontent.com/a-/AOh14GiELCr-zUeJWuHT3llF5XfHH7B3tmxiSDlls6hF=s64",
      "userId": "00228704477903575446"
     },
     "user_tz": -120
    },
    "id": "r2StNS1ozd8O",
    "outputId": "6b459b9b-50a1-45e8-9e26-0b13d6ccef52"
   },
   "outputs": [
    {
     "name": "stdout",
     "output_type": "stream",
     "text": [
      "Downloading data from https://raw.githubusercontent.com/nihitx/game-of-thrones-/master/gameofthrones.txt\n",
      "5832704/5826890 [==============================] - 0s 0us/step\n",
      "Length of text: 5662324 characters\n"
     ]
    }
   ],
   "source": [
    "got_url = ('https://raw.githubusercontent.com/nihitx/'\n",
    "           'game-of-thrones-/master/gameofthrones.txt')\n",
    "\n",
    "path_to_file = tf.keras.utils.get_file('gameofthrones.txt', got_url)\n",
    "\n",
    "text = open(path_to_file, 'rb').read().decode('utf-8')\n",
    "\n",
    "print ('Length of text: {} characters'.format(len(text)))"
   ]
  },
  {
   "cell_type": "code",
   "execution_count": 4,
   "metadata": {
    "colab": {
     "base_uri": "https://localhost:8080/",
     "height": 134
    },
    "colab_type": "code",
    "executionInfo": {
     "elapsed": 830,
     "status": "ok",
     "timestamp": 1586781312991,
     "user": {
      "displayName": "Dario Malchiodi",
      "photoUrl": "https://lh3.googleusercontent.com/a-/AOh14GiELCr-zUeJWuHT3llF5XfHH7B3tmxiSDlls6hF=s64",
      "userId": "00228704477903575446"
     },
     "user_tz": -120
    },
    "id": "UO1-E0ASzd8W",
    "outputId": "54086217-3953-4448-a3db-4146259a065b"
   },
   "outputs": [
    {
     "name": "stdout",
     "output_type": "stream",
     "text": [
      "\n",
      "\n",
      "â€œWe should start back,â€ Gared urged as the woods began to grow dark around them. â€œThe wildlings are dead.â€\n",
      "\n",
      "â€œDo the dead frighten you?â€ Ser Waymar Royce asked with just the hint of a smile.\n",
      "\n",
      "Gared did not rise to the bait. He was an old man, past f\n"
     ]
    }
   ],
   "source": [
    "# Take a look at the first 250 characters in text\n",
    "print(text[:250])"
   ]
  },
  {
   "cell_type": "code",
   "execution_count": 5,
   "metadata": {
    "colab": {
     "base_uri": "https://localhost:8080/",
     "height": 33
    },
    "colab_type": "code",
    "executionInfo": {
     "elapsed": 903,
     "status": "ok",
     "timestamp": 1586781315627,
     "user": {
      "displayName": "Dario Malchiodi",
      "photoUrl": "https://lh3.googleusercontent.com/a-/AOh14GiELCr-zUeJWuHT3llF5XfHH7B3tmxiSDlls6hF=s64",
      "userId": "00228704477903575446"
     },
     "user_tz": -120
    },
    "id": "WPs0H-Fqzd8e",
    "outputId": "6152821c-f8ba-4731-a864-f568aecc580a"
   },
   "outputs": [
    {
     "name": "stdout",
     "output_type": "stream",
     "text": [
      "86 unique characters\n"
     ]
    }
   ],
   "source": [
    "# The unique characters in the file\n",
    "vocab = sorted(set(text))\n",
    "print ('{} unique characters'.format(len(vocab)))"
   ]
  },
  {
   "cell_type": "markdown",
   "metadata": {
    "colab_type": "text",
    "id": "RepwM2mHzd8j"
   },
   "source": [
    "## Vectorize the text <a class=\"tocSkip\" />\n",
    "\n",
    "Before training, we need to map strings to a numerical representation. Create two lookup tables: one mapping characters to numbers, and another for numbers to characters."
   ]
  },
  {
   "cell_type": "code",
   "execution_count": 0,
   "metadata": {
    "colab": {},
    "colab_type": "code",
    "id": "tpwknObszd8k"
   },
   "outputs": [],
   "source": [
    "# Creating a mapping from unique characters to indices\n",
    "char2idx = {u:i for i, u in enumerate(vocab)}\n",
    "idx2char = np.array(vocab)\n",
    "\n",
    "text_as_int = np.array([char2idx[c] for c in text])"
   ]
  },
  {
   "cell_type": "markdown",
   "metadata": {
    "colab_type": "text",
    "id": "6Z7GFlukzd8q"
   },
   "source": [
    "Now we have an integer representation for each character. Notice that we mapped the character as indexes from 0 to len(unique)."
   ]
  },
  {
   "cell_type": "code",
   "execution_count": 7,
   "metadata": {
    "colab": {
     "base_uri": "https://localhost:8080/",
     "height": 403
    },
    "colab_type": "code",
    "executionInfo": {
     "elapsed": 539,
     "status": "ok",
     "timestamp": 1586781322291,
     "user": {
      "displayName": "Dario Malchiodi",
      "photoUrl": "https://lh3.googleusercontent.com/a-/AOh14GiELCr-zUeJWuHT3llF5XfHH7B3tmxiSDlls6hF=s64",
      "userId": "00228704477903575446"
     },
     "user_tz": -120
    },
    "id": "aYBW9B5szd8t",
    "outputId": "3464547a-0301-439f-accd-3aface856b39"
   },
   "outputs": [
    {
     "name": "stdout",
     "output_type": "stream",
     "text": [
      "{\n",
      "  '\\n':   0,\n",
      "  ' ' :   1,\n",
      "  '!' :   2,\n",
      "  '(' :   3,\n",
      "  ')' :   4,\n",
      "  ',' :   5,\n",
      "  '-' :   6,\n",
      "  '.' :   7,\n",
      "  '/' :   8,\n",
      "  '0' :   9,\n",
      "  '1' :  10,\n",
      "  '2' :  11,\n",
      "  '3' :  12,\n",
      "  '4' :  13,\n",
      "  '5' :  14,\n",
      "  '6' :  15,\n",
      "  '7' :  16,\n",
      "  '8' :  17,\n",
      "  '9' :  18,\n",
      "  ':' :  19,\n",
      "  ...\n",
      "}\n"
     ]
    }
   ],
   "source": [
    "print('{')\n",
    "for char,_ in zip(char2idx, range(20)):\n",
    "    print('  {:4s}: {:3d},'.format(repr(char), char2idx[char]))\n",
    "print('  ...\\n}')"
   ]
  },
  {
   "cell_type": "code",
   "execution_count": 8,
   "metadata": {
    "colab": {
     "base_uri": "https://localhost:8080/",
     "height": 33
    },
    "colab_type": "code",
    "executionInfo": {
     "elapsed": 819,
     "status": "ok",
     "timestamp": 1586781325817,
     "user": {
      "displayName": "Dario Malchiodi",
      "photoUrl": "https://lh3.googleusercontent.com/a-/AOh14GiELCr-zUeJWuHT3llF5XfHH7B3tmxiSDlls6hF=s64",
      "userId": "00228704477903575446"
     },
     "user_tz": -120
    },
    "id": "lFjCZO2qzd8y",
    "outputId": "43072ca1-120f-4a7b-ae24-98ba99cbf727"
   },
   "outputs": [
    {
     "name": "stdout",
     "output_type": "stream",
     "text": [
      "'\\n\\nâ€œWe should ' ---- characters mapped to int ---- > [ 0  0 83 44 54  1 68 57 64 70 61 53  1]\n"
     ]
    }
   ],
   "source": [
    "# Show how the first 13 characters from the text are mapped to integers\n",
    "print ('{} ---- characters mapped to int ---- > {}'.format(repr(text[:13]), text_as_int[:13]))"
   ]
  },
  {
   "cell_type": "markdown",
   "metadata": {
    "colab_type": "text",
    "id": "X6l3BzSDzd83"
   },
   "source": [
    "## The prediction task <a class=\"tocSkip\" />\n",
    "\n",
    "Given a character, or a sequence of characters, what is the most probable next character? This is the task we're training the model to perform. The input to the model will be a sequence of characters, and we train the model to predict the outputâ€”the following character at each time step.\n",
    "\n",
    "Since RNNs maintain an internal state that depends on the previously seen elements, given all the characters computed until this moment, what is the next character?"
   ]
  },
  {
   "cell_type": "markdown",
   "metadata": {
    "colab_type": "text",
    "id": "qB35hlslzd84"
   },
   "source": [
    "## Create training examples and targets <a class=\"tocSkip\" />\n",
    "\n",
    "Next divide the text into example sequences. Each input sequence will contain `seq_length` characters from the text.\n",
    "\n",
    "For each input sequence, the corresponding targets contain the same length of text, except shifted one character to the right.\n",
    "\n",
    "So break the text into chunks of `seq_length+1`. For example, say seq_length is 4 and our text is `\"Hello\"`. The input sequence would be `\"Hell\"`, and the target sequence `\"ello\"`.\n",
    "\n",
    "To do this first use the `tf.data.Dataset.from_tensor_slices` function to convert the text vector into a stream of character indices."
   ]
  },
  {
   "cell_type": "code",
   "execution_count": 9,
   "metadata": {
    "colab": {
     "base_uri": "https://localhost:8080/",
     "height": 134
    },
    "colab_type": "code",
    "executionInfo": {
     "elapsed": 7451,
     "status": "ok",
     "timestamp": 1586781336588,
     "user": {
      "displayName": "Dario Malchiodi",
      "photoUrl": "https://lh3.googleusercontent.com/a-/AOh14GiELCr-zUeJWuHT3llF5XfHH7B3tmxiSDlls6hF=s64",
      "userId": "00228704477903575446"
     },
     "user_tz": -120
    },
    "id": "pwuUNv8Nzd85",
    "outputId": "b87486d9-dba7-4a7f-9a12-aaf922f4db84"
   },
   "outputs": [
    {
     "name": "stdout",
     "output_type": "stream",
     "text": [
      "\n",
      "\n",
      "\n",
      "\n",
      "â€œ\n",
      "W\n",
      "e\n"
     ]
    }
   ],
   "source": [
    "# The maximum length sentence we want for a single input in characters\n",
    "seq_length = 100\n",
    "examples_per_epoch = len(text)//(seq_length+1)\n",
    "\n",
    "# Create training examples / targets\n",
    "char_dataset = tf.data.Dataset.from_tensor_slices(text_as_int)\n",
    "\n",
    "for i in char_dataset.take(5):\n",
    "    print(idx2char[i.numpy()])"
   ]
  },
  {
   "cell_type": "markdown",
   "metadata": {
    "colab_type": "text",
    "id": "7NoPHZjRzd9A"
   },
   "source": [
    "The `batch` method lets us easily convert these individual characters to sequences of the desired size."
   ]
  },
  {
   "cell_type": "code",
   "execution_count": 10,
   "metadata": {
    "colab": {
     "base_uri": "https://localhost:8080/",
     "height": 101
    },
    "colab_type": "code",
    "executionInfo": {
     "elapsed": 923,
     "status": "ok",
     "timestamp": 1586781340092,
     "user": {
      "displayName": "Dario Malchiodi",
      "photoUrl": "https://lh3.googleusercontent.com/a-/AOh14GiELCr-zUeJWuHT3llF5XfHH7B3tmxiSDlls6hF=s64",
      "userId": "00228704477903575446"
     },
     "user_tz": -120
    },
    "id": "pmdx393Azd9B",
    "outputId": "57e82b50-1c59-494b-aca0-9523680f13e4"
   },
   "outputs": [
    {
     "name": "stdout",
     "output_type": "stream",
     "text": [
      "'\\n\\nâ€œWe should start back,â€ Gared urged as the woods began to grow dark around them. â€œThe wildlings are'\n",
      "' dead.â€\\n\\nâ€œDo the dead frighten you?â€ Ser Waymar Royce asked with just the hint of a smile.\\n\\nGared did'\n",
      "' not rise to the bait. He was an old man, past fifty, and he had seen the lordlings come and go. â€œDea'\n",
      "'d is dead,â€ he said. â€œWe have no business with the dead.â€\\n\\nâ€œAre they dead?â€ Royce asked softly. â€œWhat'\n",
      "' proof have we?â€\\n\\nâ€œWill saw them,â€ Gared said. â€œIf he says they are dead, thatâ€™s proof enough for me.'\n"
     ]
    }
   ],
   "source": [
    "sequences = char_dataset.batch(seq_length+1, drop_remainder=True)\n",
    "\n",
    "for item in sequences.take(5):\n",
    "    print(repr(''.join(idx2char[item.numpy()])))"
   ]
  },
  {
   "cell_type": "markdown",
   "metadata": {
    "colab_type": "text",
    "id": "czPmJAwTzd9G"
   },
   "source": [
    "For each sequence, duplicate and shift it to form the input and target text by using the `map` method to apply a simple function to each batch:"
   ]
  },
  {
   "cell_type": "code",
   "execution_count": 0,
   "metadata": {
    "colab": {},
    "colab_type": "code",
    "id": "gcBS0EF3zd9H"
   },
   "outputs": [],
   "source": [
    "def split_input_target(chunk):\n",
    "    input_text = chunk[:-1]\n",
    "    target_text = chunk[1:]\n",
    "    return input_text, target_text\n",
    "\n",
    "dataset = sequences.map(split_input_target)"
   ]
  },
  {
   "cell_type": "markdown",
   "metadata": {
    "colab_type": "text",
    "id": "e5YxdnQ6zd9N"
   },
   "source": [
    "Print the first examples input and target values:"
   ]
  },
  {
   "cell_type": "code",
   "execution_count": 12,
   "metadata": {
    "colab": {
     "base_uri": "https://localhost:8080/",
     "height": 50
    },
    "colab_type": "code",
    "executionInfo": {
     "elapsed": 853,
     "status": "ok",
     "timestamp": 1586781345623,
     "user": {
      "displayName": "Dario Malchiodi",
      "photoUrl": "https://lh3.googleusercontent.com/a-/AOh14GiELCr-zUeJWuHT3llF5XfHH7B3tmxiSDlls6hF=s64",
      "userId": "00228704477903575446"
     },
     "user_tz": -120
    },
    "id": "qXbHTjKRzd9O",
    "outputId": "ce1ad16d-f581-40af-b419-12668c6aab5c"
   },
   "outputs": [
    {
     "name": "stdout",
     "output_type": "stream",
     "text": [
      "Input data:  '\\n\\nâ€œWe should start back,â€ Gared urged as the woods began to grow dark around them. â€œThe wildlings ar'\n",
      "Target data: '\\nâ€œWe should start back,â€ Gared urged as the woods began to grow dark around them. â€œThe wildlings are'\n"
     ]
    }
   ],
   "source": [
    "for input_example, target_example in  dataset.take(1):\n",
    "    print ('Input data: ', repr(''.join(idx2char[input_example.numpy()])))\n",
    "    print ('Target data:', repr(''.join(idx2char[target_example.numpy()])))"
   ]
  },
  {
   "cell_type": "markdown",
   "metadata": {
    "colab_type": "text",
    "id": "JYSL0gc1zd9T"
   },
   "source": [
    "Each index of these vectors are processed as one time step. For the input at time step 0, the model receives the index for `\"F\"` and trys to predict the index for `\"i\"` as the next character. At the next timestep, it does the same thing but the RNN considers the previous step context in addition to the current input character."
   ]
  },
  {
   "cell_type": "code",
   "execution_count": 13,
   "metadata": {
    "colab": {
     "base_uri": "https://localhost:8080/",
     "height": 268
    },
    "colab_type": "code",
    "executionInfo": {
     "elapsed": 765,
     "status": "ok",
     "timestamp": 1586781350128,
     "user": {
      "displayName": "Dario Malchiodi",
      "photoUrl": "https://lh3.googleusercontent.com/a-/AOh14GiELCr-zUeJWuHT3llF5XfHH7B3tmxiSDlls6hF=s64",
      "userId": "00228704477903575446"
     },
     "user_tz": -120
    },
    "id": "QXIiR_2Nzd9T",
    "outputId": "d164a548-c318-41ad-dede-673ae2fe2472"
   },
   "outputs": [
    {
     "name": "stdout",
     "output_type": "stream",
     "text": [
      "Step    0\n",
      "  input: 0 ('\\n')\n",
      "  expected output: 0 ('\\n')\n",
      "Step    1\n",
      "  input: 0 ('\\n')\n",
      "  expected output: 83 ('â€œ')\n",
      "Step    2\n",
      "  input: 83 ('â€œ')\n",
      "  expected output: 44 ('W')\n",
      "Step    3\n",
      "  input: 44 ('W')\n",
      "  expected output: 54 ('e')\n",
      "Step    4\n",
      "  input: 54 ('e')\n",
      "  expected output: 1 (' ')\n"
     ]
    }
   ],
   "source": [
    "for i, (input_idx, target_idx) in enumerate(zip(input_example[:5], target_example[:5])):\n",
    "    print(\"Step {:4d}\".format(i))\n",
    "    print(\"  input: {} ({:s})\".format(input_idx, repr(idx2char[input_idx])))\n",
    "    print(\"  expected output: {} ({:s})\".format(target_idx, repr(idx2char[target_idx])))"
   ]
  },
  {
   "cell_type": "markdown",
   "metadata": {
    "colab_type": "text",
    "id": "mgRYtfmFzd9Z"
   },
   "source": [
    "## Create training batches <a class=\"tocSkip\" />\n",
    "\n",
    "We used `tf.data` to split the text into manageable sequences. But before feeding this data into the model, we need to shuffle the data and pack it into batches."
   ]
  },
  {
   "cell_type": "code",
   "execution_count": 14,
   "metadata": {
    "colab": {
     "base_uri": "https://localhost:8080/",
     "height": 33
    },
    "colab_type": "code",
    "executionInfo": {
     "elapsed": 727,
     "status": "ok",
     "timestamp": 1586781354828,
     "user": {
      "displayName": "Dario Malchiodi",
      "photoUrl": "https://lh3.googleusercontent.com/a-/AOh14GiELCr-zUeJWuHT3llF5XfHH7B3tmxiSDlls6hF=s64",
      "userId": "00228704477903575446"
     },
     "user_tz": -120
    },
    "id": "0EAMEuhRzd9b",
    "outputId": "8bb3e40b-5f50-4d1d-b664-c40528ef6f11"
   },
   "outputs": [
    {
     "data": {
      "text/plain": [
       "<BatchDataset shapes: ((64, 100), (64, 100)), types: (tf.int64, tf.int64)>"
      ]
     },
     "execution_count": 14,
     "metadata": {
      "tags": []
     },
     "output_type": "execute_result"
    }
   ],
   "source": [
    "# Batch size\n",
    "BATCH_SIZE = 64\n",
    "\n",
    "# Buffer size to shuffle the dataset\n",
    "# (TF data is designed to work with possibly infinite sequences,\n",
    "# so it doesn't attempt to shuffle the entire sequence in memory. Instead,\n",
    "# it maintains a buffer in which it shuffles elements).\n",
    "BUFFER_SIZE = 10000\n",
    "\n",
    "dataset = dataset.shuffle(BUFFER_SIZE).batch(BATCH_SIZE, drop_remainder=True)\n",
    "\n",
    "dataset"
   ]
  },
  {
   "cell_type": "markdown",
   "metadata": {
    "colab_type": "text",
    "id": "edcTT089zd9i"
   },
   "source": [
    "## Build The Model <a class=\"tocSkip\" />\n",
    "\n",
    "Use `tf.keras.Sequential` to define the model. For this simple example three layers are used to define our model:\n",
    "\n",
    "- `tf.keras.layers.Embedding`: The input layer. A trainable lookup table that will map the numbers of each character to a vector with embedding_dim dimensions;\n",
    "- `tf.keras.layers.GRU`: A type of RNN with size units=rnn_units (You can also use a LSTM layer here.)\n",
    "- `tf.keras.layers.Dense`: The output layer, with vocab_size outputs."
   ]
  },
  {
   "cell_type": "code",
   "execution_count": 0,
   "metadata": {
    "colab": {},
    "colab_type": "code",
    "id": "cjnDGKLtzd9j"
   },
   "outputs": [],
   "source": [
    "# Length of the vocabulary in chars\n",
    "vocab_size = len(vocab)\n",
    "\n",
    "# The embedding dimension\n",
    "embedding_dim = 50\n",
    "\n",
    "# Number of RNN units\n",
    "rnn_units = 512"
   ]
  },
  {
   "cell_type": "code",
   "execution_count": 0,
   "metadata": {
    "colab": {},
    "colab_type": "code",
    "id": "8y2bcVm3zd9n"
   },
   "outputs": [],
   "source": [
    "def build_model(vocab_size, embedding_dim, rnn_units, batch_size):\n",
    "    model = tf.keras.Sequential([\n",
    "        tf.keras.layers.Embedding(vocab_size, embedding_dim,\n",
    "                                  batch_input_shape=[batch_size, None]),\n",
    "        tf.keras.layers.GRU(rnn_units,\n",
    "                            return_sequences=True,\n",
    "                            stateful=True,\n",
    "                            recurrent_initializer='glorot_uniform'),\n",
    "        tf.keras.layers.Dense(vocab_size)\n",
    "    ])\n",
    "    return model"
   ]
  },
  {
   "cell_type": "code",
   "execution_count": 0,
   "metadata": {
    "colab": {},
    "colab_type": "code",
    "id": "M1ewDeiSzd9t"
   },
   "outputs": [],
   "source": [
    "model = build_model(\n",
    "  vocab_size = len(vocab),\n",
    "  embedding_dim=embedding_dim,\n",
    "  rnn_units=rnn_units,\n",
    "  batch_size=BATCH_SIZE)"
   ]
  },
  {
   "cell_type": "markdown",
   "metadata": {
    "colab_type": "text",
    "id": "WFrayqaHzd9y"
   },
   "source": [
    "For each character the model looks up the embedding, runs the GRU one timestep with the embedding as input, and applies the dense layer to generate logits predicting the log-likelihood of the next character:\n",
    "\n",
    "![A drawing of the data passing through the model](https://github.com/tensorflow/docs/blob/master/site/en/tutorials/text/images/text_generation_training.png?raw=1)\n",
    "\n",
    "Please note that we choose to Keras sequential model here since all the layers in the model only have single input and produce single output. In case you want to retrieve and reuse the states from stateful RNN layer, you might want to build your model with Keras functional API or model subclassing. Please check [Keras RNN guide](https://www.tensorflow.org/guide/keras/rnn#rnn_state_reuse) for more details."
   ]
  },
  {
   "cell_type": "markdown",
   "metadata": {
    "colab_type": "text",
    "id": "abyLNdA-zd9z"
   },
   "source": [
    "## Try the model <a class=\"tocSkip\" />\n",
    "\n",
    "Now run the model to see that it behaves as expected.\n",
    "\n",
    "First check the shape of the output:"
   ]
  },
  {
   "cell_type": "code",
   "execution_count": 18,
   "metadata": {
    "colab": {
     "base_uri": "https://localhost:8080/",
     "height": 33
    },
    "colab_type": "code",
    "executionInfo": {
     "elapsed": 6755,
     "status": "ok",
     "timestamp": 1586781404277,
     "user": {
      "displayName": "Dario Malchiodi",
      "photoUrl": "https://lh3.googleusercontent.com/a-/AOh14GiELCr-zUeJWuHT3llF5XfHH7B3tmxiSDlls6hF=s64",
      "userId": "00228704477903575446"
     },
     "user_tz": -120
    },
    "id": "LDzrq3pkzd90",
    "outputId": "ddd09358-b4f6-4047-f30b-3fe17c716b98"
   },
   "outputs": [
    {
     "name": "stdout",
     "output_type": "stream",
     "text": [
      "(64, 100, 86) # (batch_size, sequence_length, vocab_size)\n"
     ]
    }
   ],
   "source": [
    "for input_example_batch, target_example_batch in dataset.take(1):\n",
    "    example_batch_predictions = model(input_example_batch)\n",
    "    print(example_batch_predictions.shape,\n",
    "          \"# (batch_size, sequence_length, vocab_size)\")"
   ]
  },
  {
   "cell_type": "markdown",
   "metadata": {
    "colab_type": "text",
    "id": "zH6mRz1azd96"
   },
   "source": [
    "In the above example the sequence length of the input is `100` but the model can be run on inputs of any length:"
   ]
  },
  {
   "cell_type": "code",
   "execution_count": 19,
   "metadata": {
    "colab": {
     "base_uri": "https://localhost:8080/",
     "height": 252
    },
    "colab_type": "code",
    "executionInfo": {
     "elapsed": 927,
     "status": "ok",
     "timestamp": 1586781406261,
     "user": {
      "displayName": "Dario Malchiodi",
      "photoUrl": "https://lh3.googleusercontent.com/a-/AOh14GiELCr-zUeJWuHT3llF5XfHH7B3tmxiSDlls6hF=s64",
      "userId": "00228704477903575446"
     },
     "user_tz": -120
    },
    "id": "TulP6td5zd97",
    "outputId": "1325efc6-1c17-4db8-bda9-5e29e311508d"
   },
   "outputs": [
    {
     "name": "stdout",
     "output_type": "stream",
     "text": [
      "Model: \"sequential\"\n",
      "_________________________________________________________________\n",
      "Layer (type)                 Output Shape              Param #   \n",
      "=================================================================\n",
      "embedding (Embedding)        (64, None, 50)            4300      \n",
      "_________________________________________________________________\n",
      "gru (GRU)                    (64, None, 512)           866304    \n",
      "_________________________________________________________________\n",
      "dense (Dense)                (64, None, 86)            44118     \n",
      "=================================================================\n",
      "Total params: 914,722\n",
      "Trainable params: 914,722\n",
      "Non-trainable params: 0\n",
      "_________________________________________________________________\n"
     ]
    }
   ],
   "source": [
    "model.summary()"
   ]
  },
  {
   "cell_type": "markdown",
   "metadata": {
    "colab_type": "text",
    "id": "jDNEW3hLzd-A"
   },
   "source": [
    "To get actual predictions from the model we need to sample from the output distribution, to get actual character indices. This distribution is defined by the logits over the character vocabulary.\n",
    "\n",
    "Note: It is important to sample from this distribution as taking the argmax of the distribution can easily get the model stuck in a loop.\n",
    "\n",
    "Try it for the first example in the batch:"
   ]
  },
  {
   "cell_type": "code",
   "execution_count": 23,
   "metadata": {
    "colab": {
     "base_uri": "https://localhost:8080/",
     "height": 265
    },
    "colab_type": "code",
    "executionInfo": {
     "elapsed": 806,
     "status": "ok",
     "timestamp": 1586781450271,
     "user": {
      "displayName": "Dario Malchiodi",
      "photoUrl": "https://lh3.googleusercontent.com/a-/AOh14GiELCr-zUeJWuHT3llF5XfHH7B3tmxiSDlls6hF=s64",
      "userId": "00228704477903575446"
     },
     "user_tz": -120
    },
    "id": "BnswLiDBzd-B",
    "outputId": "7f2bb7d2-036b-4b77-e85f-7569e0d21d9e"
   },
   "outputs": [
    {
     "data": {
      "image/png": "[encoded data removed]",
      "text/plain": [
       "<Figure size 432x288 with 1 Axes>"
      ]
     },
     "metadata": {
      "needs_background": "light",
      "tags": []
     },
     "output_type": "display_data"
    }
   ],
   "source": [
    "%matplotlib inline\n",
    "import matplotlib.pyplot as plt\n",
    "\n",
    "probs = tf.nn.softmax(example_batch_predictions[0][0])\n",
    "plt.plot(probs)\n",
    "plt.show()"
   ]
  },
  {
   "cell_type": "code",
   "execution_count": 0,
   "metadata": {
    "colab": {},
    "colab_type": "code",
    "id": "xrXGTVjhzd-F"
   },
   "outputs": [],
   "source": [
    "sampled_indices = tf.random.categorical(example_batch_predictions[0], num_samples=1)\n",
    "sampled_indices = tf.squeeze(sampled_indices,axis=-1).numpy()"
   ]
  },
  {
   "cell_type": "markdown",
   "metadata": {
    "colab_type": "text",
    "id": "LU7ff3j6zd-J"
   },
   "source": [
    "This gives us, at each timestep, a prediction of the next character index:"
   ]
  },
  {
   "cell_type": "code",
   "execution_count": 25,
   "metadata": {
    "colab": {
     "base_uri": "https://localhost:8080/",
     "height": 117
    },
    "colab_type": "code",
    "executionInfo": {
     "elapsed": 518,
     "status": "ok",
     "timestamp": 1586781468845,
     "user": {
      "displayName": "Dario Malchiodi",
      "photoUrl": "https://lh3.googleusercontent.com/a-/AOh14GiELCr-zUeJWuHT3llF5XfHH7B3tmxiSDlls6hF=s64",
      "userId": "00228704477903575446"
     },
     "user_tz": -120
    },
    "id": "YWz1PtiSzd-K",
    "outputId": "83aef95f-728c-403e-e82f-2a517849ed65"
   },
   "outputs": [
    {
     "data": {
      "text/plain": [
       "array([73, 32, 18, 38,  6, 45, 13,  0,  8,  2, 25, 84, 42, 33, 49,  5, 31,\n",
       "        7, 71, 34, 55, 21,  9, 34, 18, 17, 30, 75, 36, 43, 54, 81,  1, 74,\n",
       "       10, 74, 65, 10, 47, 80, 83, 65, 47, 18, 55, 78, 44,  7, 47, 25, 77,\n",
       "       84, 41, 67, 43, 75, 45, 50, 77, 10, 83, 21, 15, 29, 76, 19, 56, 22,\n",
       "       32,  0, 37, 21, 27,  1,  6, 39, 68,  1, 66, 63,  0, 16, 53, 19, 80,\n",
       "       55, 66, 30, 34,  8,  9, 76, 55, 74, 44, 58, 80,  5, 28, 44])"
      ]
     },
     "execution_count": 25,
     "metadata": {
      "tags": []
     },
     "output_type": "execute_result"
    }
   ],
   "source": [
    "sampled_indices"
   ]
  },
  {
   "cell_type": "markdown",
   "metadata": {
    "colab_type": "text",
    "id": "nFBXdfZRzd-V"
   },
   "source": [
    "Decode these to see the text predicted by this untrained model:"
   ]
  },
  {
   "cell_type": "code",
   "execution_count": 26,
   "metadata": {
    "colab": {
     "base_uri": "https://localhost:8080/",
     "height": 101
    },
    "colab_type": "code",
    "executionInfo": {
     "elapsed": 517,
     "status": "ok",
     "timestamp": 1586781470714,
     "user": {
      "displayName": "Dario Malchiodi",
      "photoUrl": "https://lh3.googleusercontent.com/a-/AOh14GiELCr-zUeJWuHT3llF5XfHH7B3tmxiSDlls6hF=s64",
      "userId": "00228704477903575446"
     },
     "user_tz": -120
    },
    "id": "kPrFZLCCzd-X",
    "outputId": "3a2ca672-a55d-4cfd-c0c7-5de8314880f7"
   },
   "outputs": [
    {
     "name": "stdout",
     "output_type": "stream",
     "text": [
      "Input: \n",
      " 'that it was real. She felt weak and light-headed, yet strangely resolute, as if a great weight had l'\n",
      "\n",
      "Next Char Predictions: \n",
      " 'xK9Q-X4\\n/!Dâ€UL],J.vMf?0M98IzOVeâ€˜ y1yp1Zâ€”â€œpZ9fÃ©W.ZD}â€TrVzXa}1â€œ?6H{:gAK\\nP?F -Rs qn\\n7d:â€”fqIM/0{fyWiâ€”,GW'\n"
     ]
    }
   ],
   "source": [
    "print(\"Input: \\n\", repr(\"\".join(idx2char[input_example_batch[0]])))\n",
    "print()\n",
    "print(\"Next Char Predictions: \\n\", repr(\"\".join(idx2char[sampled_indices ])))"
   ]
  },
  {
   "cell_type": "markdown",
   "metadata": {
    "colab_type": "text",
    "id": "TD_kZtoJzd-d"
   },
   "source": [
    "## Train the model <a class=\"tocSkip\" />\n",
    "\n",
    "At this point the problem can be treated as a standard classification problem. Given the previous RNN state, and the input this time step, predict the class of the next character.\n",
    "\n",
    "## Attach an optimizer, and a loss function <a class=\"tocSkip\" />\n",
    "\n",
    "The standard `tf.keras.losses.sparse_categorical_crossentropy` loss function works in this case because it is applied across the last dimension of the predictions.\n",
    "\n",
    "Because our model returns logits, we need to set the `from_logits` flag."
   ]
  },
  {
   "cell_type": "code",
   "execution_count": 27,
   "metadata": {
    "colab": {
     "base_uri": "https://localhost:8080/",
     "height": 50
    },
    "colab_type": "code",
    "executionInfo": {
     "elapsed": 593,
     "status": "ok",
     "timestamp": 1586781475825,
     "user": {
      "displayName": "Dario Malchiodi",
      "photoUrl": "https://lh3.googleusercontent.com/a-/AOh14GiELCr-zUeJWuHT3llF5XfHH7B3tmxiSDlls6hF=s64",
      "userId": "00228704477903575446"
     },
     "user_tz": -120
    },
    "id": "i5dj9vduzd-e",
    "outputId": "34016a07-3280-45f1-f77a-661b42f9f148"
   },
   "outputs": [
    {
     "name": "stdout",
     "output_type": "stream",
     "text": [
      "Prediction shape:  (64, 100, 86)  # (batch_size, sequence_length, vocab_size)\n",
      "scalar_loss:       4.454379\n"
     ]
    }
   ],
   "source": [
    "def loss(labels, logits):\n",
    "    return tf.keras.losses.sparse_categorical_crossentropy(labels, logits, from_logits=True)\n",
    "\n",
    "example_batch_loss  = loss(target_example_batch, example_batch_predictions)\n",
    "print(\"Prediction shape: \", example_batch_predictions.shape, \" # (batch_size, sequence_length, vocab_size)\")\n",
    "print(\"scalar_loss:      \", example_batch_loss.numpy().mean())"
   ]
  },
  {
   "cell_type": "markdown",
   "metadata": {
    "colab_type": "text",
    "id": "PMn5yxCZzd-j"
   },
   "source": [
    "Configure the training procedure using the `tf.keras.Model.compile` method. We'll use `tf.keras.optimizers.Adam` with default arguments and the loss function."
   ]
  },
  {
   "cell_type": "code",
   "execution_count": 0,
   "metadata": {
    "colab": {},
    "colab_type": "code",
    "id": "PstknmLkzd-k"
   },
   "outputs": [],
   "source": [
    "model.compile(optimizer='adam', loss=loss)"
   ]
  },
  {
   "cell_type": "markdown",
   "metadata": {
    "colab_type": "text",
    "id": "uYz8MwApzd-o"
   },
   "source": [
    "## Configure checkpoints <a class=\"tocSkip\" />\n",
    "\n",
    "Use a `tf.keras.callbacks.ModelCheckpoint` to ensure that checkpoints are saved during training:"
   ]
  },
  {
   "cell_type": "code",
   "execution_count": 0,
   "metadata": {
    "colab": {},
    "colab_type": "code",
    "id": "a873k3F6zd-p"
   },
   "outputs": [],
   "source": [
    "# Directory where the checkpoints will be saved\n",
    "checkpoint_dir = './training_checkpoints'\n",
    "# Name of the checkpoint files\n",
    "checkpoint_prefix = os.path.join(checkpoint_dir, \"ckpt_{epoch}\")\n",
    "\n",
    "checkpoint_callback=tf.keras.callbacks.ModelCheckpoint(\n",
    "    filepath=checkpoint_prefix,\n",
    "    save_weights_only=True)"
   ]
  },
  {
   "cell_type": "markdown",
   "metadata": {
    "colab_type": "text",
    "id": "ejvPwwQWzd-u"
   },
   "source": [
    "## Execute the training <a class=\"tocSkip\" />\n",
    "\n",
    "To keep training time reasonable, use 10 epochs to train the model. In Colab, set the runtime to GPU for faster training."
   ]
  },
  {
   "cell_type": "code",
   "execution_count": 30,
   "metadata": {
    "colab": {
     "base_uri": "https://localhost:8080/",
     "height": 1000
    },
    "colab_type": "code",
    "executionInfo": {
     "elapsed": 617446,
     "status": "ok",
     "timestamp": 1586782104659,
     "user": {
      "displayName": "Dario Malchiodi",
      "photoUrl": "https://lh3.googleusercontent.com/a-/AOh14GiELCr-zUeJWuHT3llF5XfHH7B3tmxiSDlls6hF=s64",
      "userId": "00228704477903575446"
     },
     "user_tz": -120
    },
    "id": "KHo36NPezd-2",
    "outputId": "254ea924-0bff-4acf-b5a4-a12b4872c555"
   },
   "outputs": [
    {
     "name": "stdout",
     "output_type": "stream",
     "text": [
      "Epoch 1/30\n",
      "875/875 [==============================] - 20s 23ms/step - loss: 2.0548\n",
      "Epoch 2/30\n",
      "875/875 [==============================] - 20s 23ms/step - loss: 1.4571\n",
      "Epoch 3/30\n",
      "875/875 [==============================] - 20s 23ms/step - loss: 1.3337\n",
      "Epoch 4/30\n",
      "875/875 [==============================] - 20s 23ms/step - loss: 1.2817\n",
      "Epoch 5/30\n",
      "875/875 [==============================] - 20s 23ms/step - loss: 1.2506\n",
      "Epoch 6/30\n",
      "875/875 [==============================] - 20s 23ms/step - loss: 1.2291\n",
      "Epoch 7/30\n",
      "875/875 [==============================] - 20s 23ms/step - loss: 1.2132\n",
      "Epoch 8/30\n",
      "875/875 [==============================] - 20s 23ms/step - loss: 1.2005\n",
      "Epoch 9/30\n",
      "875/875 [==============================] - 20s 23ms/step - loss: 1.1900\n",
      "Epoch 10/30\n",
      "875/875 [==============================] - 20s 23ms/step - loss: 1.1813\n",
      "Epoch 11/30\n",
      "875/875 [==============================] - 20s 23ms/step - loss: 1.1738\n",
      "Epoch 12/30\n",
      "875/875 [==============================] - 20s 23ms/step - loss: 1.1677\n",
      "Epoch 13/30\n",
      "875/875 [==============================] - 20s 23ms/step - loss: 1.1620\n",
      "Epoch 14/30\n",
      "875/875 [==============================] - 20s 23ms/step - loss: 1.1572\n",
      "Epoch 15/30\n",
      "875/875 [==============================] - 20s 23ms/step - loss: 1.1529\n",
      "Epoch 16/30\n",
      "875/875 [==============================] - 20s 23ms/step - loss: 1.1488\n",
      "Epoch 17/30\n",
      "875/875 [==============================] - 20s 23ms/step - loss: 1.1455\n",
      "Epoch 18/30\n",
      "875/875 [==============================] - 20s 23ms/step - loss: 1.1426\n",
      "Epoch 19/30\n",
      "875/875 [==============================] - 20s 23ms/step - loss: 1.1397\n",
      "Epoch 20/30\n",
      "875/875 [==============================] - 20s 23ms/step - loss: 1.1373\n",
      "Epoch 21/30\n",
      "875/875 [==============================] - 20s 23ms/step - loss: 1.1347\n",
      "Epoch 22/30\n",
      "875/875 [==============================] - 20s 23ms/step - loss: 1.1328\n",
      "Epoch 23/30\n",
      "875/875 [==============================] - 20s 23ms/step - loss: 1.1306\n",
      "Epoch 24/30\n",
      "875/875 [==============================] - 20s 22ms/step - loss: 1.1293\n",
      "Epoch 25/30\n",
      "875/875 [==============================] - 20s 23ms/step - loss: 1.1271\n",
      "Epoch 26/30\n",
      "875/875 [==============================] - 20s 22ms/step - loss: 1.1261\n",
      "Epoch 27/30\n",
      "875/875 [==============================] - 20s 22ms/step - loss: 1.1247\n",
      "Epoch 28/30\n",
      "875/875 [==============================] - 20s 23ms/step - loss: 1.1237\n",
      "Epoch 29/30\n",
      "875/875 [==============================] - 20s 23ms/step - loss: 1.1231\n",
      "Epoch 30/30\n",
      "875/875 [==============================] - 20s 22ms/step - loss: 1.1217\n"
     ]
    }
   ],
   "source": [
    "EPOCHS=30\n",
    "history = model.fit(dataset, epochs=EPOCHS, callbacks=[checkpoint_callback])"
   ]
  },
  {
   "cell_type": "markdown",
   "metadata": {
    "colab_type": "text",
    "id": "KAcTxGw4zd_E"
   },
   "source": [
    "## Generate text <a class=\"tocSkip\" />\n",
    "\n",
    "To keep this prediction step simple, use a batch size of 1.\n",
    "\n",
    "Because of the way the RNN state is passed from timestep to timestep, the model only accepts a fixed batch size once built.\n",
    "\n",
    "To run the model with a different batch_size, we need to rebuild the model and restore the weights from the checkpoint."
   ]
  },
  {
   "cell_type": "code",
   "execution_count": 31,
   "metadata": {
    "colab": {
     "base_uri": "https://localhost:8080/",
     "height": 33
    },
    "colab_type": "code",
    "executionInfo": {
     "elapsed": 627,
     "status": "ok",
     "timestamp": 1586782108826,
     "user": {
      "displayName": "Dario Malchiodi",
      "photoUrl": "https://lh3.googleusercontent.com/a-/AOh14GiELCr-zUeJWuHT3llF5XfHH7B3tmxiSDlls6hF=s64",
      "userId": "00228704477903575446"
     },
     "user_tz": -120
    },
    "id": "hv_3OM1vzd_F",
    "outputId": "34558562-56a5-42f4-90d3-cfc7b6d6a476"
   },
   "outputs": [
    {
     "data": {
      "text/plain": [
       "'./training_checkpoints/ckpt_30'"
      ]
     },
     "execution_count": 31,
     "metadata": {
      "tags": []
     },
     "output_type": "execute_result"
    }
   ],
   "source": [
    "tf.train.latest_checkpoint(checkpoint_dir)"
   ]
  },
  {
   "cell_type": "code",
   "execution_count": 0,
   "metadata": {
    "colab": {},
    "colab_type": "code",
    "id": "KznsY8AXzd_J"
   },
   "outputs": [],
   "source": [
    "model = build_model(vocab_size, embedding_dim, rnn_units, batch_size=1)\n",
    "\n",
    "model.load_weights(tf.train.latest_checkpoint(checkpoint_dir))\n",
    "\n",
    "model.build(tf.TensorShape([1, None]))"
   ]
  },
  {
   "cell_type": "code",
   "execution_count": 33,
   "metadata": {
    "colab": {
     "base_uri": "https://localhost:8080/",
     "height": 252
    },
    "colab_type": "code",
    "executionInfo": {
     "elapsed": 587,
     "status": "ok",
     "timestamp": 1586782112188,
     "user": {
      "displayName": "Dario Malchiodi",
      "photoUrl": "https://lh3.googleusercontent.com/a-/AOh14GiELCr-zUeJWuHT3llF5XfHH7B3tmxiSDlls6hF=s64",
      "userId": "00228704477903575446"
     },
     "user_tz": -120
    },
    "id": "YmXxBw9Bzd_S",
    "outputId": "39327116-d8f4-48c2-9de1-f56ddb7f1254"
   },
   "outputs": [
    {
     "name": "stdout",
     "output_type": "stream",
     "text": [
      "Model: \"sequential_1\"\n",
      "_________________________________________________________________\n",
      "Layer (type)                 Output Shape              Param #   \n",
      "=================================================================\n",
      "embedding_1 (Embedding)      (1, None, 50)             4300      \n",
      "_________________________________________________________________\n",
      "gru_1 (GRU)                  (1, None, 512)            866304    \n",
      "_________________________________________________________________\n",
      "dense_1 (Dense)              (1, None, 86)             44118     \n",
      "=================================================================\n",
      "Total params: 914,722\n",
      "Trainable params: 914,722\n",
      "Non-trainable params: 0\n",
      "_________________________________________________________________\n"
     ]
    }
   ],
   "source": [
    "model.summary()"
   ]
  },
  {
   "cell_type": "markdown",
   "metadata": {
    "colab_type": "text",
    "id": "_NKJGWnfzd_Z"
   },
   "source": [
    "### The prediction loop <a class=\"tocSkip\" />\n",
    "\n",
    "The following code block generates the text:\n",
    "\n",
    "* It Starts by choosing a start string, initializing the RNN state and setting the number of characters to generate.\n",
    "\n",
    "* Get the prediction distribution of the next character using the start string and the RNN state.\n",
    "\n",
    "* Then, use a categorical distribution to calculate the index of the predicted character. Use this predicted character as our next input to the model.\n",
    "\n",
    "* The RNN state returned by the model is fed back into the model so that it now has more context, instead than only one character. After predicting the next character, the modified RNN states are again fed back into the model, which is how it learns as it gets more context from the previously predicted characters.\n",
    "\n",
    "\n",
    "![To generate text the model's output is fed back to the input](https://github.com/tensorflow/docs/blob/master/site/en/tutorials/text/images/text_generation_sampling.png?raw=1)\n",
    "\n",
    "Looking at the generated text, you'll see the model knows when to capitalize, make paragraphs and imitates a Shakespeare-like writing vocabulary. With the small number of training epochs, it has not yet learned to form coherent sentences."
   ]
  },
  {
   "cell_type": "code",
   "execution_count": 0,
   "metadata": {
    "colab": {},
    "colab_type": "code",
    "id": "q9RFYGD2zd_a"
   },
   "outputs": [],
   "source": [
    "def generate_text(model, start_string):\n",
    "    # Evaluation step (generating text using the learned model)\n",
    "\n",
    "    # Number of characters to generate\n",
    "    num_generate = 1000\n",
    "\n",
    "    # Converting our start string to numbers (vectorizing)\n",
    "    input_eval = [char2idx[s] for s in start_string]\n",
    "    input_eval = tf.expand_dims(input_eval, 0)\n",
    "\n",
    "    # Empty string to store our results\n",
    "    text_generated = []\n",
    "\n",
    "    # Low temperatures results in more predictable text.\n",
    "    # Higher temperatures results in more surprising text.\n",
    "    # Experiment to find the best setting.\n",
    "    temperature = 1.0\n",
    "\n",
    "    # Here batch size == 1\n",
    "    model.reset_states()\n",
    "    for i in range(num_generate):\n",
    "        predictions = model(input_eval)\n",
    "        # remove the batch dimension\n",
    "        predictions = tf.squeeze(predictions, 0)\n",
    "\n",
    "        # using a categorical distribution to predict the character returned by the model\n",
    "        predictions = predictions / temperature\n",
    "        predicted_id = tf.random.categorical(predictions, num_samples=1)[-1,0].numpy()\n",
    "\n",
    "        # We pass the predicted character as the next input to the model\n",
    "        # along with the previous hidden state\n",
    "        input_eval = tf.expand_dims([predicted_id], 0)\n",
    "\n",
    "        text_generated.append(idx2char[predicted_id])\n",
    "\n",
    "    return (start_string + ''.join(text_generated))"
   ]
  },
  {
   "cell_type": "code",
   "execution_count": 39,
   "metadata": {
    "colab": {
     "base_uri": "https://localhost:8080/",
     "height": 121
    },
    "colab_type": "code",
    "executionInfo": {
     "elapsed": 5187,
     "status": "ok",
     "timestamp": 1586782212746,
     "user": {
      "displayName": "Dario Malchiodi",
      "photoUrl": "https://lh3.googleusercontent.com/a-/AOh14GiELCr-zUeJWuHT3llF5XfHH7B3tmxiSDlls6hF=s64",
      "userId": "00228704477903575446"
     },
     "user_tz": -120
    },
    "id": "BQF3-nwDzd_d",
    "outputId": "7f7dd727-3a00-4f0a-faa4-822a50e350c7"
   },
   "outputs": [
    {
     "name": "stdout",
     "output_type": "stream",
     "text": [
      "Jon Snow, and had lost it more to sleep, he turned toward the same. â€œYou have come from, little bird?â€\n",
      "\n",
      "Her brother was taking himself up and laughed for a fleet and pun to the Archer entirely? Very well, and if did you sent forty thousand Stormcrows. It wasnâ€™t the shaft leapt out the last. But if His Grace, of the Watch she took the van, well, could be supposed, but Princass and collecsmeand blades; more raised in the cavern grainsteaks, so Satins flowere would gladly make full of kings, we chas the king and a castle and my different sons, and in our crowned dug the queen steadier while resourcyactler three than those who should fight in battle. But my grandsons will be.â€ To how that?â€ cut him myself to another? Dany and Ser Jorah Mormont and Meera, smallclothes of salt winds.\n",
      "\n",
      "A sellsword most of the dead men, as soon as he walked about, watching it out. Be the dagger. I drove the sunlight rode a tumble of feat in pending his slow and left down nights, a scrolls shimmered forward, gratefully\n"
     ]
    }
   ],
   "source": [
    "print(generate_text(model, start_string=u\"Jon Snow\"))"
   ]
  },
  {
   "cell_type": "code",
   "execution_count": 40,
   "metadata": {
    "colab": {
     "base_uri": "https://localhost:8080/",
     "height": 154
    },
    "colab_type": "code",
    "executionInfo": {
     "elapsed": 5119,
     "status": "ok",
     "timestamp": 1586782235460,
     "user": {
      "displayName": "Dario Malchiodi",
      "photoUrl": "https://lh3.googleusercontent.com/a-/AOh14GiELCr-zUeJWuHT3llF5XfHH7B3tmxiSDlls6hF=s64",
      "userId": "00228704477903575446"
     },
     "user_tz": -120
    },
    "id": "0dIgYRoWzd_i",
    "outputId": "113230be-84ac-450d-9871-519623100cd8"
   },
   "outputs": [
    {
     "name": "stdout",
     "output_type": "stream",
     "text": [
      "Jon Snow caught them, but aftarkled an end.\n",
      "\n",
      "When the lance behind her dragons of sullen eyes. â€œI dreamt of ages Hand. Believes is the things in his tongue of you,â€ Lord Balon spent thunder cold sweet ceiling. He gave her a wall as well. Jojen shook his hands on the mantleheand down. â€œI havenâ€™t seen how he has intideened. Father was find me. â€œWill you near four,â€ Edd â€œGargerselcle.â€\n",
      "\n",
      "â€œThe ellemanded with more patr, picking around the sticky strip, worse people at Symon. Anguy and all he could see where he seek any gift for I offered to face them, ill,â€ said Jon. â€œMe another suppore Ditthers in the well. It is nothing. But we could carry you neck and sa she felt as this.â€ Tyrion reminded a finger. â€œFree of eight you do despice thems, to make your mammity were too lessee the old gods they do not know when Penest refuse to deliver against kingâ€™s mercyâ€¦ Varys, Walderâ€™s door to Ser Aemon. Fordins he tells it kindly.\n",
      "\n",
      "â€œOur earth,â€ said Home, with most dorticles, Arbor in the Fool said the teachent m\n"
     ]
    }
   ],
   "source": [
    "print(generate_text(model, start_string=u\"Jon Snow\"))"
   ]
  },
  {
   "cell_type": "markdown",
   "metadata": {
    "colab_type": "text",
    "id": "nxGDCpo2zd_7"
   },
   "source": [
    "# Example: hallucinated Shakespeare <a class=\"tocSkip\" />\n",
    "\n",
    "<img src=\"https://malchiodi.di.unimi.it/archive/deep-learning/img/rnn/shakespeare-0.png\" style=\"width: 70%;\">\n",
    "<img src=\"https://malchiodi.di.unimi.it/archive/deep-learning/img/rnn/shakespeare-1.png\" style=\"width: 70%;\">\n",
    "<img src=\"https://malchiodi.di.unimi.it/archive/deep-learning/img/rnn/shakespeare-2.png\" style=\"width: 70%;\">\n",
    "<img src=\"https://malchiodi.di.unimi.it/archive/deep-learning/img/rnn/shakespeare-3.png\" style=\"width: 70%;\">\n",
    "<img src=\"https://malchiodi.di.unimi.it/archive/deep-learning/img/rnn/shakespeare-4.png\" style=\"width: 70%;\">"
   ]
  },
  {
   "cell_type": "markdown",
   "metadata": {
    "colab_type": "text",
    "id": "W80HM_3Szd_7"
   },
   "source": [
    "# Example: Tensorflow <a class=\"tocSkip\" />\n",
    "\n",
    "<img src=\"https://malchiodi.di.unimi.it/archive/deep-learning/img/rnn/python-0.png\" style=\"width: 70%;\">\n",
    "<img src=\"https://malchiodi.di.unimi.it/archive/deep-learning/img/rnn/python-1.png\" style=\"width: 70%;\">\n",
    "<img src=\"https://malchiodi.di.unimi.it/archive/deep-learning/img/rnn/python-2.png\" style=\"width: 70%;\">\n",
    "<img src=\"https://malchiodi.di.unimi.it/archive/deep-learning/img/rnn/python-3.png\" style=\"width: 70%;\">"
   ]
  },
  {
   "cell_type": "markdown",
   "metadata": {
    "colab_type": "text",
    "id": "rnU3rZ8tzd_8"
   },
   "source": [
    "# Example: LaTeX <a class=\"tocSkip\" />\n",
    "\n",
    "<img src=\"https://malchiodi.di.unimi.it/archive/deep-learning/img/rnn/latex.png\" style=\"width: 70%;\">"
   ]
  },
  {
   "cell_type": "markdown",
   "metadata": {
    "colab_type": "text",
    "id": "A3O32tNgzd_9"
   },
   "source": [
    "# Application: automatic translation <a class=\"tocSkip\" />\n",
    "\n",
    "<img src=\"https://malchiodi.di.unimi.it/archive/deep-learning/img/rnn/translation.png\" style=\"width: 70%;\" >"
   ]
  },
  {
   "cell_type": "markdown",
   "metadata": {
    "colab_type": "text",
    "id": "N_t4HhXgzd_-"
   },
   "source": [
    "# Application: captioning <a class=\"tocSkip\" />\n",
    "\n",
    "<img src=\"https://malchiodi.di.unimi.it/archive/deep-learning/img/rnn/captioning-0.png\" style=\"width: 70%;\">\n",
    "<img src=\"https://malchiodi.di.unimi.it/archive/deep-learning/img/rnn/captioning-1.png\" style=\"width: 70%;\">\n",
    "<img src=\"https://malchiodi.di.unimi.it/archive/deep-learning/img/rnn/captioning-2.png\" style=\"width: 70%;\">"
   ]
  },
  {
   "cell_type": "code",
   "execution_count": 0,
   "metadata": {
    "colab": {},
    "colab_type": "code",
    "id": "8ocUNL69zeAA"
   },
   "outputs": [],
   "source": []
  }
 ],
 "metadata": {
  "accelerator": "GPU",
  "author": "mes",
  "colab": {
   "collapsed_sections": [
    "X6l3BzSDzd83"
   ],
   "name": "recurrent-neural-networks.ipynb",
   "provenance": []
  },
  "kernelspec": {
   "display_name": "Python 3",
   "language": "python",
   "name": "python3"
  },
  "language_info": {
   "codemirror_mode": {
    "name": "ipython",
    "version": 3
   },
   "file_extension": ".py",
   "mimetype": "text/x-python",
   "name": "python",
   "nbconvert_exporter": "python",
   "pygments_lexer": "ipython3",
   "version": "3.7.5"
  },
  "latex_envs": {
   "LaTeX_envs_menu_present": true,
   "autoclose": true,
   "autocomplete": true,
   "bibliofile": "biblio.bib",
   "cite_by": "apalike",
   "current_citInitial": 1,
   "eqLabelWithNumbers": true,
   "eqNumInitial": 1,
   "hotkeys": {
    "equation": "Ctrl-E",
    "itemize": "Ctrl-I"
   },
   "labels_anchors": false,
   "latex_user_defs": false,
   "report_style_numbering": true,
   "user_envs_cfg": false
  },
  "toc": {
   "base_numbering": 1,
   "nav_menu": {},
   "number_sections": true,
   "sideBar": false,
   "skip_h1_title": false,
   "title_cell": "Table of Contents",
   "title_sidebar": "Contents",
   "toc_cell": false,
   "toc_position": {},
   "toc_section_display": true,
   "toc_window_display": false
  }
 },
 "nbformat": 4,
 "nbformat_minor": 1
}
