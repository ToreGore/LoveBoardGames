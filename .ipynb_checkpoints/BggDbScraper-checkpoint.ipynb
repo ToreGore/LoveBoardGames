{
 "cells": [
  {
   "cell_type": "code",
   "execution_count": 43,
   "metadata": {},
   "outputs": [],
   "source": [
    "import os\n",
    "import time\n",
    "import random\n",
    "import pandas as pnd\n",
    "import BggDbGetter as BDG\n",
    "from tqdm.notebook import tqdm\n",
    "from boardgamegeek import BoardGameGeek\n",
    "from boardgamegeek.exceptions import BoardGameGeekAPIError\n",
    "from boardgamegeek.exceptions import BoardGameGeekAPIRetryError\n"
   ]
  },
  {
   "cell_type": "markdown",
   "metadata": {},
   "source": [
    "### How does it work?\n",
    "This class scrapes the pages found in BGG_latest.csv via the official API implemented into boardgamegeek library. <br>\n",
    "It then proceeds to save them into another csv file called by default BGG_sampled.csv. <br>\n",
    "The name of the csv to be created, the year range and the sampling rate can be specified.\n"
   ]
  },
  {
   "cell_type": "code",
   "execution_count": 46,
   "metadata": {},
   "outputs": [],
   "source": [
    "class BggDbScraper:\n",
    "    def __init__(self):\n",
    "        self._csv = \"BGG_latest.csv\"\n",
    "        self._bgg = BoardGameGeek()\n",
    "        self._errors = []\n",
    "    def db_scrape(self, date=\"2020-05-23\", timeframe_start=2000, timeframe_end=2020, to_be_sampled=False, sampling_rate=1, final_name=\"BGG_sampled.csv\"):\n",
    "        if BDG.BggDbGetter().db_write(date):\n",
    "            #BGG_latest.csv Dataframe reading and eventual sampling\n",
    "            df = pnd.read_csv(\"BGG_latest.csv\")\n",
    "            df = df.loc[df[\"Year\"].isin(range(timeframe_start, timeframe_end))]\n",
    "            if to_be_sampled:\n",
    "                df = df.sample(frac=sampling_rate).reset_index(drop=True)\n",
    "            g = self._bgg.game(name=None, game_id=df.iloc[0][\"ID\"])\n",
    "            \n",
    "            cols = list(g.__dict__[\"_data\"])\n",
    "            new_df = pnd.DataFrame(columns = cols)\n",
    "            new_df = new_df.drop([\"thumbnail\", \"image\", \"expansion\", \"implementations\", \"expansions\", \"expands\",\\\n",
    "                                  \"alternative_names\", \"trading\", \"wanting\", \"wishing\", \"numcomments\"], axis=1)            \n",
    "            for row in tqdm(list(df.iterrows())):\n",
    "                row_id = row[1][\"ID\"]\n",
    "                new_row = {}\n",
    "                try:\n",
    "                    g = self._bgg.game(name=None, game_id=row_id)\n",
    "                    for k, v in g.__dict__[\"_data\"].items():\n",
    "                        if k in new_df.columns:\n",
    "                            new_row[k] = v                            \n",
    "                    new_df = new_df.append(new_row, ignore_index=True)\n",
    "                except (BoardGameGeekAPIError, BoardGameGeekAPIRetryError) as e:\n",
    "                    print(\"Error, sleeping!\")\n",
    "                    time.sleep(0.5)\n",
    "                    print(\"Error on ID: {0}\".format(row_id))\n",
    "                    self._errors.append(row_id)\n",
    "                    while len(self._errors) > 0:\n",
    "                        print(\"I am in while!\")\n",
    "                        err = self._errors.pop(0)\n",
    "                        print(\"Err ID: \", err)\n",
    "                        try:\n",
    "                            print(\"I am in try n°2\")\n",
    "                            g = self._bgg.game(name=None, game_id=err)\n",
    "                            for k, v in g.__dict__[\"_data\"].items():\n",
    "                                if k in new_df.columns:\n",
    "                                    new_row[k] = v\n",
    "                                new_df = new_df.append(new_row, ignore_index=True)\n",
    "                        except (BoardGameGeekAPIError, BoardGameGeekAPIRetryError) as e2:\n",
    "                            self._errors.append(err)\n",
    "                            pass\n",
    "                    pass\n",
    "                #time.sleep(0.5)\n",
    "            #new_df.drop_duplicates(subset=\"id\", keep=False, inplace=True)\n",
    "            new_df.to_csv(final_name)\n",
    "        else:\n",
    "            raise Exception(\"Error in BGG DB retrieval. Maybe you passed a non-existent date?\")"
   ]
  },
  {
   "cell_type": "markdown",
   "metadata": {},
   "source": [
    "#(list(df_sample.iterrows())[0][1][\"ID\"])\n",
    "prova = BggDbScraper()\n",
    "prova.db_scrape()\n"
   ]
  },
  {
   "cell_type": "markdown",
   "metadata": {},
   "source": [
    "### Reading of latest dataset"
   ]
  },
  {
   "cell_type": "markdown",
   "metadata": {},
   "source": [
    "df = pnd.read_csv(\"BGG_latest.csv\")\n",
    "df.shape"
   ]
  },
  {
   "cell_type": "markdown",
   "metadata": {},
   "source": [
    "### Selecting timeframe of 20 years to be analyzed"
   ]
  },
  {
   "cell_type": "markdown",
   "metadata": {},
   "source": [
    "df = df.loc[df[\"Year\"].isin(range(2000, 2020))]\n",
    "for col in df.columns:\n",
    "    print(col)\n",
    "print(\"\\nShape: \", df.shape)\n",
    "df.loc[df[\"ID\"] == 34084]\n",
    "#df_sample = df.sample(frac=0.6).reset_index(drop=True)\n",
    "#df_sample = df"
   ]
  },
  {
   "cell_type": "markdown",
   "metadata": {},
   "source": [
    "### Construction of new dataframe with notable columns\n",
    "<ul>\n",
    "\t<li>Eventual implementation of \"Error_row\", a list to correct the errors in retrieval phase</li>\n",
    "</ul>"
   ]
  },
  {
   "cell_type": "markdown",
   "metadata": {},
   "source": [
    "bgg = BoardGameGeek()\n",
    "g = bgg.game(name=None, game_id=34084)"
   ]
  },
  {
   "cell_type": "markdown",
   "metadata": {},
   "source": [
    "cols = list(g.__dict__[\"_data\"])\n",
    "new_df = pnd.DataFrame(columns = cols)\n",
    "new_df = new_df.drop([\"thumbnail\", \"image\", \"expansion\", \"implementations\", \"expansions\", \"expands\", \n",
    "             \"alternative_names\", \"trading\", \"wanting\", \"wishing\", \"numcomments\"], axis=1)\n",
    "error_row = []\n",
    "#new_df"
   ]
  },
  {
   "cell_type": "markdown",
   "metadata": {},
   "source": [
    "#### Retrieval of row informations via API request\n",
    "<ul>\n",
    "    <li>Some errors in retrieval phase pop up. Have to fix them, may do it in finale phase.</li>\n",
    "    <li>Could clean it, may do it later.</li>\n",
    "</ul>"
   ]
  },
  {
   "cell_type": "markdown",
   "metadata": {},
   "source": [
    "for index, row in tqdm(list(df_sample.iterrows())):\n",
    "    try:\n",
    "        g = bgg.game(name=None, game_id=row[\"ID\"])\n",
    "        new_row = {}\n",
    "        for k, v in g.__dict__[\"_data\"].items():\n",
    "            if k in new_df.columns:\n",
    "                #print(\"{0}: {1}\".format(k, v))\n",
    "                new_row[k] = v\n",
    "        new_df = new_df.append(new_row, ignore_index=True)\n",
    "    except:\n",
    "        print(\"Error on iteration row {0}\".format(index))\n",
    "        #error_row.append(df_sample.iloc[index])\n",
    "        g = bgg.game(name=None, game_id=row[\"ID\"])\n",
    "        new_row = {}\n",
    "        for k, v in g.__dict__[\"_data\"].items():\n",
    "            if k in new_df.columns:\n",
    "                #print(\"{0}: {1}\".format(k, v))\n",
    "                new_row[k] = v\n",
    "        new_df = new_df.append(new_row, ignore_index=True)\n",
    "        pass\n",
    "    time.sleep(0.5)"
   ]
  },
  {
   "cell_type": "markdown",
   "metadata": {},
   "source": [
    "##### Correct retriever, modified in upper cell in order to try something more complex eventually. Make it \"code\" to try it\n",
    "\n",
    "for index, row in tqdm(list(df_sample.iterrows())):\n",
    "    try:\n",
    "        g = bgg.game(name=None, game_id=row[\"ID\"])\n",
    "        new_row = {}\n",
    "        for k, v in g.__dict__[\"_data\"].items():\n",
    "            if k in new_df.columns:\n",
    "                #print(\"{0}: {1}\".format(k, v))\n",
    "                new_row[k] = v\n",
    "        new_df = new_df.append(new_row, ignore_index=True)\n",
    "    except:\n",
    "        print(\"Error on iteration row {0}\".format(index))\n",
    "        error_row.append(df_sample.iloc[index])\n",
    "        pass\n",
    "    time.sleep(0.5)"
   ]
  },
  {
   "cell_type": "markdown",
   "metadata": {},
   "source": [
    "##### Stub error solver, make it \"code\" to try it\n",
    "while len(error_row) > 0:\n",
    "    try:\n",
    "        g = bgg.game(name=None, game_id=error_row[i])\n",
    "        new_row = {}\n",
    "        for k, v in g.__dict__[\"_data\"].items():\n",
    "            if k in new_df.columns:\n",
    "                new_row[k] = v\n",
    "        new_df = new_df.append(new_row, ignore_index=True)\n",
    "        error_row.pop(0)\n",
    "    except:\n",
    "        #print(\"Error on iteration row {0}\".format(index))\n",
    "        error_row.append(df_sample.iloc[index])\n",
    "        pass"
   ]
  },
  {
   "cell_type": "markdown",
   "metadata": {},
   "source": [
    "##### Dataframe cleaner from duplicates and saving to csv"
   ]
  },
  {
   "cell_type": "markdown",
   "metadata": {},
   "source": [
    "new_df.drop_duplicates(subset=\"id\", keep=False, inplace=True)\n",
    "new_df.to_csv(\"./BGG_sampled.csv\")"
   ]
  },
  {
   "cell_type": "markdown",
   "metadata": {},
   "source": [
    "## TODO: Make a python class in order to handle all this operation cleanly"
   ]
  }
 ],
 "metadata": {
  "kernelspec": {
   "display_name": "Python 3",
   "language": "python",
   "name": "python3"
  },
  "language_info": {
   "codemirror_mode": {
    "name": "ipython",
    "version": 3
   },
   "file_extension": ".py",
   "mimetype": "text/x-python",
   "name": "python",
   "nbconvert_exporter": "python",
   "pygments_lexer": "ipython3",
   "version": "3.7.5"
  }
 },
 "nbformat": 4,
 "nbformat_minor": 4
}
