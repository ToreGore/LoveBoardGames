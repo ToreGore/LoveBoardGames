{
 "cells": [
  {
   "cell_type": "code",
   "execution_count": 1,
   "metadata": {},
   "outputs": [
    {
     "name": "stdout",
     "output_type": "stream",
     "text": [
      "importing Jupyter notebook from BggDbGetter.ipynb\n"
     ]
    }
   ],
   "source": [
    "import os\n",
    "import time\n",
    "import random\n",
    "import pprint\n",
    "import import_ipynb\n",
    "import pandas as pnd\n",
    "import BggDbGetter as BDG\n",
    "from langdetect import detect\n",
    "from tqdm.notebook import tqdm\n",
    "from boardgamegeek import BoardGameGeek\n",
    "from boardgamegeek.exceptions import BoardGameGeekAPIError\n",
    "from boardgamegeek.exceptions import BoardGameGeekAPIRetryError"
   ]
  },
  {
   "cell_type": "markdown",
   "metadata": {},
   "source": [
    "### How does it work?\n",
    "This class scrapes the pages found in BGG_latest.csv via the official API implemented into boardgamegeek library. <br>\n",
    "It then proceeds to save them into another csv file called by default BGG_sampled.csv. <br>\n",
    "The name of the csv to be created, the year range and the sampling rate can be specified.\n"
   ]
  },
  {
   "cell_type": "code",
   "execution_count": 3,
   "metadata": {},
   "outputs": [],
   "source": [
    "class BggDbScraper:\n",
    "    def __init__(self):\n",
    "        self._csv = \"BGG_latest.csv\"\n",
    "        self._bgg = BoardGameGeek()\n",
    "        self._errors = []\n",
    "    def db_scrape(self, date=\"2020-05-23\", timeframe_start=2000, timeframe_end=2020, to_be_sampled=False, sampling_rate=1, final_name=\"BGG_sampled.csv\"):\n",
    "        if BDG.BggDbGetter().db_write(date):\n",
    "            #BGG_latest.csv Dataframe reading and eventual sampling\n",
    "            df = pnd.read_csv(\"BGG_latest.csv\")\n",
    "            df = df.loc[df[\"Year\"].isin(range(timeframe_start, timeframe_end))]\n",
    "            if to_be_sampled:\n",
    "                df = df.sample(frac=sampling_rate).reset_index(drop=True)\n",
    "            g = self._bgg.game(name=None, game_id=df.iloc[0][\"ID\"])\n",
    "            \n",
    "            cols = list(g.__dict__[\"_data\"])\n",
    "            new_df = pnd.DataFrame(columns = [\"boardgame_rank\"] + cols)\n",
    "            new_df = new_df.drop([\"thumbnail\", \"image\", \"expansion\", \"implementations\", \"expansions\", \"expands\",\\\n",
    "                                  \"alternative_names\", \"trading\", \"wanting\", \"wishing\", \"median\", \"numcomments\"], axis=1)            \n",
    "            for row in tqdm(list(df.iterrows())):\n",
    "                row_id = row[1][\"ID\"]\n",
    "                new_row = {}\n",
    "                try:\n",
    "                    g = self._bgg.game(name=None, game_id=row_id)\n",
    "                    new_row[\"boardgame_rank\"] = g.__dict__[\"boardgame_rank\"]\n",
    "                    for k, v in g.__dict__[\"_data\"].items():\n",
    "                        if k == \"id\":\n",
    "                            new_row[k] = int(v)\n",
    "                        else:\n",
    "                            if k in new_df.columns:\n",
    "                                new_row[k] = v                            \n",
    "                    new_df = new_df.append(new_row, ignore_index=True)\n",
    "                except (BoardGameGeekAPIError, BoardGameGeekAPIRetryError) as e:\n",
    "                    time.sleep(0.5)\n",
    "                    print(\"Error on ID: {0}\".format(row_id))\n",
    "                    self._errors.append(row_id)\n",
    "                    while len(self._errors) > 0:\n",
    "                        err = self._errors.pop(0)\n",
    "                        try:\n",
    "                            g = self._bgg.game(name=None, game_id=err)\n",
    "                            new_row[\"boardgame_rank\"] = g.__dict__[\"boardgame_rank\"]\n",
    "                            for k, v in g.__dict__[\"_data\"].items():\n",
    "                                if k == \"id\":\n",
    "                                    new_row[k] = int(v)\n",
    "                                else:\n",
    "                                    if k in new_df.columns:\n",
    "                                        new_row[k] = v \n",
    "                            new_df = new_df.append(new_row, ignore_index=True)\n",
    "                        except (BoardGameGeekAPIError, BoardGameGeekAPIRetryError) as e2:\n",
    "                            self._errors.append(err)\n",
    "                            pass\n",
    "                    pass\n",
    "                #pp.pprint(new_row)\n",
    "            new_df.drop_duplicates(subset=\"id\", keep=\"first\", inplace=True)\n",
    "            #new_df.drop(columns = [\"Unnamed: 0\", \"Unnamed: 0.1\"])\n",
    "            new_df.to_csv(final_name)\n",
    "            return new_df\n",
    "        else:\n",
    "            raise Exception(\"Error in BGG DB retrieval. Maybe you passed a non-existent date?\")"
   ]
  },
  {
   "cell_type": "markdown",
   "metadata": {},
   "source": [
    "g = BoardGameGeek().game(name=None, game_id=33498)\n",
    "g.__dict__"
   ]
  }
 ],
 "metadata": {
  "kernelspec": {
   "display_name": "Python 3",
   "language": "python",
   "name": "python3"
  },
  "language_info": {
   "codemirror_mode": {
    "name": "ipython",
    "version": 3
   },
   "file_extension": ".py",
   "mimetype": "text/x-python",
   "name": "python",
   "nbconvert_exporter": "python",
   "pygments_lexer": "ipython3",
   "version": "3.7.5"
  }
 },
 "nbformat": 4,
 "nbformat_minor": 4
}
