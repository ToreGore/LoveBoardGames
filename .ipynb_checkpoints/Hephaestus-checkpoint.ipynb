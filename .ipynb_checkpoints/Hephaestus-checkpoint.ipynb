{
 "cells": [
  {
   "cell_type": "code",
   "execution_count": 1,
   "metadata": {},
   "outputs": [
    {
     "name": "stderr",
     "output_type": "stream",
     "text": [
      "Using TensorFlow backend.\n"
     ]
    }
   ],
   "source": [
    "import extra_keras_metrics\n",
    "import keras.utils\n",
    "import numpy as np\n",
    "import tensorflow as tf\n",
    "from keras import backend as B\n",
    "from keras.layers import BatchNormalization, Dense\n",
    "from keras.models import Sequential\n",
    "from keras_tqdm import TQDMNotebookCallback as ktqdm\n",
    "from matplotlib import pyplot as plt\n",
    "from plot_keras_history import plot_history\n",
    "from sklearn.model_selection import train_test_split\n",
    "from sklearn.utils import shuffle\n",
    "from tensorflow import keras\n",
    "from tensorflow.keras import layers\n",
    "from keras.utils.vis_utils import plot_model\n",
    "#from tensorflow.python.keras.metrics import Metric\n",
    "from tqdm import tqdm_notebook as tqdm\n",
    "\n",
    "from tensorflow.python.keras.metrics import AUC\n",
    "from tensorflow.python.keras.metrics import Accuracy\n",
    "from tensorflow.python.keras.metrics import BinaryAccuracy\n",
    "from tensorflow.python.keras.metrics import BinaryCrossentropy\n",
    "from tensorflow.python.keras.metrics import CategoricalAccuracy\n",
    "from tensorflow.python.keras.metrics import CategoricalCrossentropy\n",
    "from tensorflow.python.keras.metrics import CategoricalHinge\n",
    "from tensorflow.python.keras.metrics import CosineSimilarity\n",
    "from tensorflow.python.keras.metrics import FalseNegatives\n",
    "from tensorflow.python.keras.metrics import FalsePositives\n",
    "from tensorflow.python.keras.metrics import Hinge\n",
    "from tensorflow.python.keras.metrics import KLDivergence\n",
    "from tensorflow.python.keras.metrics import LogCoshError\n",
    "from tensorflow.python.keras.metrics import Mean\n",
    "from tensorflow.python.keras.metrics import MeanAbsoluteError\n",
    "from tensorflow.python.keras.metrics import MeanAbsolutePercentageError\n",
    "from tensorflow.python.keras.metrics import MeanIoU\n",
    "from tensorflow.python.keras.metrics import MeanRelativeError\n",
    "from tensorflow.python.keras.metrics import MeanSquaredError\n",
    "from tensorflow.python.keras.metrics import MeanSquaredLogarithmicError\n",
    "from tensorflow.python.keras.metrics import MeanTensor\n",
    "from tensorflow.python.keras.metrics import Metric\n",
    "from tensorflow.python.keras.metrics import Poisson\n",
    "from tensorflow.python.keras.metrics import Precision\n",
    "from tensorflow.python.keras.metrics import PrecisionAtRecall\n",
    "from tensorflow.python.keras.metrics import Recall\n",
    "from tensorflow.python.keras.metrics import RecallAtPrecision\n",
    "from tensorflow.python.keras.metrics import RootMeanSquaredError\n",
    "from tensorflow.python.keras.metrics import SensitivityAtSpecificity\n",
    "from tensorflow.python.keras.metrics import SparseCategoricalAccuracy\n",
    "from tensorflow.python.keras.metrics import SparseCategoricalCrossentropy\n",
    "from tensorflow.python.keras.metrics import SparseTopKCategoricalAccuracy\n",
    "from tensorflow.python.keras.metrics import SpecificityAtSensitivity\n",
    "from tensorflow.python.keras.metrics import SquaredHinge\n",
    "from tensorflow.python.keras.metrics import Sum\n",
    "from tensorflow.python.keras.metrics import TopKCategoricalAccuracy\n",
    "from tensorflow.python.keras.metrics import TrueNegatives\n",
    "from tensorflow.python.keras.metrics import TruePositives\n",
    "from tensorflow.python.keras.metrics import binary_accuracy\n",
    "from tensorflow.python.keras.metrics import categorical_accuracy\n",
    "from tensorflow.python.keras.metrics import deserialize\n",
    "from tensorflow.python.keras.metrics import get\n",
    "from tensorflow.python.keras.metrics import serialize\n",
    "from tensorflow.python.keras.metrics import sparse_categorical_accuracy\n",
    "from tensorflow.python.keras.metrics import sparse_top_k_categorical_accuracy\n",
    "from tensorflow.python.keras.metrics import top_k_categorical_accuracy"
   ]
  },
  {
   "cell_type": "code",
   "execution_count": 2,
   "metadata": {},
   "outputs": [],
   "source": [
    "class Hephaestus:\n",
    "    def __init__(self, model, x, y):\n",
    "        self._model = model\n",
    "        self.x = x\n",
    "        self.y = y\n",
    "        self.histories = []\n",
    "    def kfold_x_validation(self, epochs = 100, batch = 64, shuffle = True, folds = 5):\n",
    "        test_len = int(len(self.x) / folds)\n",
    "        current_train_x, current_train_y = self.x, self.y\n",
    "        current_test_x, current_test_y = [], []\n",
    "        for i in tqdm(range(folds)):\n",
    "            folded_model = self._model\n",
    "            if folds == 1:\n",
    "                current_test_x, current_test_y = current_train_x[:int(test_len*0.25)], current_train_y[:int(test_len*0.25)]\n",
    "                current_train_x, current_train_y = current_train_x[int(test_len*0.25):], current_train_y[int(test_len*0.25):]\n",
    "            else:\n",
    "                current_test_x, current_test_y = current_train_x[:test_len], current_train_y[:test_len]\n",
    "                current_train_x, current_train_y = current_train_x[test_len:], current_train_y[test_len:]\n",
    "            history = folded_model.fit(np.array(current_train_x),\n",
    "                      np.array(current_train_y),\n",
    "                      epochs=epochs,\n",
    "                      shuffle=shuffle,\n",
    "                      batch_size=batch,\n",
    "                      verbose=0,\n",
    "                      callbacks=[ktqdm(metric_format=\"{name}: {value:e}\")],\n",
    "                      validation_data=(np.array(current_test_x), np.array(current_test_y))\n",
    "                     )\n",
    "            self.histories.append(history)\n",
    "            current_train_x += current_test_x\n",
    "            current_train_y += current_test_y\n",
    "            current_test_x, current_test_y = [], []\n",
    "        return self.histories"
   ]
  },
  {
   "cell_type": "code",
   "execution_count": null,
   "metadata": {},
   "outputs": [],
   "source": []
  },
  {
   "cell_type": "code",
   "execution_count": null,
   "metadata": {},
   "outputs": [],
   "source": []
  }
 ],
 "metadata": {
  "kernelspec": {
   "display_name": "Python 3",
   "language": "python",
   "name": "python3"
  },
  "language_info": {
   "codemirror_mode": {
    "name": "ipython",
    "version": 3
   },
   "file_extension": ".py",
   "mimetype": "text/x-python",
   "name": "python",
   "nbconvert_exporter": "python",
   "pygments_lexer": "ipython3",
   "version": "3.7.5"
  }
 },
 "nbformat": 4,
 "nbformat_minor": 4
}
