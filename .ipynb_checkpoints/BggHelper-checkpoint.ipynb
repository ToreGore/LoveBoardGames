{
 "cells": [
  {
   "cell_type": "code",
   "execution_count": 1,
   "metadata": {},
   "outputs": [],
   "source": [
    "import BggDbGetter as BDG\n",
    "import BggDbScraper as BDS"
   ]
  },
  {
   "cell_type": "code",
   "execution_count": 10,
   "metadata": {},
   "outputs": [],
   "source": [
    "class BggHelper:\n",
    "    def __init__(self):\n",
    "        self._getter = BDG.BggDbGetter()\n",
    "        self._scraper = BDS.BggDbScraper()\n",
    "    def bgg_start(self, get=False, scrape=False, get_date=\"2020-05-23\", tf_start=2000, tf_end=2020, to_sample=False, sample_rate=1, final_name=\"BGG_sampled.csv\"):\n",
    "        if get:\n",
    "            self._getter.db_write(get_date)\n",
    "        if scrape:\n",
    "            self._scraper.db_scrape(get_date, tf_start, tf_end, to_sample, sample_rate, final_name)\n",
    "        if get == False and scrape == False:\n",
    "            return \"You choose to not have a help\""
   ]
  },
  {
   "cell_type": "code",
   "execution_count": null,
   "metadata": {},
   "outputs": [],
   "source": []
  }
 ],
 "metadata": {
  "kernelspec": {
   "display_name": "Python 3",
   "language": "python",
   "name": "python3"
  },
  "language_info": {
   "codemirror_mode": {
    "name": "ipython",
    "version": 3
   },
   "file_extension": ".py",
   "mimetype": "text/x-python",
   "name": "python",
   "nbconvert_exporter": "python",
   "pygments_lexer": "ipython3",
   "version": "3.7.5"
  }
 },
 "nbformat": 4,
 "nbformat_minor": 4
}
