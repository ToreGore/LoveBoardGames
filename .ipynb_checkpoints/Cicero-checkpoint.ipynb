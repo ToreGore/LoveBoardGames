{
 "cells": [
  {
   "cell_type": "code",
   "execution_count": 1,
   "metadata": {},
   "outputs": [
    {
     "name": "stdout",
     "output_type": "stream",
     "text": [
      "importing Jupyter notebook from BggHelper.ipynb\n",
      "importing Jupyter notebook from BggDbGetter.ipynb\n",
      "importing Jupyter notebook from BggDbScraper.ipynb\n"
     ]
    }
   ],
   "source": [
    "import nltk\n",
    "import string\n",
    "import import_ipynb\n",
    "import pandas as pnd\n",
    "import BggHelper as BH\n",
    "import BggDbGetter as BDG\n",
    "import BggDbScraper as BDS\n",
    "from textblob import TextBlob\n",
    "from langdetect import detect\n",
    "from tqdm.notebook import tqdm\n",
    "from iso_language_codes import *\n",
    "from nltk.stem import LancasterStemmer, WordNetLemmatizer\n",
    "from nltk.corpus import stopwords\n",
    "from nltk.tokenize import word_tokenize\n",
    "from boardgamegeek import BoardGameGeek"
   ]
  },
  {
   "cell_type": "code",
   "execution_count": 3,
   "metadata": {},
   "outputs": [],
   "source": [
    "class Cicero:\n",
    "    def __init__(self, glossa):\n",
    "        self._glossa = glossa\n",
    "    def clean_stemming(self, field):\n",
    "        self._glossa = ((self._glossa.useless_langs_remover(field)).stopwords_removal(field)).stemming(field)\n",
    "        return self._glossa.get_df()\n",
    "    def clean_lemming(self, field):\n",
    "        self._glossa = ((self._glossa.useless_langs_remover(field)).stopwords_removal(field)).lemming(field)\n",
    "        return self._glossa.get_df()\n",
    "    def stemma_lemma(self, field):\n",
    "        self._glossa = ((self._glossa.useless_langs_remover(field)).stopwords_removal(field)).lemming(field).stemming(field)\n",
    "        return self._glossa.get_df()"
   ]
  },
  {
   "cell_type": "code",
   "execution_count": null,
   "metadata": {},
   "outputs": [],
   "source": []
  }
 ],
 "metadata": {
  "kernelspec": {
   "display_name": "Python 3",
   "language": "python",
   "name": "python3"
  },
  "language_info": {
   "codemirror_mode": {
    "name": "ipython",
    "version": 3
   },
   "file_extension": ".py",
   "mimetype": "text/x-python",
   "name": "python",
   "nbconvert_exporter": "python",
   "pygments_lexer": "ipython3",
   "version": "3.7.5"
  }
 },
 "nbformat": 4,
 "nbformat_minor": 4
}
