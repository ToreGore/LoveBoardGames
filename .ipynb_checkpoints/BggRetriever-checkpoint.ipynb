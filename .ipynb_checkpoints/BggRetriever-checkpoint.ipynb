{
 "cells": [
  {
   "cell_type": "code",
   "execution_count": 2,
   "metadata": {},
   "outputs": [],
   "source": [
    "import matplotlib\n",
    "import os\n",
    "import inspect\n",
    "import requests\n",
    "import time\n",
    "from tqdm.notebook import tqdm\n",
    "import random\n",
    "import pandas as pnd\n",
    "from boardgamegeek import BoardGameGeek"
   ]
  },
  {
   "cell_type": "markdown",
   "metadata": {},
   "source": [
    "## Step 1\n",
    "\n",
    "Access BBG API's to download game and user preferences data. Define criterion used for setting the parameters that drive the download in termis of the variables defining the dataset, such collecting games only for a specified period or a specified set of categories. The wider the game collection, the better.\n"
   ]
  },
  {
   "cell_type": "markdown",
   "metadata": {},
   "source": [
    "### Reading of latest dataset"
   ]
  },
  {
   "cell_type": "code",
   "execution_count": 3,
   "metadata": {},
   "outputs": [
    {
     "data": {
      "text/plain": [
       "(18931, 9)"
      ]
     },
     "execution_count": 3,
     "metadata": {},
     "output_type": "execute_result"
    }
   ],
   "source": [
    "df = pnd.read_csv(\"BGG_latest.csv\")\n",
    "df.shape"
   ]
  },
  {
   "cell_type": "markdown",
   "metadata": {},
   "source": [
    "### Selecting timeframe of 20 years to be analyzed"
   ]
  },
  {
   "cell_type": "code",
   "execution_count": 4,
   "metadata": {},
   "outputs": [
    {
     "name": "stdout",
     "output_type": "stream",
     "text": [
      "ID\n",
      "Name\n",
      "Year\n",
      "Rank\n",
      "Average\n",
      "Bayes average\n",
      "Users rated\n",
      "URL\n",
      "Thumbnail\n",
      "\n",
      "Shape:  (14115, 9)\n"
     ]
    },
    {
     "data": {
      "text/html": [
       "<div>\n",
       "<style scoped>\n",
       "    .dataframe tbody tr th:only-of-type {\n",
       "        vertical-align: middle;\n",
       "    }\n",
       "\n",
       "    .dataframe tbody tr th {\n",
       "        vertical-align: top;\n",
       "    }\n",
       "\n",
       "    .dataframe thead th {\n",
       "        text-align: right;\n",
       "    }\n",
       "</style>\n",
       "<table border=\"1\" class=\"dataframe\">\n",
       "  <thead>\n",
       "    <tr style=\"text-align: right;\">\n",
       "      <th></th>\n",
       "      <th>ID</th>\n",
       "      <th>Name</th>\n",
       "      <th>Year</th>\n",
       "      <th>Rank</th>\n",
       "      <th>Average</th>\n",
       "      <th>Bayes average</th>\n",
       "      <th>Users rated</th>\n",
       "      <th>URL</th>\n",
       "      <th>Thumbnail</th>\n",
       "    </tr>\n",
       "  </thead>\n",
       "  <tbody>\n",
       "    <tr>\n",
       "      <th>851</th>\n",
       "      <td>34084</td>\n",
       "      <td>Witch's Brew</td>\n",
       "      <td>2008</td>\n",
       "      <td>852</td>\n",
       "      <td>7.03</td>\n",
       "      <td>6.587</td>\n",
       "      <td>3581</td>\n",
       "      <td>/boardgame/34084/witchs-brew</td>\n",
       "      <td>https://cf.geekdo-images.com/micro/img/H2bwR-T...</td>\n",
       "    </tr>\n",
       "  </tbody>\n",
       "</table>\n",
       "</div>"
      ],
      "text/plain": [
       "        ID          Name  Year  Rank  Average  Bayes average  Users rated  \\\n",
       "851  34084  Witch's Brew  2008   852     7.03          6.587         3581   \n",
       "\n",
       "                              URL  \\\n",
       "851  /boardgame/34084/witchs-brew   \n",
       "\n",
       "                                             Thumbnail  \n",
       "851  https://cf.geekdo-images.com/micro/img/H2bwR-T...  "
      ]
     },
     "execution_count": 4,
     "metadata": {},
     "output_type": "execute_result"
    }
   ],
   "source": [
    "df = df.loc[df[\"Year\"].isin(range(2000, 2020))]\n",
    "for col in df.columns:\n",
    "    print(col)\n",
    "print(\"\\nShape: \", df.shape)\n",
    "df.loc[df[\"ID\"] == 34084]\n",
    "#df_sample = df.sample(frac=0.6).reset_index(drop=True)\n",
    "#df_sample = df"
   ]
  },
  {
   "cell_type": "markdown",
   "metadata": {},
   "source": [
    "### Construction of new dataframe with notable columns\n",
    "<ul>\n",
    "\t<li>Eventual implementation of \"Error_row\", a list to correct the errors in retrieval phase</li>\n",
    "</ul>"
   ]
  },
  {
   "cell_type": "code",
   "execution_count": 5,
   "metadata": {},
   "outputs": [],
   "source": [
    "bgg = BoardGameGeek()\n",
    "g = bgg.game(name=None, game_id=34084)"
   ]
  },
  {
   "cell_type": "code",
   "execution_count": 7,
   "metadata": {},
   "outputs": [],
   "source": [
    "cols = list(g.__dict__[\"_data\"])\n",
    "new_df = pnd.DataFrame(columns = cols)\n",
    "new_df = new_df.drop([\"thumbnail\", \"image\", \"expansion\", \"implementations\", \"expansions\", \"expands\", \n",
    "             \"alternative_names\", \"trading\", \"wanting\", \"wishing\", \"numcomments\"], axis=1)\n",
    "error_row = []\n",
    "#new_df"
   ]
  },
  {
   "cell_type": "markdown",
   "metadata": {},
   "source": [
    "#### Retrieval of row informations via API request\n",
    "<ul>\n",
    "    <li>Some errors in retrieval phase pop up. Have to fix them, may do it in finale phase.</li>\n",
    "    <li>Could clean it, may do it later.</li>\n",
    "</ul>"
   ]
  },
  {
   "cell_type": "code",
   "execution_count": null,
   "metadata": {},
   "outputs": [],
   "source": [
    "for index, row in tqdm(list(df_sample.iterrows())):\n",
    "    try:\n",
    "        g = bgg.game(name=None, game_id=row[\"ID\"])\n",
    "        new_row = {}\n",
    "        for k, v in g.__dict__[\"_data\"].items():\n",
    "            if k in new_df.columns:\n",
    "                #print(\"{0}: {1}\".format(k, v))\n",
    "                new_row[k] = v\n",
    "        new_df = new_df.append(new_row, ignore_index=True)\n",
    "    except:\n",
    "        print(\"Error on iteration row {0}\".format(index))\n",
    "        #error_row.append(df_sample.iloc[index])\n",
    "        g = bgg.game(name=None, game_id=row[\"ID\"])\n",
    "        new_row = {}\n",
    "        for k, v in g.__dict__[\"_data\"].items():\n",
    "            if k in new_df.columns:\n",
    "                #print(\"{0}: {1}\".format(k, v))\n",
    "                new_row[k] = v\n",
    "        new_df = new_df.append(new_row, ignore_index=True)\n",
    "        pass\n",
    "    time.sleep(0.5)"
   ]
  },
  {
   "cell_type": "markdown",
   "metadata": {},
   "source": [
    "##### Correct retriever, modified in upper cell in order to try something more complex eventually. Make it \"code\" to try it\n",
    "\n",
    "for index, row in tqdm(list(df_sample.iterrows())):\n",
    "    try:\n",
    "        g = bgg.game(name=None, game_id=row[\"ID\"])\n",
    "        new_row = {}\n",
    "        for k, v in g.__dict__[\"_data\"].items():\n",
    "            if k in new_df.columns:\n",
    "                #print(\"{0}: {1}\".format(k, v))\n",
    "                new_row[k] = v\n",
    "        new_df = new_df.append(new_row, ignore_index=True)\n",
    "    except:\n",
    "        print(\"Error on iteration row {0}\".format(index))\n",
    "        error_row.append(df_sample.iloc[index])\n",
    "        pass\n",
    "    time.sleep(0.5)"
   ]
  },
  {
   "cell_type": "markdown",
   "metadata": {},
   "source": [
    "##### Stub error solver, make it \"code\" to try it\n",
    "while len(error_row) > 0:\n",
    "    try:\n",
    "        g = bgg.game(name=None, game_id=error_row[i])\n",
    "        new_row = {}\n",
    "        for k, v in g.__dict__[\"_data\"].items():\n",
    "            if k in new_df.columns:\n",
    "                new_row[k] = v\n",
    "        new_df = new_df.append(new_row, ignore_index=True)\n",
    "        error_row.pop(0)\n",
    "    except:\n",
    "        #print(\"Error on iteration row {0}\".format(index))\n",
    "        error_row.append(df_sample.iloc[index])\n",
    "        pass"
   ]
  },
  {
   "cell_type": "markdown",
   "metadata": {},
   "source": [
    "##### Dataframe cleaner from duplicates and saving to csv"
   ]
  },
  {
   "cell_type": "code",
   "execution_count": null,
   "metadata": {},
   "outputs": [],
   "source": [
    "new_df.drop_duplicates(subset=\"id\", keep=False, inplace=True)\n",
    "new_df.to_csv(\"./BGG_sampled.csv\")"
   ]
  },
  {
   "cell_type": "markdown",
   "metadata": {},
   "source": [
    "## TODO: Make a python class in order to handle all this operation cleanly"
   ]
  },
  {
   "cell_type": "code",
   "execution_count": null,
   "metadata": {},
   "outputs": [],
   "source": []
  },
  {
   "cell_type": "code",
   "execution_count": null,
   "metadata": {},
   "outputs": [],
   "source": []
  },
  {
   "cell_type": "code",
   "execution_count": null,
   "metadata": {},
   "outputs": [],
   "source": []
  }
 ],
 "metadata": {
  "kernelspec": {
   "display_name": "Python 3",
   "language": "python",
   "name": "python3"
  },
  "language_info": {
   "codemirror_mode": {
    "name": "ipython",
    "version": 3
   },
   "file_extension": ".py",
   "mimetype": "text/x-python",
   "name": "python",
   "nbconvert_exporter": "python",
   "pygments_lexer": "ipython3",
   "version": "3.7.5"
  }
 },
 "nbformat": 4,
 "nbformat_minor": 4
}
