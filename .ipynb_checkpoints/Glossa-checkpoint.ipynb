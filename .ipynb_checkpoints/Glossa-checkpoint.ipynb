{
 "cells": [
  {
   "cell_type": "code",
   "execution_count": 1,
   "metadata": {},
   "outputs": [
    {
     "name": "stdout",
     "output_type": "stream",
     "text": [
      "importing Jupyter notebook from BggHelper.ipynb\n",
      "importing Jupyter notebook from BggDbGetter.ipynb\n",
      "importing Jupyter notebook from BggDbScraper.ipynb\n"
     ]
    }
   ],
   "source": [
    "import nltk\n",
    "import string\n",
    "import import_ipynb\n",
    "import pandas as pnd\n",
    "import BggHelper as BH\n",
    "import BggDbGetter as BDG\n",
    "import BggDbScraper as BDS\n",
    "from textblob import TextBlob\n",
    "from langdetect import detect\n",
    "from tqdm.notebook import tqdm\n",
    "from iso_language_codes import *\n",
    "from nltk.stem import LancasterStemmer, WordNetLemmatizer\n",
    "from nltk.corpus import stopwords\n",
    "from nltk.tokenize import word_tokenize\n",
    "from boardgamegeek import BoardGameGeek"
   ]
  },
  {
   "cell_type": "code",
   "execution_count": 2,
   "metadata": {},
   "outputs": [],
   "source": [
    "class Glossa:\n",
    "    def __init__(self, dataframe, lang):\n",
    "        self._dataframe = dataframe\n",
    "        self._lang = lang\n",
    "        self._stopwords = set([word.replace(\"'\", \"\") for word in stopwords.words(language(lang)[\"Name\"].lower())]) | (set(string.punctuation))\n",
    "    def useless_langs_remover(self, field):\n",
    "        ## This function removes every row in the dataframe not of the specified language\n",
    "        for i, row in tqdm((self._dataframe.iterrows())):\n",
    "            text = row[field]\n",
    "            #print(text)\n",
    "            try:\n",
    "                if text == \"\" or text == \" \" or (not(detect(text) == self._lang)):\n",
    "                    self._dataframe = self._dataframe.drop(index=i)\n",
    "            except:\n",
    "                self._dataframe = self._dataframe.drop(index=i)\n",
    "                pass\n",
    "        self._dataframe.reset_index(drop=True, inplace=True)\n",
    "        return self\n",
    "    def stopwords_removal(self, field):\n",
    "        for index, row in tqdm(list(self._dataframe.iterrows())):\n",
    "            tokenized = word_tokenize(row[field].replace(\"'\", \"\"))\n",
    "            self._dataframe[field][index] = ([str(w).lower().replace(\"'\", \"\") for w in tokenized if not (w in self._stopwords)])\n",
    "        self._dataframe.reset_index(drop=True, inplace=True)\n",
    "        return self\n",
    "    def lemming(self, field):\n",
    "        word_lemmatizer = WordNetLemmatizer()\n",
    "        for index, row in tqdm(list(self._dataframe.iterrows())):\n",
    "            self._dataframe[field][index] = ([str(word_lemmatizer.lemmatize(w)) for w in row[field] if not (w in self._stopwords or w in set([\"“\", \"”\", \"’\"]))])\n",
    "        self._dataframe.reset_index(drop=True, inplace=True)\n",
    "        return self\n",
    "    def stemming(self, field):\n",
    "        lancaster = LancasterStemmer()\n",
    "        for index, row in tqdm(list(self._dataframe.iterrows())):\n",
    "            self._dataframe[field][index] = ([str(lancaster.stem(w)) for w in row[field] if not (w in self._stopwords or w in set([\"“\", \"”\", \"’\"]))])\n",
    "        self._dataframe.reset_index(drop=True, inplace=True)\n",
    "        return self\n",
    "    def get_df(self):\n",
    "        return self._dataframe\n",
    "        "
   ]
  },
  {
   "cell_type": "markdown",
   "metadata": {},
   "source": [
    "d = {'col1': [\"The sky opened up as me and myself shat. it's folly!\", \"Mi chiamo Mario?\", \"I don't know where to start!\"], 'col2': [0, 1, 2]}\n",
    "df = pnd.DataFrame(data=d)"
   ]
  },
  {
   "cell_type": "markdown",
   "metadata": {},
   "source": [
    "a = Glossa(df, \"en\")"
   ]
  },
  {
   "cell_type": "markdown",
   "metadata": {},
   "source": [
    "a = (a.useless_langs_remover(\"col1\"))#.stopwords_removal(\"col1\")\n",
    "a.get_df()"
   ]
  },
  {
   "cell_type": "markdown",
   "metadata": {},
   "source": [
    "### Time to preprocess"
   ]
  },
  {
   "cell_type": "markdown",
   "metadata": {},
   "source": [
    "sw = set(stopwords.words(\"english\"))"
   ]
  },
  {
   "cell_type": "markdown",
   "metadata": {},
   "source": [
    "language(\"en\")[\"Name\"].lower()"
   ]
  },
  {
   "cell_type": "markdown",
   "metadata": {},
   "source": [
    "a.get_df()[\"col1\"]"
   ]
  },
  {
   "cell_type": "markdown",
   "metadata": {},
   "source": [
    "a = a.stopwords_removal(\"col1\")\n"
   ]
  },
  {
   "cell_type": "markdown",
   "metadata": {},
   "source": [
    "a.stemming(\"col1\").get_df()"
   ]
  }
 ],
 "metadata": {
  "kernelspec": {
   "display_name": "Python 3",
   "language": "python",
   "name": "python3"
  },
  "language_info": {
   "codemirror_mode": {
    "name": "ipython",
    "version": 3
   },
   "file_extension": ".py",
   "mimetype": "text/x-python",
   "name": "python",
   "nbconvert_exporter": "python",
   "pygments_lexer": "ipython3",
   "version": "3.7.5"
  }
 },
 "nbformat": 4,
 "nbformat_minor": 4
}
