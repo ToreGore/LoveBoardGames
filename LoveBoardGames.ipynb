{
 "cells": [
  {
   "cell_type": "code",
   "execution_count": 1,
   "metadata": {},
   "outputs": [
    {
     "name": "stdout",
     "output_type": "stream",
     "text": [
      "importing Jupyter notebook from Cicero.ipynb\n",
      "importing Jupyter notebook from BggHelper.ipynb\n",
      "importing Jupyter notebook from BggDbGetter.ipynb\n",
      "importing Jupyter notebook from BggDbScraper.ipynb\n",
      "importing Jupyter notebook from Glossa.ipynb\n"
     ]
    }
   ],
   "source": [
    "import os\n",
    "import time\n",
    "import random\n",
    "import requests\n",
    "import import_ipynb\n",
    "import Cicero as Cic\n",
    "import pandas as pnd\n",
    "import Glossa as glos\n",
    "import BggHelper as BH\n",
    "import BggDbGetter as BDG\n",
    "import BggDbScraper as BDS\n",
    "from langdetect import detect\n",
    "from tqdm.notebook import tqdm\n",
    "from boardgamegeek import BoardGameGeek"
   ]
  },
  {
   "cell_type": "markdown",
   "metadata": {},
   "source": [
    "# Step 1\n",
    "\n",
    "Access BBG API's to download game and user preferences data.\n",
    "Define criterion used for setting the parameters that drive the download in termis of the variables defining the dataset, such collecting games only for a specified period or a specified set of categories. The wider the game collection, the better."
   ]
  },
  {
   "cell_type": "code",
   "execution_count": 2,
   "metadata": {},
   "outputs": [],
   "source": [
    "helper = BH.BggHelper()\n",
    "new_df = helper.bgg_start(get=False, scrape=False)"
   ]
  },
  {
   "cell_type": "markdown",
   "metadata": {},
   "source": [
    "#### Dataframe reading"
   ]
  },
  {
   "cell_type": "code",
   "execution_count": 3,
   "metadata": {},
   "outputs": [],
   "source": [
    "df = pnd.read_csv(\"BGG_sampled.csv\")\n",
    "df.shape\n",
    "dfh = df"
   ]
  },
  {
   "cell_type": "code",
   "execution_count": 4,
   "metadata": {},
   "outputs": [
    {
     "data": {
      "text/plain": [
       "Index(['Unnamed: 0', 'boardgame_rank', 'id', 'families', 'categories',\n",
       "       'mechanics', 'designers', 'artists', 'publishers', 'description',\n",
       "       'yearpublished', 'minplayers', 'maxplayers', 'playingtime', 'minage',\n",
       "       'name', 'usersrated', 'average', 'bayesaverage', 'stddev', 'owned',\n",
       "       'numweights', 'averageweight', 'ranks'],\n",
       "      dtype='object')"
      ]
     },
     "execution_count": 4,
     "metadata": {},
     "output_type": "execute_result"
    }
   ],
   "source": [
    "df.columns"
   ]
  },
  {
   "cell_type": "code",
   "execution_count": 5,
   "metadata": {},
   "outputs": [],
   "source": [
    "gls = glos.Glossa(dfh, \"en\")\n",
    "cicero = Cic.Cicero(gls)"
   ]
  },
  {
   "cell_type": "code",
   "execution_count": 6,
   "metadata": {},
   "outputs": [],
   "source": [
    "#gls.get_interesting_fields([\"name\", \"usersrated\", \"description\"])"
   ]
  },
  {
   "cell_type": "code",
   "execution_count": 7,
   "metadata": {},
   "outputs": [
    {
     "data": {
      "application/vnd.jupyter.widget-view+json": {
       "model_id": "f8c8036a41b44d4d91715079331db6f4",
       "version_major": 2,
       "version_minor": 0
      },
      "text/plain": [
       "HBox(children=(FloatProgress(value=1.0, bar_style='info', max=1.0), HTML(value='')))"
      ]
     },
     "metadata": {},
     "output_type": "display_data"
    },
    {
     "name": "stdout",
     "output_type": "stream",
     "text": [
      "\n"
     ]
    },
    {
     "data": {
      "application/vnd.jupyter.widget-view+json": {
       "model_id": "96e42017292d4d418c83f17383cb0de2",
       "version_major": 2,
       "version_minor": 0
      },
      "text/plain": [
       "HBox(children=(FloatProgress(value=0.0, max=14038.0), HTML(value='')))"
      ]
     },
     "metadata": {},
     "output_type": "display_data"
    },
    {
     "name": "stderr",
     "output_type": "stream",
     "text": [
      "Glossa.ipynb:22: SettingWithCopyWarning: \n",
      "A value is trying to be set on a copy of a slice from a DataFrame\n",
      "\n",
      "See the caveats in the documentation: https://pandas.pydata.org/pandas-docs/stable/user_guide/indexing.html#returning-a-view-versus-a-copy\n",
      "  \"import pandas as pnd\\n\",\n"
     ]
    },
    {
     "name": "stdout",
     "output_type": "stream",
     "text": [
      "\n"
     ]
    },
    {
     "data": {
      "application/vnd.jupyter.widget-view+json": {
       "model_id": "13e4a98e63a546f49fd485ab06e9024a",
       "version_major": 2,
       "version_minor": 0
      },
      "text/plain": [
       "HBox(children=(FloatProgress(value=0.0, max=14038.0), HTML(value='')))"
      ]
     },
     "metadata": {},
     "output_type": "display_data"
    },
    {
     "name": "stderr",
     "output_type": "stream",
     "text": [
      "Glossa.ipynb:30: SettingWithCopyWarning: \n",
      "A value is trying to be set on a copy of a slice from a DataFrame\n",
      "\n",
      "See the caveats in the documentation: https://pandas.pydata.org/pandas-docs/stable/user_guide/indexing.html#returning-a-view-versus-a-copy\n",
      "  \"from nltk.stem import LancasterStemmer, WordNetLemmatizer\\n\",\n",
      "Glossa.ipynb:31: SettingWithCopyWarning: \n",
      "A value is trying to be set on a copy of a slice from a DataFrame\n",
      "\n",
      "See the caveats in the documentation: https://pandas.pydata.org/pandas-docs/stable/user_guide/indexing.html#returning-a-view-versus-a-copy\n",
      "  \"from nltk.corpus import stopwords\\n\",\n"
     ]
    },
    {
     "name": "stdout",
     "output_type": "stream",
     "text": [
      "\n"
     ]
    }
   ],
   "source": [
    "#stub = cicero.clean_lemming(\"description\")\n",
    "cicero = cicero.clean_lemming(\"description\")"
   ]
  },
  {
   "cell_type": "code",
   "execution_count": 8,
   "metadata": {},
   "outputs": [
    {
     "data": {
      "application/vnd.jupyter.widget-view+json": {
       "model_id": "948493063092466a8f324daaf9c51824",
       "version_major": 2,
       "version_minor": 0
      },
      "text/plain": [
       "HBox(children=(FloatProgress(value=0.0, max=14038.0), HTML(value='')))"
      ]
     },
     "metadata": {},
     "output_type": "display_data"
    },
    {
     "name": "stdout",
     "output_type": "stream",
     "text": [
      "\n"
     ]
    },
    {
     "data": {
      "application/vnd.jupyter.widget-view+json": {
       "model_id": "aeab31e88bb949f0bc2c3aef598d2b07",
       "version_major": 2,
       "version_minor": 0
      },
      "text/plain": [
       "HBox(children=(FloatProgress(value=0.0, max=14038.0), HTML(value='')))"
      ]
     },
     "metadata": {},
     "output_type": "display_data"
    },
    {
     "name": "stdout",
     "output_type": "stream",
     "text": [
      "\n"
     ]
    }
   ],
   "source": [
    "#stub = cicero.eng_lemming(\"name\")\n",
    "cicero = cicero.eng_lemming(\"name\")"
   ]
  },
  {
   "cell_type": "code",
   "execution_count": 9,
   "metadata": {},
   "outputs": [
    {
     "data": {
      "application/vnd.jupyter.widget-view+json": {
       "model_id": "85f5e9e04540429c90bb7d6174e1a0fb",
       "version_major": 2,
       "version_minor": 0
      },
      "text/plain": [
       "HBox(children=(FloatProgress(value=1.0, bar_style='info', max=1.0), HTML(value='')))"
      ]
     },
     "metadata": {},
     "output_type": "display_data"
    },
    {
     "name": "stdout",
     "output_type": "stream",
     "text": [
      "\n"
     ]
    },
    {
     "data": {
      "application/vnd.jupyter.widget-view+json": {
       "model_id": "7f7300b5d3e84eb681b8015dfb288833",
       "version_major": 2,
       "version_minor": 0
      },
      "text/plain": [
       "HBox(children=(FloatProgress(value=0.0, max=8077.0), HTML(value='')))"
      ]
     },
     "metadata": {},
     "output_type": "display_data"
    },
    {
     "name": "stdout",
     "output_type": "stream",
     "text": [
      "\n"
     ]
    },
    {
     "data": {
      "application/vnd.jupyter.widget-view+json": {
       "model_id": "472d3f608a7d43f5aae561e7ab589dfc",
       "version_major": 2,
       "version_minor": 0
      },
      "text/plain": [
       "HBox(children=(FloatProgress(value=0.0, max=8077.0), HTML(value='')))"
      ]
     },
     "metadata": {},
     "output_type": "display_data"
    },
    {
     "name": "stdout",
     "output_type": "stream",
     "text": [
      "\n"
     ]
    }
   ],
   "source": [
    "#stub = cicero.clean_lemming(\"families\")\n",
    "cicero = cicero.clean_lemming(\"families\")"
   ]
  },
  {
   "cell_type": "code",
   "execution_count": null,
   "metadata": {},
   "outputs": [],
   "source": [
    "#stub[\"name\"]"
   ]
  },
  {
   "cell_type": "code",
   "execution_count": null,
   "metadata": {},
   "outputs": [],
   "source": [
    "#stub[\"description\"].value_counts()\n",
    "#glos.Glossa(stub, \"en\").get_interesting_fields([\"name\", \"families\", \"description\"])"
   ]
  },
  {
   "cell_type": "code",
   "execution_count": 10,
   "metadata": {},
   "outputs": [
    {
     "data": {
      "application/vnd.jupyter.widget-view+json": {
       "model_id": "3e83902290534526a0427410093106f9",
       "version_major": 2,
       "version_minor": 0
      },
      "text/plain": [
       "HBox(children=(FloatProgress(value=0.0, max=8077.0), HTML(value='')))"
      ]
     },
     "metadata": {},
     "output_type": "display_data"
    },
    {
     "name": "stdout",
     "output_type": "stream",
     "text": [
      "\n"
     ]
    }
   ],
   "source": [
    "model = cicero.word2vec_train([\"name\", \"families\", \"description\"])"
   ]
  },
  {
   "cell_type": "code",
   "execution_count": 11,
   "metadata": {},
   "outputs": [
    {
     "name": "stderr",
     "output_type": "stream",
     "text": [
      "/home/tore/venv/lib/python3.7/site-packages/ipykernel_launcher.py:1: DeprecationWarning: Call to deprecated `__getitem__` (Method will be removed in 4.0.0, use self.wv.__getitem__() instead).\n",
      "  \"\"\"Entry point for launching an IPython kernel.\n"
     ]
    },
    {
     "data": {
      "text/plain": [
       "array([ 0.21467204,  0.10683513, -0.09037238, -0.06441708,  0.11019051,\n",
       "       -0.32280302, -0.19992922, -0.10190924,  0.17337987,  0.18681447,\n",
       "        0.22181189, -0.16061054, -0.10725777,  0.02592668, -0.07624428,\n",
       "        0.1575759 , -0.09080415,  0.06267717, -0.03167302, -0.13378909,\n",
       "       -0.26961964,  0.2568054 ,  0.06759249, -0.1320302 ,  0.12707536,\n",
       "        0.18337923,  0.06327916, -0.26420793, -0.14840323, -0.07681322,\n",
       "        0.00981143,  0.09535832,  0.28861603,  0.36572874, -0.0715105 ,\n",
       "        0.01140393,  0.18209966,  0.03602567, -0.03950054,  0.17510588,\n",
       "        0.00504446, -0.02765262,  0.01316215, -0.07342527,  0.14969975,\n",
       "       -0.03208447,  0.13279854,  0.24165411, -0.14197123, -0.00855118,\n",
       "       -0.12246997, -0.04831386,  0.20756908,  0.07154438, -0.0320094 ,\n",
       "        0.12471969, -0.02655767, -0.01359473, -0.03675269, -0.1221869 ,\n",
       "        0.11106967,  0.0351949 ,  0.08740759,  0.01544129, -0.19531967,\n",
       "       -0.17482688, -0.06493781, -0.00740329,  0.11161916,  0.08828329,\n",
       "       -0.19229645, -0.17144202,  0.03544826, -0.1487226 , -0.09581091,\n",
       "        0.03292827,  0.14786062,  0.02338243,  0.00484229,  0.12853289,\n",
       "        0.04528715, -0.3468501 , -0.10313806,  0.13149013, -0.23107924,\n",
       "        0.07679417, -0.05194479,  0.15019508,  0.400891  ,  0.19296692,\n",
       "       -0.07282019,  0.04123942, -0.15516633, -0.29304025, -0.12876149,\n",
       "       -0.3099612 , -0.12476482,  0.08809923,  0.10943851, -0.09965007],\n",
       "      dtype=float32)"
      ]
     },
     "execution_count": 11,
     "metadata": {},
     "output_type": "execute_result"
    }
   ],
   "source": [
    "model[\"gloomhaven\"]"
   ]
  },
  {
   "cell_type": "code",
   "execution_count": null,
   "metadata": {},
   "outputs": [],
   "source": [
    "#x"
   ]
  },
  {
   "cell_type": "code",
   "execution_count": null,
   "metadata": {},
   "outputs": [],
   "source": [
    "\"z\" < \"ð\""
   ]
  },
  {
   "cell_type": "markdown",
   "metadata": {},
   "source": [
    "bag = dict()\n",
    "for row in stub[\"description\"]:\n",
    "    b = set(row)\n",
    "    for item in b:\n",
    "        if item.isalpha():\n",
    "            bag[item] = row.count(item)\n",
    "sorted(bag.items(), key=lambda x: x[0], reverse=True)"
   ]
  },
  {
   "cell_type": "markdown",
   "metadata": {},
   "source": [
    "import string\n",
    "string.punctuation\n"
   ]
  },
  {
   "cell_type": "markdown",
   "metadata": {},
   "source": [
    "# Step 2\n",
    "Pre-process game text (title and description) in order to define the terms to include in the variables to be observed, eventually using a word embedding model to normalize and/or expand the terminology extracted from the game description."
   ]
  },
  {
   "cell_type": "markdown",
   "metadata": {},
   "source": [
    "## Follow this url:\n",
    "### https://towardsdatascience.com/a-beginners-guide-to-word-embedding-with-gensim-word2vec-model-5970fa56cc92\n",
    "\n",
    "There is the question of HOW to train the word embedding model and how to calculate the similarity between most and least successful games. <br>\n",
    "Maybe adding a dataset column is not such a bad idea, keeps it clean and of easy computation. <br>\n",
    "Glossa and Cicero work relatively well, now a new library for this analysis is needed. Might call it Pitagora. Don't know"
   ]
  },
  {
   "cell_type": "markdown",
   "metadata": {},
   "source": [
    "#### Need to create a column in the dataframe containing all the important words in the row. <br> This takes into account Name, description, mechanics and publishers"
   ]
  },
  {
   "cell_type": "code",
   "execution_count": null,
   "metadata": {},
   "outputs": [],
   "source": [
    "df.columns"
   ]
  },
  {
   "cell_type": "code",
   "execution_count": null,
   "metadata": {},
   "outputs": [],
   "source": []
  },
  {
   "cell_type": "markdown",
   "metadata": {},
   "source": [
    "# TODO: Get most frequent words from description, discard others"
   ]
  },
  {
   "cell_type": "markdown",
   "metadata": {},
   "source": [
    "# TODO: Make class to clean dataframe and keep only selected language (English) descriptions : DONE\n",
    "\n",
    "### Word normalization time\n",
    "For each entry of the dataset the following must be done:\n",
    "<ol>\n",
    "    <li>Clean dataframe from shit entries [Done]</li>\n",
    "    <li>Take description field</li>\n",
    "    <li>Remove stopwords</li>\n",
    "    <li>Stem words</li>\n",
    "    <li>Create normalized description with word embedding model</li>\n",
    "    <li>Override description field (or create new Dataset)</li>\n",
    "</ol>"
   ]
  },
  {
   "cell_type": "markdown",
   "metadata": {},
   "source": [
    "langs = list()\n",
    "for row in tqdm(list(df.iterrows())):\n",
    "    try:\n",
    "        langs.append(detect(row[1][\"description\"]))\n",
    "    except:\n",
    "        pass"
   ]
  },
  {
   "cell_type": "markdown",
   "metadata": {},
   "source": [
    "set_langs = set(langs)\n",
    "for i in set_langs:\n",
    "    print(\"{0}: {1}\".format(i, langs.count(i)))"
   ]
  },
  {
   "cell_type": "markdown",
   "metadata": {},
   "source": [
    "df.head()\n",
    "#df[df.name == \"Gloomhaven\"]\n",
    "#df[df.name != \"Gloomhaven\"]"
   ]
  },
  {
   "cell_type": "markdown",
   "metadata": {},
   "source": [
    "## Step 3\n",
    "Perform a correlation analysis of the variables. On top of this, try to design and implement a model for predicting the \"subjective\" variable values starting from the \"objective\" variables. Optionally, define a recommendation system for games."
   ]
  },
  {
   "cell_type": "code",
   "execution_count": null,
   "metadata": {},
   "outputs": [],
   "source": []
  },
  {
   "cell_type": "markdown",
   "metadata": {},
   "source": [
    "## Step 4\n",
    "Include in the paper a report describing the output of Step 3"
   ]
  },
  {
   "cell_type": "code",
   "execution_count": null,
   "metadata": {},
   "outputs": [],
   "source": []
  }
 ],
 "metadata": {
  "kernelspec": {
   "display_name": "Python 3",
   "language": "python",
   "name": "python3"
  },
  "language_info": {
   "codemirror_mode": {
    "name": "ipython",
    "version": 3
   },
   "file_extension": ".py",
   "mimetype": "text/x-python",
   "name": "python",
   "nbconvert_exporter": "python",
   "pygments_lexer": "ipython3",
   "version": "3.7.5"
  }
 },
 "nbformat": 4,
 "nbformat_minor": 4
}
