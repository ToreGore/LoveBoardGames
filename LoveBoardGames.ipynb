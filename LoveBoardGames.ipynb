{
 "cells": [
  {
   "cell_type": "code",
   "execution_count": 19,
   "metadata": {},
   "outputs": [],
   "source": [
    "import matplotlib\n",
    "import boardgamegeek as bgg\n",
    "import os\n",
    "import requests\n",
    "import pandas as pnd"
   ]
  },
  {
   "cell_type": "markdown",
   "metadata": {},
   "source": [
    "# Step 1\n",
    "\n",
    "Access BBG API's to download game and user preferences data.\n",
    "Define criterion used for setting the parameters that drive the download in termis of the variables defining the dataset, such collecting games only for a specified period or a specified set of categories. The wider the game collection, the better."
   ]
  },
  {
   "cell_type": "markdown",
   "metadata": {},
   "source": [
    "### Retrieval of BGG DB"
   ]
  },
  {
   "cell_type": "code",
   "execution_count": 22,
   "metadata": {
    "scrolled": true
   },
   "outputs": [],
   "source": [
    "url = \"https://raw.githubusercontent.com/beefsack/bgg-ranking-historicals/705e64381e3ccb16d8b725baabb9f2bd4bcb98d3/2020-05-23.csv\"\n",
    "response = requests.get(url)\n",
    "with open(os.path.join(\".\", \"BGG_latest.csv\"), \"wb\") as f:\n",
    "    f.write(response.content)"
   ]
  },
  {
   "cell_type": "code",
   "execution_count": 24,
   "metadata": {
    "scrolled": true
   },
   "outputs": [],
   "source": [
    "dataframe = pnd.read_csv(url)"
   ]
  },
  {
   "cell_type": "code",
   "execution_count": 30,
   "metadata": {},
   "outputs": [
    {
     "data": {
      "text/html": [
       "<div>\n",
       "<style scoped>\n",
       "    .dataframe tbody tr th:only-of-type {\n",
       "        vertical-align: middle;\n",
       "    }\n",
       "\n",
       "    .dataframe tbody tr th {\n",
       "        vertical-align: top;\n",
       "    }\n",
       "\n",
       "    .dataframe thead th {\n",
       "        text-align: right;\n",
       "    }\n",
       "</style>\n",
       "<table border=\"1\" class=\"dataframe\">\n",
       "  <thead>\n",
       "    <tr style=\"text-align: right;\">\n",
       "      <th></th>\n",
       "      <th>ID</th>\n",
       "      <th>Name</th>\n",
       "      <th>Year</th>\n",
       "      <th>Rank</th>\n",
       "      <th>Average</th>\n",
       "      <th>Bayes average</th>\n",
       "      <th>Users rated</th>\n",
       "      <th>URL</th>\n",
       "      <th>Thumbnail</th>\n",
       "    </tr>\n",
       "  </thead>\n",
       "  <tbody>\n",
       "    <tr>\n",
       "      <th>255</th>\n",
       "      <td>1</td>\n",
       "      <td>Die Macher</td>\n",
       "      <td>1986</td>\n",
       "      <td>256</td>\n",
       "      <td>7.63</td>\n",
       "      <td>7.154</td>\n",
       "      <td>5013</td>\n",
       "      <td>/boardgame/1/die-macher</td>\n",
       "      <td>https://cf.geekdo-images.com/micro/img/PIQmNBM...</td>\n",
       "    </tr>\n",
       "    <tr>\n",
       "      <th>3452</th>\n",
       "      <td>2</td>\n",
       "      <td>Dragonmaster</td>\n",
       "      <td>1981</td>\n",
       "      <td>3453</td>\n",
       "      <td>6.62</td>\n",
       "      <td>5.808</td>\n",
       "      <td>544</td>\n",
       "      <td>/boardgame/2/dragonmaster</td>\n",
       "      <td>https://cf.geekdo-images.com/micro/img/GjYccOg...</td>\n",
       "    </tr>\n",
       "    <tr>\n",
       "      <th>201</th>\n",
       "      <td>3</td>\n",
       "      <td>Samurai</td>\n",
       "      <td>1998</td>\n",
       "      <td>202</td>\n",
       "      <td>7.44</td>\n",
       "      <td>7.247</td>\n",
       "      <td>14226</td>\n",
       "      <td>/boardgame/3/samurai</td>\n",
       "      <td>https://cf.geekdo-images.com/micro/img/4XUy5Qx...</td>\n",
       "    </tr>\n",
       "    <tr>\n",
       "      <th>4557</th>\n",
       "      <td>4</td>\n",
       "      <td>Tal der Könige</td>\n",
       "      <td>1992</td>\n",
       "      <td>4558</td>\n",
       "      <td>6.61</td>\n",
       "      <td>5.702</td>\n",
       "      <td>332</td>\n",
       "      <td>/boardgame/4/tal-der-konige</td>\n",
       "      <td>https://cf.geekdo-images.com/micro/img/x2IMJSP...</td>\n",
       "    </tr>\n",
       "    <tr>\n",
       "      <th>247</th>\n",
       "      <td>5</td>\n",
       "      <td>Acquire</td>\n",
       "      <td>1964</td>\n",
       "      <td>248</td>\n",
       "      <td>7.35</td>\n",
       "      <td>7.167</td>\n",
       "      <td>17726</td>\n",
       "      <td>/boardgame/5/acquire</td>\n",
       "      <td>https://cf.geekdo-images.com/micro/img/SR4x4Yj...</td>\n",
       "    </tr>\n",
       "  </tbody>\n",
       "</table>\n",
       "</div>"
      ],
      "text/plain": [
       "      ID            Name  Year  Rank  Average  Bayes average  Users rated  \\\n",
       "255    1      Die Macher  1986   256     7.63          7.154         5013   \n",
       "3452   2    Dragonmaster  1981  3453     6.62          5.808          544   \n",
       "201    3         Samurai  1998   202     7.44          7.247        14226   \n",
       "4557   4  Tal der Könige  1992  4558     6.61          5.702          332   \n",
       "247    5         Acquire  1964   248     7.35          7.167        17726   \n",
       "\n",
       "                              URL  \\\n",
       "255       /boardgame/1/die-macher   \n",
       "3452    /boardgame/2/dragonmaster   \n",
       "201          /boardgame/3/samurai   \n",
       "4557  /boardgame/4/tal-der-konige   \n",
       "247          /boardgame/5/acquire   \n",
       "\n",
       "                                              Thumbnail  \n",
       "255   https://cf.geekdo-images.com/micro/img/PIQmNBM...  \n",
       "3452  https://cf.geekdo-images.com/micro/img/GjYccOg...  \n",
       "201   https://cf.geekdo-images.com/micro/img/4XUy5Qx...  \n",
       "4557  https://cf.geekdo-images.com/micro/img/x2IMJSP...  \n",
       "247   https://cf.geekdo-images.com/micro/img/SR4x4Yj...  "
      ]
     },
     "execution_count": 30,
     "metadata": {},
     "output_type": "execute_result"
    }
   ],
   "source": [
    "dataframe.sort_values(by=[\"ID\"]).head()"
   ]
  },
  {
   "cell_type": "code",
   "execution_count": null,
   "metadata": {},
   "outputs": [],
   "source": []
  },
  {
   "cell_type": "markdown",
   "metadata": {},
   "source": [
    "## Step 2\n",
    "Pre-process game text (title and decription) in order to define the terms to include in the variables to be observed, eventually using a word embedding model to normalize and/or expand the teminology extracted from the game description\n"
   ]
  },
  {
   "cell_type": "code",
   "execution_count": null,
   "metadata": {},
   "outputs": [],
   "source": []
  },
  {
   "cell_type": "markdown",
   "metadata": {},
   "source": [
    "## Step 3\n",
    "Perform a correlation analysis of the variables. On top of this, try to design and implement a model for predicting the \"subjective\" variable values starting from the \"objective\" variables. Optionally, define a recommendation system for games."
   ]
  },
  {
   "cell_type": "code",
   "execution_count": null,
   "metadata": {},
   "outputs": [],
   "source": []
  },
  {
   "cell_type": "markdown",
   "metadata": {},
   "source": [
    "## Step 4\n",
    "Include in the paper a report describing the output of Step 3"
   ]
  },
  {
   "cell_type": "code",
   "execution_count": null,
   "metadata": {},
   "outputs": [],
   "source": []
  }
 ],
 "metadata": {
  "kernelspec": {
   "display_name": "Python 3",
   "language": "python",
   "name": "python3"
  },
  "language_info": {
   "codemirror_mode": {
    "name": "ipython",
    "version": 3
   },
   "file_extension": ".py",
   "mimetype": "text/x-python",
   "name": "python",
   "nbconvert_exporter": "python",
   "pygments_lexer": "ipython3",
   "version": "3.7.5"
  }
 },
 "nbformat": 4,
 "nbformat_minor": 4
}
